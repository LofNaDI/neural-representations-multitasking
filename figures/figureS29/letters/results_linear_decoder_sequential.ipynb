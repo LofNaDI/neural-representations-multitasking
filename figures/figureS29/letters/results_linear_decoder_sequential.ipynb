{
 "cells": [
  {
   "cell_type": "code",
   "execution_count": 1,
   "metadata": {},
   "outputs": [],
   "source": [
    "import os\n",
    "import pickle\n",
    "\n",
    "import numpy as np\n",
    "import torch.nn as nn\n",
    "import torch.optim\n",
    "from tqdm.auto import tqdm\n",
    "from sklearn.model_selection import train_test_split\n",
    "from sklearn.linear_model import LogisticRegression\n",
    "\n",
    "import multitask.dataset as dataset\n",
    "import multitask.models.individual.hooks as hooks\n",
    "from multitask.models.individual import get_individual_model\n",
    "from multitask.utils.training import get_device\n",
    "from multitask.utils.argparse import check_runs"
   ]
  },
  {
   "cell_type": "code",
   "execution_count": 2,
   "metadata": {},
   "outputs": [],
   "source": [
    "path_data = os.path.join('..', '..', '..', 'data')\n",
    "path_pickle = os.path.join('pickle', 'results_linear_decoder_individual.pickle')\n",
    "path_model_individual = os.path.join('..', '..', '..', 'results', 'individual')"
   ]
  },
  {
   "cell_type": "code",
   "execution_count": 3,
   "metadata": {},
   "outputs": [],
   "source": [
    "num_runs = 10\n",
    "initial_seed = 1234\n",
    "max_seed = 10e5\n",
    "num_epochs = 50\n",
    "num_hidden = 10 * [100]\n",
    "batch_size = 100\n",
    "num_train = 41080\n",
    "num_test = 8216\n",
    "tasks_names = ['vowel', 'position']\n",
    "idxs_contexts = None"
   ]
  },
  {
   "cell_type": "code",
   "execution_count": 4,
   "metadata": {},
   "outputs": [
    {
     "name": "stdout",
     "output_type": "stream",
     "text": [
      "Found simulation in ../../../results/individual with the same parameters (2024-01-12_17-59-49)\n"
     ]
    }
   ],
   "source": [
    "parameters = {\n",
    "    'num_runs': num_runs,\n",
    "    'initial_seed': initial_seed,\n",
    "    'max_seed': max_seed,\n",
    "    'num_epochs': num_epochs,\n",
    "    'num_hidden': num_hidden,\n",
    "    'batch_size': batch_size,\n",
    "    'num_train': num_train,\n",
    "    'num_test': num_test,\n",
    "    'tasks': tasks_names,\n",
    "    'idxs_contexts': idxs_contexts\n",
    "}\n",
    "\n",
    "data_folder = check_runs(path_model_individual, parameters)"
   ]
  },
  {
   "cell_type": "code",
   "execution_count": 5,
   "metadata": {},
   "outputs": [],
   "source": [
    "pickle_data = os.path.join(data_folder, 'data.pickle')\n",
    "with open(pickle_data, 'rb') as handle:\n",
    "    results_individual = pickle.load(handle)"
   ]
  },
  {
   "cell_type": "code",
   "execution_count": 6,
   "metadata": {},
   "outputs": [
    {
     "name": "stdout",
     "output_type": "stream",
     "text": [
      "[165158, 220532, 318129, 451283, 486191, 514041, 818831, 869016, 908341, 978124]\n",
      "['vowel', 'position']\n"
     ]
    }
   ],
   "source": [
    "seeds = sorted(list(results_individual.keys()))\n",
    "num_seeds = len(seeds)\n",
    "num_tasks = len(tasks_names)\n",
    "\n",
    "print(seeds)\n",
    "print(tasks_names)"
   ]
  },
  {
   "cell_type": "code",
   "execution_count": 7,
   "metadata": {},
   "outputs": [],
   "source": [
    "tasks_datasets = dataset.get_tasks_dict(tasks_names, root=path_data)"
   ]
  },
  {
   "cell_type": "code",
   "execution_count": 8,
   "metadata": {},
   "outputs": [
    {
     "name": "stdout",
     "output_type": "stream",
     "text": [
      "Running on CPU.\n"
     ]
    },
    {
     "data": {
      "application/vnd.jupyter.widget-view+json": {
       "model_id": "6a1635e118244399906d9943ea1dc5f4",
       "version_major": 2,
       "version_minor": 0
      },
      "text/plain": [
       "  0%|          | 0/10 [00:00<?, ?it/s]"
      ]
     },
     "metadata": {},
     "output_type": "display_data"
    }
   ],
   "source": [
    "device = get_device()\n",
    "criterion = nn.CrossEntropyLoss()\n",
    "num_layers = len(num_hidden)\n",
    "\n",
    "list_activations = []\n",
    "list_letters = []\n",
    "\n",
    "for i_seed, seed in tqdm(enumerate(seeds), total=num_seeds):\n",
    "    task_activations = []\n",
    "    task_numbers = []\n",
    "    indices = results_individual[seed]['indices']\n",
    "\n",
    "    individual_activations = {}\n",
    "    for i_task, task_name in enumerate(tasks_names):\n",
    "        state_dict = results_individual[seed][task_name]['model']\n",
    "\n",
    "        model = get_individual_model(num_hidden,\n",
    "                                     device)\n",
    "        model.load_state_dict(state_dict)\n",
    "        model.to(device)\n",
    "\n",
    "        task_dataset = tasks_datasets[task_name]\n",
    "        test_sampler = dataset.SequentialSampler(indices['test'])\n",
    "        testloader = torch.utils.data.DataLoader(task_dataset,\n",
    "                                                 sampler=test_sampler,\n",
    "                                                 batch_size=batch_size)\n",
    "\n",
    "        letters = testloader.dataset.letters.numpy()\n",
    "        letters = letters[indices['test']]\n",
    "\n",
    "        _, activations = hooks.get_layer_activations(model,\n",
    "                                                     testloader,\n",
    "                                                     criterion,\n",
    "                                                     device=device,\n",
    "                                                     disable=True)\n",
    "        \n",
    "        \n",
    "        individual_activations[task_name] = activations\n",
    "    list_activations.append(individual_activations)\n",
    "    list_letters.append(letters)"
   ]
  },
  {
   "cell_type": "code",
   "execution_count": 9,
   "metadata": {},
   "outputs": [
    {
     "data": {
      "application/vnd.jupyter.widget-view+json": {
       "model_id": "cef67a1789e746ec9631808a0ebc2688",
       "version_major": 2,
       "version_minor": 0
      },
      "text/plain": [
       "0 [165158]:   0%|          | 0/10 [00:00<?, ?it/s]"
      ]
     },
     "metadata": {},
     "output_type": "display_data"
    },
    {
     "data": {
      "application/vnd.jupyter.widget-view+json": {
       "model_id": "73d3d0f087b3437dae9e82ed157aa799",
       "version_major": 2,
       "version_minor": 0
      },
      "text/plain": [
       "1 [220532]:   0%|          | 0/10 [00:00<?, ?it/s]"
      ]
     },
     "metadata": {},
     "output_type": "display_data"
    },
    {
     "data": {
      "application/vnd.jupyter.widget-view+json": {
       "model_id": "ef3c9f174ba34feb92298677f629657e",
       "version_major": 2,
       "version_minor": 0
      },
      "text/plain": [
       "2 [318129]:   0%|          | 0/10 [00:00<?, ?it/s]"
      ]
     },
     "metadata": {},
     "output_type": "display_data"
    },
    {
     "data": {
      "application/vnd.jupyter.widget-view+json": {
       "model_id": "407e58f6fcb04caabf6b34d8e5df71b1",
       "version_major": 2,
       "version_minor": 0
      },
      "text/plain": [
       "3 [451283]:   0%|          | 0/10 [00:00<?, ?it/s]"
      ]
     },
     "metadata": {},
     "output_type": "display_data"
    },
    {
     "data": {
      "application/vnd.jupyter.widget-view+json": {
       "model_id": "a3477161f4ad4b179342af5935d649e6",
       "version_major": 2,
       "version_minor": 0
      },
      "text/plain": [
       "4 [486191]:   0%|          | 0/10 [00:00<?, ?it/s]"
      ]
     },
     "metadata": {},
     "output_type": "display_data"
    },
    {
     "data": {
      "application/vnd.jupyter.widget-view+json": {
       "model_id": "5fc163d32ae1408cb1976d82cd66e5dc",
       "version_major": 2,
       "version_minor": 0
      },
      "text/plain": [
       "5 [514041]:   0%|          | 0/10 [00:00<?, ?it/s]"
      ]
     },
     "metadata": {},
     "output_type": "display_data"
    },
    {
     "data": {
      "application/vnd.jupyter.widget-view+json": {
       "model_id": "beb73e893a6e4597899431ba523933d1",
       "version_major": 2,
       "version_minor": 0
      },
      "text/plain": [
       "6 [818831]:   0%|          | 0/10 [00:00<?, ?it/s]"
      ]
     },
     "metadata": {},
     "output_type": "display_data"
    },
    {
     "data": {
      "application/vnd.jupyter.widget-view+json": {
       "model_id": "5cc939847e234cfdb17150ba3f7e5214",
       "version_major": 2,
       "version_minor": 0
      },
      "text/plain": [
       "7 [869016]:   0%|          | 0/10 [00:00<?, ?it/s]"
      ]
     },
     "metadata": {},
     "output_type": "display_data"
    },
    {
     "data": {
      "application/vnd.jupyter.widget-view+json": {
       "model_id": "c2faf867dbe3452897724f943e80e1b7",
       "version_major": 2,
       "version_minor": 0
      },
      "text/plain": [
       "8 [908341]:   0%|          | 0/10 [00:00<?, ?it/s]"
      ]
     },
     "metadata": {},
     "output_type": "display_data"
    },
    {
     "data": {
      "application/vnd.jupyter.widget-view+json": {
       "model_id": "bdf8f544170c461f895e63458cb820b5",
       "version_major": 2,
       "version_minor": 0
      },
      "text/plain": [
       "9 [978124]:   0%|          | 0/10 [00:00<?, ?it/s]"
      ]
     },
     "metadata": {},
     "output_type": "display_data"
    }
   ],
   "source": [
    "num_layers = len(num_hidden)\n",
    "max_iter = 8000\n",
    "\n",
    "acc_letters_all = np.zeros((num_seeds, num_layers))\n",
    "acc_tasks_all = np.zeros((num_seeds, num_layers))\n",
    "acc_congruency_all = np.zeros((num_seeds, num_layers))\n",
    "acc_output_all = np.zeros((num_seeds, num_layers))\n",
    "\n",
    "\n",
    "for i_seed, seed in enumerate(seeds):\n",
    "    activations = list_activations[i_seed]\n",
    "    numbers = list_letters[i_seed]\n",
    "\n",
    "    labels_letters = np.hstack((letters, letters))\n",
    "    labels_task = np.concatenate((np.zeros_like(letters), np.ones_like(letters)))\n",
    "    labels_congruency = np.array([1 if letter in [0, 4, 8, 14, 20, 13, 15, 16, 17, 18, 19, 21, 22, 23, 24, 25] else 0 for letter in labels_letters])\n",
    "\n",
    "    labels_output_vowel = np.array([1 if letter in [0, 4, 8, 14, 20] else 0 for letter in letters])\n",
    "    labels_output_position = np.array([1 if letter < 13 else 0 for letter in letters])\n",
    "    labels_output = np.concatenate((labels_output_vowel, labels_output_position))\n",
    "\n",
    "    for j_layer in tqdm(range(num_layers), desc=f'{i_seed} [{seed}]'):\n",
    "        activations_decoder = None\n",
    "        for task in tasks_names:\n",
    "            activations_task = activations[task][f'layer{j_layer+1}']\n",
    "            if activations_decoder is None:\n",
    "                activations_decoder = activations_task\n",
    "            else:\n",
    "                activations_decoder = np.vstack((activations_decoder, \n",
    "                                                activations_task))\n",
    "        assert activations_decoder.shape[0] == labels_letters.shape[0]\n",
    "\n",
    "        activations_decoder = (activations_decoder - activations_decoder.mean()) / activations_decoder.std()\n",
    "\n",
    "        # Letters task\n",
    "        X_train, X_test, y_train, y_test = train_test_split(activations_decoder,\n",
    "                                                            labels_letters,\n",
    "                                                            test_size=0.1,\n",
    "                                                            random_state=seed)\n",
    "        clf = LogisticRegression(random_state=seed,\n",
    "                                max_iter=max_iter,\n",
    "                                tol=1e-3).fit(X_train, y_train)\n",
    "        acc_letters_all[i_seed, j_layer] = clf.score(X_test, y_test)\n",
    "\n",
    "        # Labels task\n",
    "        X_train, X_test, y_train, y_test = train_test_split(activations_decoder,\n",
    "                                                            labels_task,\n",
    "                                                            test_size=0.1,\n",
    "                                                            random_state=seed)\n",
    "        clf = LogisticRegression(random_state=seed,\n",
    "                                max_iter=max_iter,\n",
    "                                tol=1e-3).fit(X_train, y_train)\n",
    "        acc_tasks_all[i_seed, j_layer] = clf.score(X_test, y_test)\n",
    "\n",
    "        # Congruency task\n",
    "        X_train, X_test, y_train, y_test = train_test_split(activations_decoder,\n",
    "                                                            labels_congruency,\n",
    "                                                            test_size=0.1,\n",
    "                                                            random_state=seed)\n",
    "        clf = LogisticRegression(random_state=seed,\n",
    "                                max_iter=max_iter,\n",
    "                                tol=1e-3).fit(X_train, y_train)\n",
    "        acc_congruency_all[i_seed, j_layer] = clf.score(X_test, y_test)\n",
    "\n",
    "        # Output task\n",
    "        X_train, X_test, y_train, y_test = train_test_split(activations_decoder,\n",
    "                                                            labels_output,\n",
    "                                                            test_size=0.1,\n",
    "                                                            random_state=seed)\n",
    "        clf = LogisticRegression(random_state=seed,\n",
    "                                max_iter=max_iter,\n",
    "                                tol=1e-3).fit(X_train, y_train)\n",
    "        acc_output_all[i_seed, j_layer] = clf.score(X_test, y_test)"
   ]
  },
  {
   "cell_type": "code",
   "execution_count": null,
   "metadata": {},
   "outputs": [],
   "source": [
    "results = {}\n",
    "results['letters'] = acc_letters_all\n",
    "results['tasks'] = acc_tasks_all\n",
    "results['congruency'] = acc_congruency_all\n",
    "results['output'] = acc_output_all"
   ]
  },
  {
   "cell_type": "code",
   "execution_count": null,
   "metadata": {},
   "outputs": [],
   "source": [
    "parent_pickle = os.path.dirname(path_pickle)\n",
    "\n",
    "if not os.path.exists(parent_pickle):\n",
    "    os.makedirs(parent_pickle)\n",
    "\n",
    "with open(path_pickle, 'wb') as f:\n",
    "    pickle.dump(results, f, protocol=pickle.HIGHEST_PROTOCOL)"
   ]
  }
 ],
 "metadata": {
  "kernelspec": {
   "display_name": "Python 3 (ipykernel)",
   "language": "python",
   "name": "python3"
  },
  "language_info": {
   "codemirror_mode": {
    "name": "ipython",
    "version": 3
   },
   "file_extension": ".py",
   "mimetype": "text/x-python",
   "name": "python",
   "nbconvert_exporter": "python",
   "pygments_lexer": "ipython3",
   "version": "3.8.10"
  },
  "vscode": {
   "interpreter": {
    "hash": "5de0b3d16828453b801d3a971a2e845298ac67ea708b1fd16f0d1197d2abd69f"
   }
  }
 },
 "nbformat": 4,
 "nbformat_minor": 4
}
