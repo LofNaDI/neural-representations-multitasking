{
 "cells": [
  {
   "cell_type": "code",
   "execution_count": 1,
   "metadata": {},
   "outputs": [
    {
     "ename": "ImportError",
     "evalue": "cannot import name 'calculate_rdm' from 'multitask.representations' (/Users/sgalella/Desktop/Neurocomputing Submission/code/multitask/multitask/representations/__init__.py)",
     "output_type": "error",
     "traceback": [
      "\u001b[0;31m---------------------------------------------------------------------------\u001b[0m",
      "\u001b[0;31mImportError\u001b[0m                               Traceback (most recent call last)",
      "Cell \u001b[0;32mIn[1], line 16\u001b[0m\n\u001b[1;32m     14\u001b[0m \u001b[38;5;28;01mimport\u001b[39;00m \u001b[38;5;21;01mmultitask\u001b[39;00m\u001b[38;5;21;01m.\u001b[39;00m\u001b[38;5;21;01mmodels\u001b[39;00m\u001b[38;5;21;01m.\u001b[39;00m\u001b[38;5;21;01mparallel\u001b[39;00m \u001b[38;5;28;01mas\u001b[39;00m \u001b[38;5;21;01mparallel\u001b[39;00m\n\u001b[1;32m     15\u001b[0m \u001b[38;5;28;01mimport\u001b[39;00m \u001b[38;5;21;01mmultitask\u001b[39;00m\u001b[38;5;21;01m.\u001b[39;00m\u001b[38;5;21;01mmodels\u001b[39;00m\u001b[38;5;21;01m.\u001b[39;00m\u001b[38;5;21;01mtask_switching\u001b[39;00m \u001b[38;5;28;01mas\u001b[39;00m \u001b[38;5;21;01mtask_switching\u001b[39;00m\n\u001b[0;32m---> 16\u001b[0m \u001b[38;5;28;01mfrom\u001b[39;00m \u001b[38;5;21;01mmultitask\u001b[39;00m\u001b[38;5;21;01m.\u001b[39;00m\u001b[38;5;21;01mrepresentations\u001b[39;00m \u001b[38;5;28;01mimport\u001b[39;00m get_mean_activations, calculate_rdm\n\u001b[1;32m     17\u001b[0m \u001b[38;5;28;01mfrom\u001b[39;00m \u001b[38;5;21;01mmultitask\u001b[39;00m\u001b[38;5;21;01m.\u001b[39;00m\u001b[38;5;21;01mutils\u001b[39;00m\u001b[38;5;21;01m.\u001b[39;00m\u001b[38;5;21;01mtraining\u001b[39;00m \u001b[38;5;28;01mimport\u001b[39;00m get_device\n\u001b[1;32m     18\u001b[0m \u001b[38;5;28;01mfrom\u001b[39;00m \u001b[38;5;21;01mmultitask\u001b[39;00m\u001b[38;5;21;01m.\u001b[39;00m\u001b[38;5;21;01mutils\u001b[39;00m\u001b[38;5;21;01m.\u001b[39;00m\u001b[38;5;21;01margparse\u001b[39;00m \u001b[38;5;28;01mimport\u001b[39;00m check_runs\n",
      "\u001b[0;31mImportError\u001b[0m: cannot import name 'calculate_rdm' from 'multitask.representations' (/Users/sgalella/Desktop/Neurocomputing Submission/code/multitask/multitask/representations/__init__.py)"
     ]
    }
   ],
   "source": [
    "import os\n",
    "import pickle\n",
    "\n",
    "import matplotlib as mpl\n",
    "import matplotlib.pyplot as plt\n",
    "import numpy as np\n",
    "import seaborn as sns\n",
    "import torch.nn as nn\n",
    "import torch.optim\n",
    "from tqdm.auto import tqdm\n",
    "\n",
    "import multitask.dataset as dataset\n",
    "import multitask.models.individual as individual\n",
    "import multitask.models.parallel as parallel\n",
    "import multitask.models.task_switching as task_switching\n",
    "from multitask.representations import get_mean_activations, calculate_rdm\n",
    "from multitask.utils.training import get_device\n",
    "from multitask.utils.argparse import check_runs\n"
   ]
  },
  {
   "cell_type": "code",
   "execution_count": null,
   "metadata": {},
   "outputs": [],
   "source": [
    "plt.style.use('../style/plots.mplstyle')\n",
    "palette = ['#a1c9f4ff', '#ffaaa8ff', '#8ce4a0ff']"
   ]
  },
  {
   "cell_type": "code",
   "execution_count": null,
   "metadata": {},
   "outputs": [],
   "source": [
    "path_data = os.path.join('..', '..', 'data')\n",
    "path_figure_rsa_all = os.path.join('svg', 'figure02b_rsa_models.svg')\n",
    "path_model_individual = os.path.join('..', '..', 'results', 'individual')\n",
    "path_model_parallel = os.path.join('..', '..', 'results', 'parallel')\n",
    "path_model_task_switching = os.path.join('..', '..', 'results', 'task_switching')"
   ]
  },
  {
   "cell_type": "code",
   "execution_count": null,
   "metadata": {},
   "outputs": [],
   "source": [
    "num_runs = 10\n",
    "initial_seed = 6789\n",
    "max_seed = 10e5\n",
    "num_epochs = 50\n",
    "num_hidden = 5 * [100]\n",
    "batch_size = 100\n",
    "num_train = 50000\n",
    "num_test = 10000\n",
    "tasks_names = ['parity', 'value']\n",
    "idxs_contexts = [0, 1, 2, 3, 4]"
   ]
  },
  {
   "cell_type": "markdown",
   "metadata": {},
   "source": [
    "## RSA Models"
   ]
  },
  {
   "cell_type": "code",
   "execution_count": null,
   "metadata": {},
   "outputs": [
    {
     "name": "stdout",
     "output_type": "stream",
     "text": [
      "Found simulation in ../../results/task_switching with the same parameters (2022-09-28_00_18_47)\n",
      "Found simulation in ../../results/individual with the same parameters (2022-09-27_22_43_04)\n",
      "Found simulation in ../../results/parallel with the same parameters (2022-09-27_23_18_55)\n"
     ]
    }
   ],
   "source": [
    "parameters = {\n",
    "    'num_runs': num_runs,\n",
    "    'initial_seed': initial_seed,\n",
    "    'max_seed': max_seed,\n",
    "    'num_epochs': num_epochs,\n",
    "    'num_hidden': num_hidden,\n",
    "    'batch_size': batch_size,\n",
    "    'num_train': num_train,\n",
    "    'num_test': num_test,\n",
    "    'tasks': tasks_names,\n",
    "    'idxs_contexts': idxs_contexts\n",
    "}\n",
    "data_folder_task_switching = check_runs(path_model_task_switching, parameters)\n",
    "\n",
    "parameters['idxs_contexts'] = None\n",
    "data_folder_individual = check_runs(path_model_individual, parameters)\n",
    "data_folder_parallel = check_runs(path_model_parallel, parameters)"
   ]
  },
  {
   "cell_type": "code",
   "execution_count": null,
   "metadata": {},
   "outputs": [],
   "source": [
    "pickle_data_individual = os.path.join(data_folder_individual, 'data.pickle')\n",
    "with open(pickle_data_individual, 'rb') as handle:\n",
    "    results_individual = pickle.load(handle)\n",
    "\n",
    "pickle_data_parallel = os.path.join(data_folder_parallel, 'data.pickle')\n",
    "with open(pickle_data_parallel, 'rb') as handle:\n",
    "    results_parallel = pickle.load(handle)\n",
    "\n",
    "pickle_data_task_switching = os.path.join(data_folder_task_switching, 'data.pickle')\n",
    "with open(pickle_data_task_switching, 'rb') as handle:\n",
    "    results_task_switching = pickle.load(handle)"
   ]
  },
  {
   "cell_type": "code",
   "execution_count": null,
   "metadata": {},
   "outputs": [
    {
     "name": "stdout",
     "output_type": "stream",
     "text": [
      "Running on CPU.\n"
     ]
    }
   ],
   "source": [
    "tasks_datasets = dataset.get_tasks_dict(tasks_names, root=path_data)\n",
    "device = get_device()\n",
    "criterion = nn.CrossEntropyLoss()"
   ]
  },
  {
   "cell_type": "code",
   "execution_count": null,
   "metadata": {},
   "outputs": [
    {
     "data": {
      "application/vnd.jupyter.widget-view+json": {
       "model_id": "73652680470344689cba461308c3412a",
       "version_major": 2,
       "version_minor": 0
      },
      "text/plain": [
       "  0%|          | 0/10 [00:00<?, ?it/s]"
      ]
     },
     "metadata": {},
     "output_type": "display_data"
    }
   ],
   "source": [
    "# Individual\n",
    "seeds_individuals = sorted(list(results_individual.keys()))\n",
    "num_seeds = len(seeds_individuals)\n",
    "num_layers = len(num_hidden)\n",
    "list_rdm_individual = []\n",
    "\n",
    "for i_seed, seed in tqdm(enumerate(seeds_individuals), total=num_seeds):\n",
    "    task_activations = []\n",
    "    task_numbers = []\n",
    "\n",
    "    indices = results_individual[seed]['indices']\n",
    "\n",
    "    for i_task, task_name in enumerate(tasks_names):\n",
    "        state_dict = results_individual[seed][task_name]['model']\n",
    "\n",
    "        model = individual.get_individual_model(num_hidden,\n",
    "                                                device)\n",
    "        model.load_state_dict(state_dict)\n",
    "        \n",
    "        task_dataset = tasks_datasets[task_name]\n",
    "        test_sampler = dataset.SequentialSampler(indices['test'])\n",
    "        testloader = torch.utils.data.DataLoader(task_dataset,\n",
    "                                                 sampler=test_sampler,\n",
    "                                                 batch_size=batch_size)\n",
    "\n",
    "        numbers = testloader.dataset.numbers.numpy()\n",
    "        numbers = numbers[indices['test']]\n",
    "\n",
    "        _, activations = individual.hooks.get_layer_activations(model,\n",
    "                                                                testloader,\n",
    "                                                                criterion,\n",
    "                                                                device=device,\n",
    "                                                                disable=True)\n",
    "        \n",
    "        task_activations.append(activations)\n",
    "        task_numbers.append(numbers)\n",
    "\n",
    "    mean_activations = get_mean_activations(task_activations,\n",
    "                                            num_hidden,\n",
    "                                            list_labels=task_numbers,\n",
    "                                            tasks_names=tasks_names)\n",
    "\n",
    "    rdm_dict = calculate_rdm(mean_activations,\n",
    "                             tasks_names=tasks_names)\n",
    "\n",
    "    list_rdm_individual.append(rdm_dict)"
   ]
  },
  {
   "cell_type": "code",
   "execution_count": null,
   "metadata": {},
   "outputs": [
    {
     "data": {
      "application/vnd.jupyter.widget-view+json": {
       "model_id": "ab0e29ed01844d6ead90712a0de83eb4",
       "version_major": 2,
       "version_minor": 0
      },
      "text/plain": [
       "  0%|          | 0/10 [00:00<?, ?it/s]"
      ]
     },
     "metadata": {},
     "output_type": "display_data"
    }
   ],
   "source": [
    "# parallel\n",
    "seeds_parallel = sorted(list(results_parallel.keys()))\n",
    "num_tasks = len(tasks_names)\n",
    "parallel_datasets = {}\n",
    "for task_name in tasks_names:\n",
    "    parallel_datasets[task_name] = tasks_datasets[task_name]\n",
    "\n",
    "parallel_tasks = dataset.MultilabelTasks(parallel_datasets)\n",
    "list_rdm_parallel = []\n",
    "\n",
    "for i_seed, seed in tqdm(enumerate(seeds_parallel), total=num_runs):\n",
    "    state_dict = results_parallel[seed]['model']\n",
    "    model = parallel.get_parallel_model(num_tasks,\n",
    "                               num_hidden,\n",
    "                               device)\n",
    "\n",
    "    model.load_state_dict(state_dict)\n",
    "    \n",
    "    indices = results_parallel[seed]['indices']\n",
    "\n",
    "    test_sampler = dataset.SequentialSampler(indices['test'])\n",
    "    parallel_testloader = torch.utils.data.DataLoader(parallel_tasks,\n",
    "                                                      sampler=test_sampler,\n",
    "                                                      batch_size=batch_size)\n",
    "\n",
    "    numbers = parallel_datasets[tasks_names[0]].numbers.numpy()\n",
    "    numbers = numbers[indices['test']]\n",
    "    \n",
    "    _, activations = parallel.hooks.get_layer_activations(model,\n",
    "                                                 parallel_testloader,\n",
    "                                                 criterion=criterion,\n",
    "                                                 device=device,\n",
    "                                                 disable=True)\n",
    "\n",
    "    task_activations = []\n",
    "    task_numbers = []\n",
    "    \n",
    "    for task_name in tasks_names:\n",
    "        task_activations.append(activations)\n",
    "        task_numbers.append(numbers)\n",
    "\n",
    "    mean_activations = get_mean_activations(task_activations,\n",
    "                                            num_hidden,\n",
    "                                            list_labels=task_numbers,\n",
    "                                            tasks_names=tasks_names)\n",
    "\n",
    "    rdm_dict = calculate_rdm(mean_activations,\n",
    "                             tasks_names=tasks_names)\n",
    "\n",
    "    list_rdm_parallel.append(rdm_dict)"
   ]
  },
  {
   "cell_type": "code",
   "execution_count": null,
   "metadata": {},
   "outputs": [
    {
     "name": "stdout",
     "output_type": "stream",
     "text": [
      "parity: [1, 0]\n",
      "value: [0, 1]\n"
     ]
    }
   ],
   "source": [
    "task_switching_tasks = {}\n",
    "num_tasks = len(tasks_names)\n",
    "\n",
    "for i_context, task_name in enumerate(tasks_names):\n",
    "    task_switching_tasks[task_name] = {}\n",
    "    task_switching_tasks[task_name]['data'] = tasks_datasets[task_name]\n",
    "    task_switching_tasks[task_name]['activations'] = num_tasks * [0]\n",
    "    task_switching_tasks[task_name]['activations'][i_context] = 1\n",
    "\n",
    "for key, value in task_switching_tasks.items():\n",
    "    print(f'{key}: {value[\"activations\"]}')"
   ]
  },
  {
   "cell_type": "code",
   "execution_count": null,
   "metadata": {},
   "outputs": [
    {
     "data": {
      "application/vnd.jupyter.widget-view+json": {
       "model_id": "d277dad82b124e399840dc3e030a1021",
       "version_major": 2,
       "version_minor": 0
      },
      "text/plain": [
       "  0%|          | 0/10 [00:00<?, ?it/s]"
      ]
     },
     "metadata": {},
     "output_type": "display_data"
    }
   ],
   "source": [
    "seeds_task_swithing  = sorted(list(results_task_switching.keys()))\n",
    "list_rdm_task_switching = []\n",
    "\n",
    "for i_seed, seed in tqdm(enumerate(seeds_task_swithing), total=num_runs):\n",
    "    state_dict = results_task_switching[seed]['model']\n",
    "    model = task_switching.get_task_model(task_switching_tasks,\n",
    "                           num_hidden,\n",
    "                           idxs_contexts,\n",
    "                           device)\n",
    "    model.load_state_dict(state_dict)\n",
    "    \n",
    "    indices = results_task_switching[seed]['indices']\n",
    "\n",
    "    test_sampler = dataset.SequentialSampler(indices['test'])\n",
    "    _, test_dataloaders = dataset.create_dict_dataloaders(task_switching_tasks,\n",
    "                                                          indices,\n",
    "                                                          batch_size=batch_size)\n",
    "    tasks_testloader = dataset.SequentialTaskDataloader(test_dataloaders)\n",
    "\n",
    "    numbers = test_dataloaders[tasks_names[0]].dataset.numbers.numpy()\n",
    "    numbers = numbers[indices['test']]\n",
    "\n",
    "    _, activations = task_switching.hooks.get_layer_activations(model,\n",
    "                                                tasks_testloader,\n",
    "                                                criterion,\n",
    "                                                device=device,\n",
    "                                                disable=True)\n",
    "\n",
    "    mean_activations = get_mean_activations(activations,\n",
    "                                            num_hidden,\n",
    "                                            list_labels=numbers,\n",
    "                                            tasks_names=tasks_names)\n",
    "\n",
    "    rdm_dict = calculate_rdm(mean_activations,\n",
    "                             tasks_names=tasks_names)\n",
    "\n",
    "    list_rdm_task_switching.append(rdm_dict)"
   ]
  },
  {
   "cell_type": "code",
   "execution_count": null,
   "metadata": {},
   "outputs": [],
   "source": [
    "def calculate_rsa(first_rdm_list, second_rdm_list):\n",
    "    assert len(first_rdm_list) == len(second_rdm_list)\n",
    "    num_seeds = len(first_rdm_list)\n",
    "\n",
    "    assert first_rdm_list[0].keys() == second_rdm_list[0].keys()\n",
    "    num_layers = len(first_rdm_list[0].keys())\n",
    "    rsa_matrix = np.zeros((num_seeds, num_layers))\n",
    "\n",
    "    for i_seed in range(num_seeds):\n",
    "        for i_layer in range(num_layers):\n",
    "            first_rdm = first_rdm_list[i_seed][i_layer+1].flatten()\n",
    "            second_rdm = second_rdm_list[i_seed][i_layer+1].flatten()\n",
    "            rsa_matrix[i_seed, i_layer] = np.corrcoef(first_rdm, second_rdm)[0, 1]\n",
    "    return rsa_matrix\n",
    "\n",
    "\n",
    "def calculate_rsa_diagonal(first_rdm_list, second_rdm_list):\n",
    "    assert len(first_rdm_list) == len(second_rdm_list)\n",
    "    num_seeds = len(first_rdm_list)\n",
    "\n",
    "    assert first_rdm_list[0].keys() == second_rdm_list[0].keys()\n",
    "    num_layers = len(first_rdm_list[0].keys())\n",
    "    rsa_matrix = np.zeros((num_seeds, num_layers))\n",
    "\n",
    "    for i_seed in range(num_seeds):\n",
    "        for i_layer in range(num_layers):\n",
    "            first_rdm = np.concatenate((first_rdm_list[i_seed][i_layer+1][:10, :10].flatten(),\n",
    "                                        first_rdm_list[i_seed][i_layer+1][10:, 10:].flatten()))\n",
    "            second_rdm = np.concatenate((second_rdm_list[i_seed][i_layer+1][:10, :10].flatten(),\n",
    "                                        second_rdm_list[i_seed][i_layer+1][10:, 10:].flatten()))\n",
    "            rsa_matrix[i_seed, i_layer] = np.corrcoef(first_rdm, second_rdm)[0, 1]\n",
    "    return rsa_matrix\n",
    "\n",
    "def calculate_rsa_off_diagonal(first_rdm_list, second_rdm_list):\n",
    "    assert len(first_rdm_list) == len(second_rdm_list)\n",
    "    num_seeds = len(first_rdm_list)\n",
    "\n",
    "    assert first_rdm_list[0].keys() == second_rdm_list[0].keys()\n",
    "    num_layers = len(first_rdm_list[0].keys())\n",
    "    rsa_matrix = np.zeros((num_seeds, num_layers))\n",
    "\n",
    "    for i_seed in range(num_seeds):\n",
    "        for i_layer in range(num_layers):\n",
    "            first_rdm = np.concatenate((first_rdm_list[i_seed][i_layer+1][:10, 10:].flatten(),\n",
    "                                        first_rdm_list[i_seed][i_layer+1][10:, :10].flatten()))\n",
    "            second_rdm = np.concatenate((second_rdm_list[i_seed][i_layer+1][:10, 10:].flatten(),\n",
    "                                        second_rdm_list[i_seed][i_layer+1][10:, :10].flatten()))\n",
    "            rsa_matrix[i_seed, i_layer] = np.corrcoef(first_rdm, second_rdm)[0, 1]\n",
    "    return rsa_matrix"
   ]
  },
  {
   "cell_type": "code",
   "execution_count": null,
   "metadata": {},
   "outputs": [],
   "source": [
    "rsa_individual_parallel = calculate_rsa(list_rdm_individual,\n",
    "                                        list_rdm_parallel)\n",
    "\n",
    "mean_rsa_individual_parallel = rsa_individual_parallel.mean(axis=0)\n",
    "std_rsa_individual_parallel = rsa_individual_parallel.std(axis=0)\n",
    "\n",
    "rsa_individual_task_switching = calculate_rsa(list_rdm_individual,\n",
    "                                              list_rdm_task_switching)\n",
    "\n",
    "mean_rsa_individual_task_switching = rsa_individual_task_switching.mean(axis=0)\n",
    "std_rsa_individual_task_switching = rsa_individual_task_switching.std(axis=0)\n",
    "\n",
    "rsa_parallel_task_switching = calculate_rsa(list_rdm_parallel,\n",
    "                                            list_rdm_task_switching)\n",
    "\n",
    "mean_rsa_parallel_task_switching = rsa_parallel_task_switching.mean(axis=0)\n",
    "std_rsa_parallel_task_switching = rsa_parallel_task_switching.std(axis=0)"
   ]
  },
  {
   "cell_type": "code",
   "execution_count": null,
   "metadata": {},
   "outputs": [
    {
     "data": {
      "image/png": "[encoded data removed]",
      "text/plain": [
       "<Figure size 600x400 with 1 Axes>"
      ]
     },
     "metadata": {},
     "output_type": "display_data"
    }
   ],
   "source": [
    "layers = range(1, num_layers + 1)\n",
    "fig = plt.figure(figsize=(6, 4))\n",
    "\n",
    "plt.plot(layers, mean_rsa_individual_parallel, color=palette[0])\n",
    "plt.plot(layers, mean_rsa_individual_task_switching, color=palette[1])\n",
    "plt.plot(layers, mean_rsa_parallel_task_switching, color=palette[2])\n",
    "\n",
    "plt.fill_between(layers,\n",
    "                 mean_rsa_individual_parallel-std_rsa_individual_parallel,\n",
    "                 mean_rsa_individual_parallel+std_rsa_individual_parallel,\n",
    "                 alpha=0.5,\n",
    "                 color=palette[0])\n",
    "\n",
    "plt.fill_between(layers,\n",
    "                 mean_rsa_individual_task_switching-std_rsa_individual_task_switching,\n",
    "                 mean_rsa_individual_task_switching+std_rsa_individual_task_switching,\n",
    "                 alpha=0.5,\n",
    "                 color=palette[1])\n",
    "\n",
    "\n",
    "plt.fill_between(layers,\n",
    "                 mean_rsa_parallel_task_switching-std_rsa_parallel_task_switching,\n",
    "                 mean_rsa_parallel_task_switching+std_rsa_parallel_task_switching,\n",
    "                 alpha=0.5,\n",
    "                 color=palette[2])\n",
    "\n",
    "plt.xlabel('Layer')\n",
    "plt.xticks(range(1, num_layers+1))\n",
    "plt.ylabel('Pearson Correlation')\n",
    "plt.legend(['Sequential / Parallel', 'Sequential / Task-Switching', 'Sequential / Task-Switching'], prop={'size':12})\n",
    "plt.ylabel('Pearson Correlation')\n",
    "\n",
    "fig.savefig(path_figure_rsa_all)\n",
    "plt.show()"
   ]
  }
 ],
 "metadata": {
  "kernelspec": {
   "display_name": "Python 3.8.10",
   "language": "python",
   "name": "python3"
  },
  "language_info": {
   "codemirror_mode": {
    "name": "ipython",
    "version": 3
   },
   "file_extension": ".py",
   "mimetype": "text/x-python",
   "name": "python",
   "nbconvert_exporter": "python",
   "pygments_lexer": "ipython3",
   "version": "3.8.10"
  },
  "orig_nbformat": 4,
  "vscode": {
   "interpreter": {
    "hash": "5de0b3d16828453b801d3a971a2e845298ac67ea708b1fd16f0d1197d2abd69f"
   }
  }
 },
 "nbformat": 4,
 "nbformat_minor": 2
}
