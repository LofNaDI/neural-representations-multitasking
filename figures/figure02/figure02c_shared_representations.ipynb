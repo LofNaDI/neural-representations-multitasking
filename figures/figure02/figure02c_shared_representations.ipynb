{
 "cells": [
  {
   "cell_type": "code",
   "execution_count": 1,
   "metadata": {},
   "outputs": [],
   "source": [
    "import os\n",
    "import pickle\n",
    "\n",
    "import matplotlib.pyplot as plt\n",
    "import numpy as np\n",
    "import pandas as pd\n",
    "import seaborn as sns\n",
    "\n",
    "from multitask.representations import calculate_representations"
   ]
  },
  {
   "cell_type": "code",
   "execution_count": 2,
   "metadata": {},
   "outputs": [],
   "source": [
    "plt.style.use('../style/plots.mplstyle')"
   ]
  },
  {
   "cell_type": "code",
   "execution_count": 3,
   "metadata": {},
   "outputs": [],
   "source": [
    "path_data = os.path.join('..', '..', 'data')\n",
    "path_rdm_individual = os.path.join('pickle', f'sm_individual.pickle')\n",
    "path_rdm_parallel = os.path.join('pickle', f'sm_parallel.pickle')\n",
    "path_rdm_all = os.path.join('pickle', f'sm_task_switching.pickle')"
   ]
  },
  {
   "cell_type": "code",
   "execution_count": 4,
   "metadata": {},
   "outputs": [],
   "source": [
    "path_figure = os.path.join('svg', 'figure02c_shared_representations.svg')"
   ]
  },
  {
   "cell_type": "code",
   "execution_count": 5,
   "metadata": {},
   "outputs": [],
   "source": [
    "with open(path_rdm_individual, 'rb') as handle:\n",
    "    list_rdm_individual = pickle.load(handle)\n",
    "\n",
    "with open(path_rdm_parallel, 'rb') as handle:\n",
    "    list_rdm_parallel = pickle.load(handle)\n",
    "\n",
    "with open(path_rdm_all, 'rb') as handle:\n",
    "    list_rdm_all = pickle.load(handle)"
   ]
  },
  {
   "cell_type": "code",
   "execution_count": 6,
   "metadata": {},
   "outputs": [
    {
     "name": "stdout",
     "output_type": "stream",
     "text": [
      "Num. Seeds: 10\n",
      "Num. Layers: 5\n",
      "Num. Tasks: 2\n"
     ]
    }
   ],
   "source": [
    "num_inputs = 10\n",
    "\n",
    "assert len(list_rdm_individual) == len(list_rdm_parallel) == len(list_rdm_all)\n",
    "assert len(list_rdm_individual[0]) == len(list_rdm_parallel[0]) == len(list_rdm_all[0])\n",
    "assert len(list_rdm_individual[0][1]) == len(list_rdm_parallel[0][1]) == len(list_rdm_all[0][1])\n",
    "assert len(list_rdm_individual[0][1]) % num_inputs == 0\n",
    "\n",
    "num_seeds = len(list_rdm_individual)\n",
    "num_layers = len(list_rdm_individual[0])\n",
    "num_tasks = len(list_rdm_individual[0][1]) // num_inputs\n",
    "\n",
    "print(f'Num. Seeds: {num_seeds}')\n",
    "print(f'Num. Layers: {num_layers}')\n",
    "print(f'Num. Tasks: {num_tasks}')"
   ]
  },
  {
   "cell_type": "code",
   "execution_count": 7,
   "metadata": {},
   "outputs": [],
   "source": [
    "shared_individual = np.zeros((num_seeds, num_layers))\n",
    "shared_parallel = np.zeros((num_seeds, num_layers))\n",
    "shared_all = np.zeros((num_seeds, num_layers))\n",
    "\n",
    "self_individual = np.zeros((num_seeds, num_layers))\n",
    "self_parallel = np.zeros((num_seeds, num_layers))\n",
    "self_all = np.zeros((num_seeds, num_layers))"
   ]
  },
  {
   "cell_type": "code",
   "execution_count": 8,
   "metadata": {},
   "outputs": [],
   "source": [
    "for i_seed, seed in enumerate(range(num_seeds)):\n",
    "    dict_seed_individual = calculate_representations(list_rdm_individual[i_seed], num_inputs, num_tasks)\n",
    "    dict_seed_parallel = calculate_representations(list_rdm_parallel[i_seed], num_inputs, num_tasks)\n",
    "    dict_seed_all = calculate_representations(list_rdm_all[i_seed], num_inputs, num_tasks)\n",
    "\n",
    "    shared_individual[i_seed, :] = dict_seed_individual['shared']\n",
    "    shared_parallel[i_seed, :] = dict_seed_parallel['shared']\n",
    "    shared_all[i_seed, :] = dict_seed_all['shared']\n",
    "\n",
    "    self_individual[i_seed, :] = dict_seed_individual['self']\n",
    "    self_parallel[i_seed, :] = dict_seed_parallel['self']\n",
    "    self_all[i_seed, :] = dict_seed_all['self']"
   ]
  },
  {
   "cell_type": "code",
   "execution_count": 9,
   "metadata": {},
   "outputs": [],
   "source": [
    "df_results_shared = pd.DataFrame({}, columns=['Model', 'Layer', 'Representations'])\n",
    "\n",
    "for i_seed, seed in enumerate(range(num_seeds)):\n",
    "    for j_layer, layer in enumerate(range(num_layers)):\n",
    "        df_results_individual = pd.DataFrame({'Model': ['Sequential'], 'Layer': [layer + 1], 'Representations': [100 * shared_individual[i_seed, j_layer]]})\n",
    "        df_results_parallel = pd.DataFrame({'Model': ['Parallel'], 'Layer': [layer + 1], 'Representations': [100 * shared_parallel[i_seed, j_layer]]})\n",
    "        df_results_ts = pd.DataFrame({'Model': ['Task-Switching'], 'Layer': [layer + 1], 'Representations': [100 * shared_all[i_seed, j_layer]]})\n",
    "\n",
    "        df_results_shared = pd.concat((df_results_shared, df_results_individual, df_results_parallel, df_results_ts))        \n",
    "df_results_shared.reset_index(inplace=True, drop=True)"
   ]
  },
  {
   "cell_type": "code",
   "execution_count": 10,
   "metadata": {},
   "outputs": [
    {
     "data": {
      "image/png": "[encoded data removed]",
      "text/plain": [
       "<Figure size 600x400 with 1 Axes>"
      ]
     },
     "metadata": {},
     "output_type": "display_data"
    }
   ],
   "source": [
    "fig, ax = plt.subplots(figsize=(6, 4))\n",
    "\n",
    "barplot = sns.barplot(x='Layer',\n",
    "                      y='Representations',\n",
    "                      hue='Model',\n",
    "                      data=df_results_shared,\n",
    "                      ci='sd',\n",
    "                      ax=ax,\n",
    "                      errwidth=2,\n",
    "                      capsize=0.1,\n",
    "                      zorder=-1,\n",
    "                      errcolor='k',\n",
    "                      error_kw={'zorder': 10})\n",
    "\n",
    "plt.ylabel('Shared Representations (%)', fontsize=16)\n",
    "plt.xlabel('Layer', fontsize=16)\n",
    "plt.xticks(fontsize=14)\n",
    "plt.yticks(fontsize=14)\n",
    "plt.ylim(0, 60)\n",
    "plt.gca().lines[-1].set_zorder(10)\n",
    "\n",
    "ax.legend(loc='best')\n",
    "fig.savefig(path_figure,\n",
    "            transparent=True,\n",
    "            bbox_inches='tight')\n",
    "plt.show()"
   ]
  }
 ],
 "metadata": {
  "kernelspec": {
   "display_name": "Python 3",
   "language": "python",
   "name": "python3"
  },
  "language_info": {
   "codemirror_mode": {
    "name": "ipython",
    "version": 3
   },
   "file_extension": ".py",
   "mimetype": "text/x-python",
   "name": "python",
   "nbconvert_exporter": "python",
   "pygments_lexer": "ipython3",
   "version": "3.8.10"
  },
  "orig_nbformat": 4
 },
 "nbformat": 4,
 "nbformat_minor": 2
}
