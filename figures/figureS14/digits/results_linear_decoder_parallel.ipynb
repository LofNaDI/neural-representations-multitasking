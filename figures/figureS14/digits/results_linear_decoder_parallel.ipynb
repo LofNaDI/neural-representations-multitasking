{
 "cells": [
  {
   "cell_type": "code",
   "execution_count": 1,
   "metadata": {},
   "outputs": [],
   "source": [
    "import os\n",
    "import pickle\n",
    "\n",
    "import numpy as np\n",
    "import torch.nn as nn\n",
    "import torch.optim\n",
    "from tqdm.auto import tqdm\n",
    "from sklearn.model_selection import train_test_split\n",
    "from sklearn.linear_model import LogisticRegression\n",
    "\n",
    "import multitask.dataset as dataset\n",
    "from multitask.models.parallel import get_parallel_model\n",
    "import multitask.models.parallel.hooks as hooks\n",
    "from multitask.utils.training import get_device\n",
    "from multitask.utils.argparse import check_runs\n"
   ]
  },
  {
   "cell_type": "code",
   "execution_count": 2,
   "metadata": {},
   "outputs": [],
   "source": [
    "path_data = os.path.join('..', '..', '..', 'data')\n",
    "path_pickle = os.path.join('pickle', 'results_linear_decoder_parallel.pickle')\n",
    "path_model_individual = os.path.join('..', '..', '..', 'results', 'parallel')"
   ]
  },
  {
   "cell_type": "code",
   "execution_count": 3,
   "metadata": {},
   "outputs": [],
   "source": [
    "num_runs = 10\n",
    "initial_seed = 6789\n",
    "max_seed = 10e5\n",
    "num_epochs = 50\n",
    "num_hidden = 10 * [100]\n",
    "batch_size = 100\n",
    "num_train = 50000\n",
    "num_test = 10000\n",
    "tasks_names = ['parity', 'value']\n",
    "idxs_contexts = None"
   ]
  },
  {
   "cell_type": "code",
   "execution_count": 4,
   "metadata": {},
   "outputs": [
    {
     "name": "stdout",
     "output_type": "stream",
     "text": [
      "Found simulation in ../../../results/parallel with the same parameters (2022-09-28_01_56_10)\n"
     ]
    }
   ],
   "source": [
    "parameters = {\n",
    "    'num_runs': num_runs,\n",
    "    'initial_seed': initial_seed,\n",
    "    'max_seed': max_seed,\n",
    "    'num_epochs': num_epochs,\n",
    "    'num_hidden': num_hidden,\n",
    "    'batch_size': batch_size,\n",
    "    'num_train': num_train,\n",
    "    'num_test': num_test,\n",
    "    'tasks': tasks_names,\n",
    "    'idxs_contexts': idxs_contexts\n",
    "}\n",
    "\n",
    "data_folder = check_runs(path_model_individual, parameters)"
   ]
  },
  {
   "cell_type": "code",
   "execution_count": 5,
   "metadata": {},
   "outputs": [],
   "source": [
    "pickle_data = os.path.join(data_folder, 'data.pickle')\n",
    "with open(pickle_data, 'rb') as handle:\n",
    "    results_parallel = pickle.load(handle)"
   ]
  },
  {
   "cell_type": "code",
   "execution_count": 6,
   "metadata": {},
   "outputs": [
    {
     "name": "stdout",
     "output_type": "stream",
     "text": [
      "[10612, 17350, 130146, 173249, 213794, 341996, 440064, 668870, 858781, 894813]\n",
      "['parity', 'value']\n"
     ]
    }
   ],
   "source": [
    "seeds = sorted(list(results_parallel.keys()))\n",
    "num_seeds = len(seeds)\n",
    "num_tasks = len(tasks_names)\n",
    "\n",
    "print(seeds)\n",
    "print(tasks_names)"
   ]
  },
  {
   "cell_type": "code",
   "execution_count": 7,
   "metadata": {},
   "outputs": [],
   "source": [
    "tasks_datasets = dataset.get_tasks_dict(tasks_names, root=path_data)"
   ]
  },
  {
   "cell_type": "code",
   "execution_count": 8,
   "metadata": {},
   "outputs": [],
   "source": [
    "parallel_datasets = {}\n",
    "for task_name in tasks_names:\n",
    "    parallel_datasets[task_name] = tasks_datasets[task_name]\n",
    "\n",
    "parallel_tasks = dataset.MultilabelTasks(parallel_datasets)"
   ]
  },
  {
   "cell_type": "code",
   "execution_count": 9,
   "metadata": {},
   "outputs": [
    {
     "name": "stdout",
     "output_type": "stream",
     "text": [
      "Running on CPU.\n"
     ]
    },
    {
     "data": {
      "application/vnd.jupyter.widget-view+json": {
       "model_id": "f659a54df11b41edb53dfcba152e8ab6",
       "version_major": 2,
       "version_minor": 0
      },
      "text/plain": [
       "  0%|          | 0/10 [00:00<?, ?it/s]"
      ]
     },
     "metadata": {},
     "output_type": "display_data"
    }
   ],
   "source": [
    "device = get_device()\n",
    "criterion = nn.CrossEntropyLoss()\n",
    "num_layers = len(num_hidden)\n",
    "num_tasks = len(tasks_names)\n",
    "\n",
    "list_activations = []\n",
    "list_numbers = []\n",
    "\n",
    "for i_seed, seed in tqdm(enumerate(seeds), total=num_runs):\n",
    "    state_dict = results_parallel[seed]['model']\n",
    "    model = get_parallel_model(num_tasks,\n",
    "                               num_hidden,\n",
    "                               device)\n",
    "\n",
    "    model.load_state_dict(state_dict)\n",
    "    \n",
    "    indices = results_parallel[seed]['indices']\n",
    "\n",
    "    test_sampler = dataset.SequentialSampler(indices['test'])\n",
    "    parallel_testloader = torch.utils.data.DataLoader(parallel_tasks,\n",
    "                                                      sampler=test_sampler,\n",
    "                                                      batch_size=batch_size)\n",
    "\n",
    "    numbers = parallel_datasets[tasks_names[0]].numbers\n",
    "    numbers = numbers[indices['test']]\n",
    "    \n",
    "    _, activations = hooks.get_layer_activations(model,\n",
    "                                                 parallel_testloader,\n",
    "                                                 criterion=criterion,\n",
    "                                                 device=device,\n",
    "                                                 disable=True)\n",
    "    \n",
    "    parallel_activations = {}\n",
    "    for task_name in tasks_names:\n",
    "        parallel_activations[task_name] = activations\n",
    "\n",
    "    list_activations.append(parallel_activations)\n",
    "    list_numbers.append(numbers)"
   ]
  },
  {
   "cell_type": "code",
   "execution_count": 10,
   "metadata": {},
   "outputs": [
    {
     "data": {
      "application/vnd.jupyter.widget-view+json": {
       "model_id": "8526e802f7634fb8a2203cbb3e23fb49",
       "version_major": 2,
       "version_minor": 0
      },
      "text/plain": [
       "0 [10612]:   0%|          | 0/10 [00:00<?, ?it/s]"
      ]
     },
     "metadata": {},
     "output_type": "display_data"
    },
    {
     "data": {
      "application/vnd.jupyter.widget-view+json": {
       "model_id": "dc35c638a8eb400fb27927835c4299e5",
       "version_major": 2,
       "version_minor": 0
      },
      "text/plain": [
       "1 [17350]:   0%|          | 0/10 [00:00<?, ?it/s]"
      ]
     },
     "metadata": {},
     "output_type": "display_data"
    },
    {
     "data": {
      "application/vnd.jupyter.widget-view+json": {
       "model_id": "4492a335ff734bac9e0610cf2caacbd4",
       "version_major": 2,
       "version_minor": 0
      },
      "text/plain": [
       "2 [130146]:   0%|          | 0/10 [00:00<?, ?it/s]"
      ]
     },
     "metadata": {},
     "output_type": "display_data"
    },
    {
     "data": {
      "application/vnd.jupyter.widget-view+json": {
       "model_id": "abc19b37e4c54349a0f1ed71bc6c010a",
       "version_major": 2,
       "version_minor": 0
      },
      "text/plain": [
       "3 [173249]:   0%|          | 0/10 [00:00<?, ?it/s]"
      ]
     },
     "metadata": {},
     "output_type": "display_data"
    },
    {
     "data": {
      "application/vnd.jupyter.widget-view+json": {
       "model_id": "0532a853a19d49d780d7c4f892d53e0c",
       "version_major": 2,
       "version_minor": 0
      },
      "text/plain": [
       "4 [213794]:   0%|          | 0/10 [00:00<?, ?it/s]"
      ]
     },
     "metadata": {},
     "output_type": "display_data"
    },
    {
     "data": {
      "application/vnd.jupyter.widget-view+json": {
       "model_id": "0e169f077fe3430a8aa7cf9708a3a841",
       "version_major": 2,
       "version_minor": 0
      },
      "text/plain": [
       "5 [341996]:   0%|          | 0/10 [00:00<?, ?it/s]"
      ]
     },
     "metadata": {},
     "output_type": "display_data"
    },
    {
     "data": {
      "application/vnd.jupyter.widget-view+json": {
       "model_id": "3ef50640ad6f452dbad5b341b96908ee",
       "version_major": 2,
       "version_minor": 0
      },
      "text/plain": [
       "6 [440064]:   0%|          | 0/10 [00:00<?, ?it/s]"
      ]
     },
     "metadata": {},
     "output_type": "display_data"
    },
    {
     "data": {
      "application/vnd.jupyter.widget-view+json": {
       "model_id": "f40694f3c72b4248bea082766b230c87",
       "version_major": 2,
       "version_minor": 0
      },
      "text/plain": [
       "7 [668870]:   0%|          | 0/10 [00:00<?, ?it/s]"
      ]
     },
     "metadata": {},
     "output_type": "display_data"
    },
    {
     "data": {
      "application/vnd.jupyter.widget-view+json": {
       "model_id": "1fe1eb0d23c04eb5b36b167bf7ff5962",
       "version_major": 2,
       "version_minor": 0
      },
      "text/plain": [
       "8 [858781]:   0%|          | 0/10 [00:00<?, ?it/s]"
      ]
     },
     "metadata": {},
     "output_type": "display_data"
    },
    {
     "data": {
      "application/vnd.jupyter.widget-view+json": {
       "model_id": "39e50afdfebd4cf59ef6b489ef069b36",
       "version_major": 2,
       "version_minor": 0
      },
      "text/plain": [
       "9 [894813]:   0%|          | 0/10 [00:00<?, ?it/s]"
      ]
     },
     "metadata": {},
     "output_type": "display_data"
    }
   ],
   "source": [
    "num_layers = len(num_hidden)\n",
    "max_iter = 8000\n",
    "\n",
    "acc_numbers_all = np.zeros((num_seeds, num_layers))\n",
    "acc_tasks_all = np.zeros((num_seeds, num_layers))\n",
    "acc_congruency_all = np.zeros((num_seeds, num_layers))\n",
    "acc_output_all = np.zeros((num_seeds, num_layers))\n",
    "\n",
    "\n",
    "for i_seed, seed in enumerate(seeds):\n",
    "    activations = list_activations[i_seed]\n",
    "    numbers = list_numbers[i_seed]\n",
    "\n",
    "    labels_numbers = np.hstack((numbers, numbers))\n",
    "    labels_task = np.concatenate((np.zeros_like(numbers), np.ones_like(numbers)))\n",
    "    labels_congruency = np.array([1 if number in [0, 2, 4, 5, 7, 9] else 0 for number in labels_numbers])\n",
    "\n",
    "    labels_output_parity = np.array([1 if number in [0, 2, 4, 6, 8] else 0 for number in numbers])\n",
    "    labels_output_value = np.array([1 if number in [0, 1, 2, 3, 4] else 0 for number in numbers])\n",
    "    labels_output = np.concatenate((labels_output_parity, labels_output_value))\n",
    "\n",
    "    for j_layer in tqdm(range(num_layers), desc=f'{i_seed} [{seed}]'):\n",
    "        activations_decoder = None\n",
    "        for task in tasks_names:\n",
    "            activations_task = activations[task][f'layer{j_layer+1}']\n",
    "            if activations_decoder is None:\n",
    "                activations_decoder = activations_task\n",
    "            else:\n",
    "                activations_decoder = np.vstack((activations_decoder, \n",
    "                                                activations_task))\n",
    "        assert activations_decoder.shape[0] == labels_numbers.shape[0]\n",
    "\n",
    "        activations_decoder = (activations_decoder - activations_decoder.mean()) / activations_decoder.std()\n",
    "\n",
    "        # Numbers task\n",
    "        X_train, X_test, y_train, y_test = train_test_split(activations_decoder,\n",
    "                                                            labels_numbers,\n",
    "                                                            test_size=0.1,\n",
    "                                                            random_state=seed)\n",
    "        clf = LogisticRegression(random_state=seed,\n",
    "                                max_iter=max_iter,\n",
    "                                tol=1e-3).fit(X_train, y_train)\n",
    "        acc_numbers_all[i_seed, j_layer] = clf.score(X_test, y_test)\n",
    "\n",
    "        # Labels task\n",
    "        X_train, X_test, y_train, y_test = train_test_split(activations_decoder,\n",
    "                                                            labels_task,\n",
    "                                                            test_size=0.1,\n",
    "                                                            random_state=seed)\n",
    "        clf = LogisticRegression(random_state=seed,\n",
    "                                max_iter=max_iter,\n",
    "                                tol=1e-3).fit(X_train, y_train)\n",
    "        acc_tasks_all[i_seed, j_layer] = clf.score(X_test, y_test)\n",
    "\n",
    "        # Congruency task\n",
    "        X_train, X_test, y_train, y_test = train_test_split(activations_decoder,\n",
    "                                                            labels_congruency,\n",
    "                                                            test_size=0.1,\n",
    "                                                            random_state=seed)\n",
    "        clf = LogisticRegression(random_state=seed,\n",
    "                                max_iter=max_iter,\n",
    "                                tol=1e-3).fit(X_train, y_train)\n",
    "        acc_congruency_all[i_seed, j_layer] = clf.score(X_test, y_test)"
   ]
  },
  {
   "cell_type": "code",
   "execution_count": 11,
   "metadata": {},
   "outputs": [],
   "source": [
    "results = {}\n",
    "results['numbers'] = acc_numbers_all\n",
    "results['tasks'] = acc_tasks_all\n",
    "results['congruency'] = acc_congruency_all"
   ]
  },
  {
   "cell_type": "code",
   "execution_count": 12,
   "metadata": {},
   "outputs": [],
   "source": [
    "parent_pickle = os.path.dirname(path_pickle)\n",
    "\n",
    "if not os.path.exists(parent_pickle):\n",
    "    os.makedirs(parent_pickle)\n",
    "\n",
    "with open(path_pickle, 'wb') as f:\n",
    "    pickle.dump(results, f, protocol=pickle.HIGHEST_PROTOCOL)"
   ]
  }
 ],
 "metadata": {
  "kernelspec": {
   "display_name": "Python 3 (ipykernel)",
   "language": "python",
   "name": "python3"
  },
  "language_info": {
   "codemirror_mode": {
    "name": "ipython",
    "version": 3
   },
   "file_extension": ".py",
   "mimetype": "text/x-python",
   "name": "python",
   "nbconvert_exporter": "python",
   "pygments_lexer": "ipython3",
   "version": "3.8.10"
  },
  "vscode": {
   "interpreter": {
    "hash": "5de0b3d16828453b801d3a971a2e845298ac67ea708b1fd16f0d1197d2abd69f"
   }
  }
 },
 "nbformat": 4,
 "nbformat_minor": 4
}
