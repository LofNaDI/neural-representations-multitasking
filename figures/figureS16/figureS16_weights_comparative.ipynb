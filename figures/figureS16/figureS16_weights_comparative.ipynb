{
 "cells": [
  {
   "cell_type": "code",
   "execution_count": 1,
   "metadata": {},
   "outputs": [],
   "source": [
    "import os\n",
    "import pickle\n",
    "\n",
    "import matplotlib as mpl\n",
    "import matplotlib.pyplot as plt\n",
    "import numpy as np\n",
    "import seaborn as sns\n",
    "from scipy.cluster.hierarchy import linkage, dendrogram\n",
    "from scipy.spatial.distance import squareform\n",
    "from sklearn.manifold import MDS\n",
    "\n",
    "import multitask.dataset as dataset\n",
    "from multitask.models.task_switching import get_task_model\n",
    "from multitask.utils.training import get_device\n",
    "from multitask.utils.argparse import check_runs\n"
   ]
  },
  {
   "cell_type": "code",
   "execution_count": 2,
   "metadata": {},
   "outputs": [],
   "source": [
    "plt.style.use('../style/plots.mplstyle')\n",
    "palette = ['#c0d9ffff', '#bfc1ffff', '#e3bfffff', '#ffbfe6ff', '#ffbfc4ff']"
   ]
  },
  {
   "cell_type": "code",
   "execution_count": 3,
   "metadata": {},
   "outputs": [],
   "source": [
    "path_data = os.path.join('..', '..', 'data')\n",
    "path_model_task_switching = os.path.join('..', '..', 'results', 'task_switching')"
   ]
  },
  {
   "cell_type": "code",
   "execution_count": 4,
   "metadata": {},
   "outputs": [],
   "source": [
    "path_figure_layers = os.path.join('svg', 'figureS16_correlation_layers.svg')"
   ]
  },
  {
   "cell_type": "code",
   "execution_count": 5,
   "metadata": {},
   "outputs": [],
   "source": [
    "num_runs = 10\n",
    "initial_seed = 6789\n",
    "max_seed = 10e5\n",
    "num_epochs = 50\n",
    "num_hidden = 10 * [100]\n",
    "batch_size = 100\n",
    "num_train = 50000\n",
    "num_test = 10000\n",
    "tasks_names = ['parity', 'value', 'prime', 'fibonacci', 'multiples3']\n",
    "idxs_contexts = list(range(len(num_hidden)))"
   ]
  },
  {
   "cell_type": "code",
   "execution_count": 6,
   "metadata": {},
   "outputs": [
    {
     "name": "stdout",
     "output_type": "stream",
     "text": [
      "Found simulation in ../../results/task_switching with the same parameters (2022-09-28_07_17_08)\n"
     ]
    }
   ],
   "source": [
    "parameters = {\n",
    "    'num_runs': num_runs,\n",
    "    'initial_seed': initial_seed,\n",
    "    'max_seed': max_seed,\n",
    "    'num_epochs': num_epochs,\n",
    "    'num_hidden': num_hidden,\n",
    "    'batch_size': batch_size,\n",
    "    'num_train': num_train,\n",
    "    'num_test': num_test,\n",
    "    'tasks': tasks_names,\n",
    "    'idxs_contexts': idxs_contexts\n",
    "}\n",
    "\n",
    "data_folder = check_runs(path_model_task_switching, parameters)"
   ]
  },
  {
   "cell_type": "code",
   "execution_count": 7,
   "metadata": {},
   "outputs": [],
   "source": [
    "pickle_data = os.path.join(data_folder, 'data.pickle')\n",
    "with open(pickle_data, 'rb') as handle:\n",
    "    results_task_switching = pickle.load(handle)"
   ]
  },
  {
   "cell_type": "code",
   "execution_count": 8,
   "metadata": {},
   "outputs": [
    {
     "name": "stdout",
     "output_type": "stream",
     "text": [
      "[10612, 17350, 130146, 173249, 213794, 341996, 440064, 668870, 858781, 894813]\n",
      "['parity', 'value', 'prime', 'fibonacci', 'multiples3']\n"
     ]
    }
   ],
   "source": [
    "seeds = sorted(list(results_task_switching.keys()))\n",
    "num_seeds = len(seeds)\n",
    "num_tasks = len(tasks_names)\n",
    "\n",
    "print(seeds)\n",
    "print(tasks_names)"
   ]
  },
  {
   "cell_type": "code",
   "execution_count": 9,
   "metadata": {},
   "outputs": [
    {
     "name": "stdout",
     "output_type": "stream",
     "text": [
      "parity: [1, 0, 0, 0, 0]\n",
      "value: [0, 1, 0, 0, 0]\n",
      "prime: [0, 0, 1, 0, 0]\n",
      "fibonacci: [0, 0, 0, 1, 0]\n",
      "multiples3: [0, 0, 0, 0, 1]\n"
     ]
    }
   ],
   "source": [
    "tasks_datasets = dataset.get_tasks_dict(tasks_names, root=path_data)\n",
    "\n",
    "task_switching_tasks = {}\n",
    "num_tasks = len(tasks_names)\n",
    "\n",
    "for i_context, task_name in enumerate(tasks_names):\n",
    "    task_switching_tasks[task_name] = {}\n",
    "    task_switching_tasks[task_name]['data'] = tasks_datasets[task_name]\n",
    "    task_switching_tasks[task_name]['activations'] = num_tasks * [0]\n",
    "    task_switching_tasks[task_name]['activations'][i_context] = 1\n",
    "\n",
    "for key, value in task_switching_tasks.items():\n",
    "    print(f'{key}: {value[\"activations\"]}')"
   ]
  },
  {
   "cell_type": "code",
   "execution_count": 10,
   "metadata": {},
   "outputs": [
    {
     "name": "stdout",
     "output_type": "stream",
     "text": [
      "Running on CPU.\n"
     ]
    }
   ],
   "source": [
    "device = get_device()\n",
    "\n",
    "num_layers = len(num_hidden)\n",
    "num_tasks = len(tasks_names)\n",
    "\n",
    "norm_biases_parity = np.zeros((num_runs, num_layers))\n",
    "norm_biases_value = np.zeros((num_runs, num_layers))\n",
    "norm_biases_prime = np.zeros((num_runs, num_layers))\n",
    "norm_biases_fibonacci = np.zeros((num_runs, num_layers))\n",
    "norm_biases_mul3 = np.zeros((num_runs, num_layers))\n",
    "\n",
    "correlations = np.zeros((num_runs, num_layers, num_tasks, num_tasks))\n",
    "\n",
    "seeds = list(results_task_switching.keys())\n",
    "for j_seed, seed in enumerate(seeds):\n",
    "    state_dict = results_task_switching[seed]['model']\n",
    "    model = get_task_model(task_switching_tasks,\n",
    "                            num_hidden,\n",
    "                            idxs_contexts,\n",
    "                            device)\n",
    "    model.load_state_dict(state_dict)\n",
    "    for k_context in idxs_contexts:\n",
    "        weights = model.layers[k_context].weight.detach().cpu().numpy()\n",
    "\n",
    "        biases_parity = np.array(weights[:, -5])\n",
    "        biases_value = np.array(weights[:, -4])\n",
    "        biases_prime = np.array(weights[:, -3])\n",
    "        biases_fibonacci = np.array(weights[:, -2])\n",
    "        biases_mul3 = np.array(weights[:, -1])\n",
    "\n",
    "        norm_biases_parity[j_seed, k_context] = np.linalg.norm(biases_parity, axis=0)\n",
    "        norm_biases_value[j_seed, k_context] = np.linalg.norm(biases_value, axis=0)\n",
    "        norm_biases_prime[j_seed, k_context] = np.linalg.norm(biases_prime, axis=0)\n",
    "        norm_biases_fibonacci[j_seed, k_context] = np.linalg.norm(biases_fibonacci, axis=0)\n",
    "        norm_biases_mul3[j_seed, k_context] = np.linalg.norm(biases_mul3, axis=0)\n",
    "\n",
    "        correlations[j_seed, k_context] = np.corrcoef(weights[:, -num_tasks:], rowvar=False)"
   ]
  },
  {
   "cell_type": "code",
   "execution_count": 11,
   "metadata": {},
   "outputs": [
    {
     "name": "stdout",
     "output_type": "stream",
     "text": [
      "(10, 5, 5)\n"
     ]
    }
   ],
   "source": [
    "mean_correlations = np.mean(correlations, axis=0)\n",
    "print(mean_correlations.shape)"
   ]
  },
  {
   "cell_type": "code",
   "execution_count": 12,
   "metadata": {},
   "outputs": [
    {
     "data": {
      "image/png": "[encoded data removed]",
      "text/plain": [
       "<Figure size 1000x400 with 11 Axes>"
      ]
     },
     "metadata": {},
     "output_type": "display_data"
    }
   ],
   "source": [
    "num_rows = 2\n",
    "num_cols = 5\n",
    "\n",
    "fig, ax = plt.subplots(num_rows, num_cols, figsize=(10, 4))\n",
    "\n",
    "for i_row in range(num_rows):\n",
    "    for i_col in range(num_cols):\n",
    "        im = ax[i_row, i_col].imshow(mean_correlations[num_cols * i_row + i_col], vmin=-1, vmax=1, cmap='icefire')\n",
    "        ax[i_row, i_col].set_title(f'Layer {num_cols * i_row + i_col + 1}')\n",
    "        ax[i_row, i_col].axis('off')\n",
    "\n",
    "fig.subplots_adjust(right=0.8)\n",
    "cbar_ax = fig.add_axes([0.85, 0.15, 0.025, 0.7])\n",
    "fig.colorbar(im, cax=cbar_ax)\n",
    "\n",
    "fig.savefig(path_figure_layers)\n",
    "\n",
    "plt.show()"
   ]
  }
 ],
 "metadata": {
  "kernelspec": {
   "display_name": "Python 3.8.10",
   "language": "python",
   "name": "python3"
  },
  "language_info": {
   "codemirror_mode": {
    "name": "ipython",
    "version": 3
   },
   "file_extension": ".py",
   "mimetype": "text/x-python",
   "name": "python",
   "nbconvert_exporter": "python",
   "pygments_lexer": "ipython3",
   "version": "3.8.10"
  },
  "orig_nbformat": 4,
  "vscode": {
   "interpreter": {
    "hash": "5de0b3d16828453b801d3a971a2e845298ac67ea708b1fd16f0d1197d2abd69f"
   }
  }
 },
 "nbformat": 4,
 "nbformat_minor": 2
}
