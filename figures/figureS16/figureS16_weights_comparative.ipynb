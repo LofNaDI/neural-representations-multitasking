{
 "cells": [
  {
   "cell_type": "code",
   "execution_count": 1,
   "metadata": {},
   "outputs": [],
   "source": [
    "import os\n",
    "import pickle\n",
    "\n",
    "import matplotlib as mpl\n",
    "import matplotlib.pyplot as plt\n",
    "import numpy as np\n",
    "import seaborn as sns\n",
    "from scipy.cluster.hierarchy import linkage, dendrogram\n",
    "from scipy.spatial.distance import squareform\n",
    "from sklearn.manifold import MDS\n",
    "\n",
    "import multitask.dataset as dataset\n",
    "from multitask.models.task_switching import get_task_model\n",
    "from multitask.utils.training import get_device\n",
    "from multitask.utils.argparse import check_runs\n"
   ]
  },
  {
   "cell_type": "code",
   "execution_count": 2,
   "metadata": {},
   "outputs": [],
   "source": [
    "plt.style.use('../style/plots.mplstyle')\n",
    "palette = ['#c0d9ffff', '#bfc1ffff', '#e3bfffff', '#ffbfe6ff', '#ffbfc4ff']\n",
    "\n",
    "path_figure = os.path.join('svg', 'figureS16_weights_comparative_digits_5.svg')"
   ]
  },
  {
   "cell_type": "code",
   "execution_count": 3,
   "metadata": {},
   "outputs": [],
   "source": [
    "path_data = os.path.join('..', '..', 'data')\n",
    "path_model_task_switching = os.path.join('..', '..', 'results', 'task_switching')"
   ]
  },
  {
   "cell_type": "code",
   "execution_count": 4,
   "metadata": {},
   "outputs": [],
   "source": [
    "path_figure_layers = os.path.join('svg', 'figure16a_correlation_layers.svg')\n",
    "path_figure_congruency = os.path.join('svg', 'figure16b_congruency.svg')\n",
    "path_figure_correlation = os.path.join('svg', 'figure16c_correlation.svg')\n",
    "path_figure_mds = os.path.join('svg', 'figure16d_mds.svg')\n",
    "path_figure_dendrogram = os.path.join('svg', 'figure16d_dendrogram.svg')"
   ]
  },
  {
   "cell_type": "code",
   "execution_count": 5,
   "metadata": {},
   "outputs": [],
   "source": [
    "num_runs = 10\n",
    "initial_seed = 6789\n",
    "max_seed = 10e5\n",
    "num_epochs = 50\n",
    "num_hidden = 10 * [100]\n",
    "batch_size = 100\n",
    "num_train = 50000\n",
    "num_test = 10000\n",
    "tasks_names = ['parity', 'value', 'prime', 'fibonacci', 'multiples3']\n",
    "idxs_contexts = list(range(len(num_hidden)))"
   ]
  },
  {
   "cell_type": "code",
   "execution_count": 6,
   "metadata": {},
   "outputs": [
    {
     "name": "stdout",
     "output_type": "stream",
     "text": [
      "Found simulation in ../../results/task_switching with the same parameters (2022-09-28_07_17_08)\n"
     ]
    }
   ],
   "source": [
    "parameters = {\n",
    "    'num_runs': num_runs,\n",
    "    'initial_seed': initial_seed,\n",
    "    'max_seed': max_seed,\n",
    "    'num_epochs': num_epochs,\n",
    "    'num_hidden': num_hidden,\n",
    "    'batch_size': batch_size,\n",
    "    'num_train': num_train,\n",
    "    'num_test': num_test,\n",
    "    'tasks': tasks_names,\n",
    "    'idxs_contexts': idxs_contexts\n",
    "}\n",
    "\n",
    "data_folder = check_runs(path_model_task_switching, parameters)"
   ]
  },
  {
   "cell_type": "code",
   "execution_count": 7,
   "metadata": {},
   "outputs": [],
   "source": [
    "pickle_data = os.path.join(data_folder, 'data.pickle')\n",
    "with open(pickle_data, 'rb') as handle:\n",
    "    results_task_switching = pickle.load(handle)"
   ]
  },
  {
   "cell_type": "code",
   "execution_count": 8,
   "metadata": {},
   "outputs": [
    {
     "name": "stdout",
     "output_type": "stream",
     "text": [
      "[10612, 17350, 130146, 173249, 213794, 341996, 440064, 668870, 858781, 894813]\n",
      "['parity', 'value', 'prime', 'fibonacci', 'multiples3']\n"
     ]
    }
   ],
   "source": [
    "seeds = sorted(list(results_task_switching.keys()))\n",
    "num_seeds = len(seeds)\n",
    "num_tasks = len(tasks_names)\n",
    "\n",
    "print(seeds)\n",
    "print(tasks_names)"
   ]
  },
  {
   "cell_type": "code",
   "execution_count": 9,
   "metadata": {},
   "outputs": [
    {
     "name": "stdout",
     "output_type": "stream",
     "text": [
      "parity: [1, 0, 0, 0, 0]\n",
      "value: [0, 1, 0, 0, 0]\n",
      "prime: [0, 0, 1, 0, 0]\n",
      "fibonacci: [0, 0, 0, 1, 0]\n",
      "multiples3: [0, 0, 0, 0, 1]\n"
     ]
    }
   ],
   "source": [
    "tasks_datasets = dataset.get_tasks_dict(tasks_names, root=path_data)\n",
    "\n",
    "task_switching_tasks = {}\n",
    "num_tasks = len(tasks_names)\n",
    "\n",
    "for i_context, task_name in enumerate(tasks_names):\n",
    "    task_switching_tasks[task_name] = {}\n",
    "    task_switching_tasks[task_name]['data'] = tasks_datasets[task_name]\n",
    "    task_switching_tasks[task_name]['activations'] = num_tasks * [0]\n",
    "    task_switching_tasks[task_name]['activations'][i_context] = 1\n",
    "\n",
    "for key, value in task_switching_tasks.items():\n",
    "    print(f'{key}: {value[\"activations\"]}')"
   ]
  },
  {
   "cell_type": "code",
   "execution_count": 10,
   "metadata": {},
   "outputs": [
    {
     "name": "stdout",
     "output_type": "stream",
     "text": [
      "Running on CPU.\n"
     ]
    }
   ],
   "source": [
    "device = get_device()\n",
    "\n",
    "num_layers = len(num_hidden)\n",
    "num_tasks = len(tasks_names)\n",
    "\n",
    "norm_biases_parity = np.zeros((num_runs, num_layers))\n",
    "norm_biases_value = np.zeros((num_runs, num_layers))\n",
    "norm_biases_prime = np.zeros((num_runs, num_layers))\n",
    "norm_biases_fibonacci = np.zeros((num_runs, num_layers))\n",
    "norm_biases_mul3 = np.zeros((num_runs, num_layers))\n",
    "\n",
    "correlations = np.zeros((num_runs, num_layers, num_tasks, num_tasks))\n",
    "\n",
    "seeds = list(results_task_switching.keys())\n",
    "for j_seed, seed in enumerate(seeds):\n",
    "    state_dict = results_task_switching[seed]['model']\n",
    "    model = get_task_model(task_switching_tasks,\n",
    "                            num_hidden,\n",
    "                            idxs_contexts,\n",
    "                            device)\n",
    "    model.load_state_dict(state_dict)\n",
    "    for k_context in idxs_contexts:\n",
    "        weights = model.layers[k_context].weight.detach().cpu().numpy()\n",
    "\n",
    "        biases_parity = np.array(weights[:, -5])\n",
    "        biases_value = np.array(weights[:, -4])\n",
    "        biases_prime = np.array(weights[:, -3])\n",
    "        biases_fibonacci = np.array(weights[:, -2])\n",
    "        biases_mul3 = np.array(weights[:, -1])\n",
    "\n",
    "        norm_biases_parity[j_seed, k_context] = np.linalg.norm(biases_parity, axis=0)\n",
    "        norm_biases_value[j_seed, k_context] = np.linalg.norm(biases_value, axis=0)\n",
    "        norm_biases_prime[j_seed, k_context] = np.linalg.norm(biases_prime, axis=0)\n",
    "        norm_biases_fibonacci[j_seed, k_context] = np.linalg.norm(biases_fibonacci, axis=0)\n",
    "        norm_biases_mul3[j_seed, k_context] = np.linalg.norm(biases_mul3, axis=0)\n",
    "\n",
    "        correlations[j_seed, k_context] = np.corrcoef(weights[:, -num_tasks:], rowvar=False)"
   ]
  },
  {
   "cell_type": "code",
   "execution_count": 11,
   "metadata": {},
   "outputs": [
    {
     "data": {
      "image/png": "[encoded data removed]",
      "text/plain": [
       "<Figure size 600x400 with 1 Axes>"
      ]
     },
     "metadata": {},
     "output_type": "display_data"
    }
   ],
   "source": [
    "idxs_layers = np.arange(1, 11)\n",
    "\n",
    "mean_parity = norm_biases_parity.mean(axis=0)\n",
    "mean_value = norm_biases_value.mean(axis=0)\n",
    "mean_prime = norm_biases_prime.mean(axis=0)\n",
    "mean_fibonacci = norm_biases_fibonacci.mean(axis=0)\n",
    "mean_mul3 = norm_biases_mul3.mean(axis=0)\n",
    "\n",
    "std_parity = norm_biases_parity.std(axis=0)\n",
    "std_value = norm_biases_value.std(axis=0)\n",
    "std_prime = norm_biases_prime.std(axis=0)\n",
    "std_fibonacci = norm_biases_fibonacci.std(axis=0)\n",
    "std_mul3 = norm_biases_mul3.std(axis=0)\n",
    "\n",
    "fig, ax = plt.subplots(1, 1, figsize=(6, 4))\n",
    "\n",
    "width = 0.15\n",
    "loc = width * np.array([-2, -1, 0, 1, 2])\n",
    "\n",
    "ax.bar(idxs_layers + loc[0], mean_parity, width=width, color=palette[0], align='center')\n",
    "ax.bar(idxs_layers + loc[1], mean_value, width=width, color=palette[1], align='center')\n",
    "ax.bar(idxs_layers + loc[2], mean_prime, width=width, color=palette[2], align='center')\n",
    "ax.bar(idxs_layers + loc[3], mean_fibonacci, width=width, color=palette[3], align='center')\n",
    "ax.bar(idxs_layers + loc[4], mean_mul3, width=width, color=palette[4], align='center')\n",
    "\n",
    "ax.errorbar(idxs_layers+loc[0], mean_parity, std_parity, color='k', linestyle='', capsize=2)\n",
    "ax.errorbar(idxs_layers+loc[1], mean_value, std_value, color='k', linestyle='', capsize=2)\n",
    "ax.errorbar(idxs_layers+loc[2], mean_prime, std_prime, color='k', linestyle='', capsize=2)\n",
    "ax.errorbar(idxs_layers+loc[3], mean_fibonacci, std_fibonacci, color='k', linestyle='', capsize=2)\n",
    "ax.errorbar(idxs_layers+loc[4], mean_mul3, std_mul3, color='k', linestyle='', capsize=2)\n",
    "\n",
    "ax.set_xlabel('Layer')\n",
    "ax.set_ylabel('Bias Magnitude')\n",
    "ax.set_xticks(idxs_layers)\n",
    "\n",
    "ax.legend(['Parity', 'Value', 'Prime', 'Fibonacci', 'Multiples 3'])\n",
    "\n",
    "fig.tight_layout()\n",
    "fig.savefig(path_figure, transparent=True)\n",
    "\n",
    "plt.show()"
   ]
  }
 ],
 "metadata": {
  "kernelspec": {
   "display_name": "Python 3.8.10",
   "language": "python",
   "name": "python3"
  },
  "language_info": {
   "codemirror_mode": {
    "name": "ipython",
    "version": 3
   },
   "file_extension": ".py",
   "mimetype": "text/x-python",
   "name": "python",
   "nbconvert_exporter": "python",
   "pygments_lexer": "ipython3",
   "version": "3.8.10"
  },
  "orig_nbformat": 4,
  "vscode": {
   "interpreter": {
    "hash": "5de0b3d16828453b801d3a971a2e845298ac67ea708b1fd16f0d1197d2abd69f"
   }
  }
 },
 "nbformat": 4,
 "nbformat_minor": 2
}
