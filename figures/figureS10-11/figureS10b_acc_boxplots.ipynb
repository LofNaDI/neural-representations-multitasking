{
 "cells": [
  {
   "cell_type": "code",
   "execution_count": 1,
   "metadata": {},
   "outputs": [],
   "source": [
    "import os\n",
    "import pickle\n",
    "\n",
    "import matplotlib as mpl\n",
    "import matplotlib.pyplot as plt\n",
    "import pandas as pd\n",
    "import numpy as np\n",
    "import scipy.stats as stats\n",
    "import seaborn as sns\n",
    "import torch.nn as nn\n",
    "import torch.optim\n",
    "from tqdm.auto import tqdm\n",
    "from statannotations.Annotator import Annotator\n",
    "\n",
    "\n",
    "import multitask.dataset as dataset\n",
    "from multitask.models.individual import get_individual_model\n",
    "from multitask.models.individual import hooks as hooks_individual\n",
    "from multitask.models.parallel import get_parallel_model\n",
    "from multitask.models.parallel import hooks as hooks_parallel\n",
    "from multitask.models.task_switching import get_task_model\n",
    "from multitask.models.task_switching import hooks as hooks_task_switching\n",
    "from multitask.utils.argparse import check_runs\n",
    "from multitask.utils.training import get_device"
   ]
  },
  {
   "cell_type": "code",
   "execution_count": 2,
   "metadata": {},
   "outputs": [],
   "source": [
    "plt.style.use('../style/plots.mplstyle')\n",
    "\n",
    "seaborn_props = {\n",
    "    'boxprops': {'edgecolor':'black', 'linewidth': 1},\n",
    "    'medianprops': {'color':'black', 'linewidth': 1},\n",
    "    'whiskerprops': {'color':'black', 'linewidth': 1},\n",
    "    'capprops': {'color':'black', 'linewidth': 1}\n",
    "}"
   ]
  },
  {
   "cell_type": "code",
   "execution_count": 3,
   "metadata": {},
   "outputs": [
    {
     "name": "stdout",
     "output_type": "stream",
     "text": [
      "Num. Tasks: 5\n",
      "Indices Contexts: [0, 1, 2, 3, 4]\n"
     ]
    }
   ],
   "source": [
    "num_runs = 10\n",
    "initial_seed = 6789\n",
    "max_seed = 10e5\n",
    "num_epochs = 50\n",
    "num_hidden = 5 * [100]\n",
    "batch_size = 100\n",
    "num_train = 50000\n",
    "num_test = 10000\n",
    "tasks_names = ['parity', 'value', 'prime', 'fibonacci', 'multiples3']\n",
    "idxs_contexts = list(range(len(num_hidden)))\n",
    "num_tasks = len(tasks_names)\n",
    "\n",
    "print(f'Num. Tasks: {num_tasks}')\n",
    "print(f'Indices Contexts: {idxs_contexts}')"
   ]
  },
  {
   "cell_type": "code",
   "execution_count": 4,
   "metadata": {},
   "outputs": [],
   "source": [
    "path_data = os.path.join('..', '..', 'data')\n",
    "path_model_individual = os.path.join('..', '..', 'results', 'individual')\n",
    "path_model_parallel = os.path.join('..', '..', 'results', 'parallel')\n",
    "path_model_task_switching = os.path.join('..', '..', 'results', 'task_switching')"
   ]
  },
  {
   "cell_type": "code",
   "execution_count": 5,
   "metadata": {},
   "outputs": [],
   "source": [
    "path_figure = os.path.join('svg', 'figureS10b_acc_boxplots.svg')"
   ]
  },
  {
   "cell_type": "code",
   "execution_count": 6,
   "metadata": {},
   "outputs": [
    {
     "name": "stdout",
     "output_type": "stream",
     "text": [
      "Found simulation in ../../results/task_switching with the same parameters (2022-09-28_02_18_27)\n",
      "Found simulation in ../../results/individual with the same parameters (2022-09-27_22_43_07)\n",
      "Found simulation in ../../results/parallel with the same parameters (2022-09-28_00_08_35)\n"
     ]
    }
   ],
   "source": [
    "parameters = {\n",
    "    'num_runs': num_runs,\n",
    "    'initial_seed': initial_seed,\n",
    "    'max_seed': max_seed,\n",
    "    'num_epochs': num_epochs,\n",
    "    'num_hidden': num_hidden,\n",
    "    'batch_size': batch_size,\n",
    "    'num_train': num_train,\n",
    "    'num_test': num_test,\n",
    "    'tasks': tasks_names,\n",
    "    'idxs_contexts': idxs_contexts\n",
    "}\n",
    "data_folder_task_switching = check_runs(path_model_task_switching, parameters)\n",
    "\n",
    "parameters['idxs_contexts'] = None\n",
    "data_folder_individual = check_runs(path_model_individual, parameters)\n",
    "data_folder_parallel = check_runs(path_model_parallel, parameters)"
   ]
  },
  {
   "cell_type": "code",
   "execution_count": 7,
   "metadata": {},
   "outputs": [],
   "source": [
    "pickle_data_individual = os.path.join(data_folder_individual, 'data.pickle')\n",
    "with open(pickle_data_individual, 'rb') as handle:\n",
    "    results_individual = pickle.load(handle)\n",
    "\n",
    "pickle_data_parallel = os.path.join(data_folder_parallel, 'data.pickle')\n",
    "with open(pickle_data_parallel, 'rb') as handle:\n",
    "    results_parallel = pickle.load(handle)\n",
    "\n",
    "pickle_data_task_switching = os.path.join(data_folder_task_switching, 'data.pickle')\n",
    "with open(pickle_data_task_switching, 'rb') as handle:\n",
    "    results_task_switching = pickle.load(handle)"
   ]
  },
  {
   "cell_type": "code",
   "execution_count": 8,
   "metadata": {},
   "outputs": [],
   "source": [
    "seeds_individual = sorted(list(results_individual.keys()))\n",
    "seeds_parallel = sorted(list(results_parallel.keys()))\n",
    "seeds_task_switching = sorted(list(results_task_switching.keys()))\n",
    "assert seeds_individual == seeds_parallel == seeds_task_switching"
   ]
  },
  {
   "cell_type": "code",
   "execution_count": 9,
   "metadata": {},
   "outputs": [],
   "source": [
    "valid_acc_individual = {task_name: np.zeros((num_runs, )) for task_name in tasks_names}\n",
    "valid_acc_parallel = {task_name: np.zeros((num_runs, ))  for task_name in tasks_names}\n",
    "valid_acc_task_switching = {task_name: np.zeros((num_runs, )) for task_name in tasks_names}\n",
    "\n",
    "valid_acc_individual['joint'] = np.zeros((num_runs, ))\n",
    "valid_acc_parallel['joint'] = np.zeros((num_runs, ))\n",
    "valid_acc_task_switching['joint'] = np.zeros((num_runs, ))"
   ]
  },
  {
   "cell_type": "code",
   "execution_count": 10,
   "metadata": {},
   "outputs": [],
   "source": [
    "df_results_all = pd.DataFrame({}, columns=['Acc', 'Model', 'Task'])\n",
    "\n",
    "for i_seed, seed in enumerate(seeds_individual):\n",
    "    for task_name in tasks_names:\n",
    "        min_idx_individual = -1\n",
    "        min_valid_acc_individual = results_individual[seed][task_name]['results']['valid_acc'][min_idx_individual]\n",
    "        valid_acc_individual[task_name][i_seed] = min_valid_acc_individual\n",
    "\n",
    "        min_idx_parallel = -1\n",
    "        min_valid_acc_parallel = results_parallel[seed]['results']['valid_acc'][task_name][min_idx_parallel]\n",
    "        valid_acc_parallel[task_name][i_seed] = min_valid_acc_parallel\n",
    "\n",
    "        min_idx_task_switching = -1\n",
    "        min_valid_acc_task_switching = results_task_switching[seed]['results']['valid_acc'][task_name][min_idx_task_switching]\n",
    "        valid_acc_task_switching[task_name][i_seed] = min_valid_acc_task_switching"
   ]
  },
  {
   "cell_type": "code",
   "execution_count": 11,
   "metadata": {},
   "outputs": [
    {
     "data": {
      "text/plain": [
       "dict_keys(['indices', 'parity', 'value', 'prime', 'fibonacci', 'multiples3'])"
      ]
     },
     "execution_count": 11,
     "metadata": {},
     "output_type": "execute_result"
    }
   ],
   "source": [
    "results_individual[seed].keys()"
   ]
  },
  {
   "cell_type": "code",
   "execution_count": 12,
   "metadata": {},
   "outputs": [
    {
     "name": "stdout",
     "output_type": "stream",
     "text": [
      "Running on CPU.\n"
     ]
    }
   ],
   "source": [
    "device = get_device()\n",
    "criterion = nn.CrossEntropyLoss()\n",
    "tasks = dataset.get_tasks_dict(tasks_names, root=path_data)"
   ]
  },
  {
   "cell_type": "code",
   "execution_count": 13,
   "metadata": {},
   "outputs": [
    {
     "data": {
      "application/vnd.jupyter.widget-view+json": {
       "model_id": "389796c490b24071a3091d22f5e138d2",
       "version_major": 2,
       "version_minor": 0
      },
      "text/plain": [
       "  0%|          | 0/10 [00:00<?, ?it/s]"
      ]
     },
     "metadata": {},
     "output_type": "display_data"
    }
   ],
   "source": [
    "# Calculate Joint Individual\n",
    "joint_individual = np.zeros((num_runs, num_test, num_tasks))\n",
    "\n",
    "for i_seed, seed in tqdm(enumerate(seeds_individual), total=len(seeds_individual)):\n",
    "    indices = results_individual[seed]['indices']\n",
    "    test_model = get_individual_model(num_hidden, device)\n",
    "    test_sampler = dataset.SequentialSampler(indices['test'])\n",
    "\n",
    "    for i_task, (task_name, task_dataset) in enumerate(tasks.items()):\n",
    "        saved_model = results_individual[seed][task_name]['model']\n",
    "        test_model.load_state_dict(saved_model)\n",
    "        test_model = test_model.to(device)\n",
    "        \n",
    "        test_sampler = dataset.SequentialSampler(indices['test'])\n",
    "        testloader = torch.utils.data.DataLoader(task_dataset,\n",
    "                                                 sampler=test_sampler,\n",
    "                                                 batch_size=100)\n",
    "\n",
    "        acc_test, _ = hooks_individual.get_layer_activations(test_model,\n",
    "                                                             testloader,\n",
    "                                                             criterion,\n",
    "                                                             device=device,\n",
    "                                                             disable=True)\n",
    "        joint_individual[i_seed][:, i_task] = acc_test.flatten()\n",
    "\n",
    "valid_acc_individual['joint'] = np.prod(joint_individual, axis=2).mean(axis=1)"
   ]
  },
  {
   "cell_type": "code",
   "execution_count": 14,
   "metadata": {},
   "outputs": [],
   "source": [
    "parallel_datasets = {}\n",
    "for task_name in tasks_names:\n",
    "    parallel_datasets[task_name] = tasks[task_name]\n",
    "\n",
    "parallel_tasks = dataset.MultilabelTasks(parallel_datasets)"
   ]
  },
  {
   "cell_type": "code",
   "execution_count": 15,
   "metadata": {},
   "outputs": [
    {
     "data": {
      "application/vnd.jupyter.widget-view+json": {
       "model_id": "3690929029d34a63ae125bf22227eaa7",
       "version_major": 2,
       "version_minor": 0
      },
      "text/plain": [
       "  0%|          | 0/10 [00:00<?, ?it/s]"
      ]
     },
     "metadata": {},
     "output_type": "display_data"
    }
   ],
   "source": [
    "# Calculate Joint Parallel\n",
    "joint_parallel = np.zeros((num_runs, num_test, num_tasks))\n",
    "\n",
    "for i_seed, seed in tqdm(enumerate(seeds_parallel), total=num_runs):\n",
    "    saved_model = results_parallel[seed]['model']\n",
    "    test_model = get_parallel_model(num_tasks,\n",
    "                               num_hidden,\n",
    "                               device)\n",
    "    test_model.load_state_dict(saved_model)\n",
    "    test_model = test_model.to(device)\n",
    "    \n",
    "    indices = results_parallel[seed]['indices']\n",
    "\n",
    "    test_sampler = dataset.SequentialSampler(indices['test'])\n",
    "    parallel_testloader = torch.utils.data.DataLoader(parallel_tasks,\n",
    "                                                      sampler=test_sampler,\n",
    "                                                      batch_size=batch_size)\n",
    "\n",
    "    numbers = parallel_datasets[tasks_names[0]].numbers\n",
    "    numbers = numbers[indices['test']]\n",
    "    \n",
    "    acc_test, _ = hooks_parallel.get_layer_activations(test_model,\n",
    "                                                       parallel_testloader,\n",
    "                                                       criterion=criterion,\n",
    "                                                       device=device,\n",
    "                                                       disable=True)\n",
    "\n",
    "    for i_task, task_name in enumerate(tasks_names):                  \n",
    "            joint_parallel[i_seed][:, i_task] = acc_test[task_name].flatten()\n",
    "    \n",
    "\n",
    "valid_acc_parallel['joint'] = np.prod(joint_parallel, axis=2).mean(axis=1)"
   ]
  },
  {
   "cell_type": "code",
   "execution_count": 16,
   "metadata": {},
   "outputs": [
    {
     "name": "stdout",
     "output_type": "stream",
     "text": [
      "parity: [1, 0, 0, 0, 0]\n",
      "value: [0, 1, 0, 0, 0]\n",
      "prime: [0, 0, 1, 0, 0]\n",
      "fibonacci: [0, 0, 0, 1, 0]\n",
      "multiples3: [0, 0, 0, 0, 1]\n"
     ]
    }
   ],
   "source": [
    "tasks_datasets = dataset.get_tasks_dict(tasks_names,\n",
    "                                        root=path_data)\n",
    "\n",
    "task_switching_tasks = {}\n",
    "num_tasks = len(tasks_names)\n",
    "\n",
    "for i_context, task_name in enumerate(tasks_names):\n",
    "    task_switching_tasks[task_name] = {}\n",
    "    task_switching_tasks[task_name]['data'] = tasks_datasets[task_name]\n",
    "    task_switching_tasks[task_name]['activations'] = num_tasks * [0]\n",
    "    task_switching_tasks[task_name]['activations'][i_context] = 1\n",
    "\n",
    "for key, value in task_switching_tasks.items():\n",
    "    print(f'{key}: {value[\"activations\"]}')"
   ]
  },
  {
   "cell_type": "code",
   "execution_count": 17,
   "metadata": {},
   "outputs": [
    {
     "data": {
      "application/vnd.jupyter.widget-view+json": {
       "model_id": "05cb4a02819941f49ad749e14a058b9a",
       "version_major": 2,
       "version_minor": 0
      },
      "text/plain": [
       "  0%|          | 0/10 [00:00<?, ?it/s]"
      ]
     },
     "metadata": {},
     "output_type": "display_data"
    }
   ],
   "source": [
    "# Calculate Joint Task-Switching\n",
    "joint_task_switching = np.zeros((num_runs, num_test, num_tasks))\n",
    "\n",
    "for i_seed, seed in tqdm(enumerate(seeds_task_switching), total=num_runs):\n",
    "    state_dict = results_task_switching[seed]['model']\n",
    "    model = get_task_model(task_switching_tasks,\n",
    "                           num_hidden,\n",
    "                           idxs_contexts,\n",
    "                           device)\n",
    "    model.load_state_dict(state_dict)\n",
    "    \n",
    "    indices = results_task_switching[seed]['indices']\n",
    "\n",
    "    test_sampler = dataset.SequentialSampler(indices['test'])\n",
    "    _, test_dataloaders = dataset.create_dict_dataloaders(task_switching_tasks,\n",
    "                                                          indices,\n",
    "                                                          batch_size=batch_size)\n",
    "    tasks_testloader = dataset.SequentialTaskDataloader(test_dataloaders)\n",
    "\n",
    "    numbers = test_dataloaders[tasks_names[0]].dataset.numbers.numpy()\n",
    "    numbers = numbers[indices['test']]\n",
    "\n",
    "    acc_test, _ = hooks_task_switching.get_layer_activations(model,\n",
    "                                                             tasks_testloader,\n",
    "                                                             criterion,\n",
    "                                                             device=device,\n",
    "                                                             disable=True)\n",
    "\n",
    "    for i_task, task_name in enumerate(tasks_names):                  \n",
    "        joint_task_switching[i_seed][:, i_task] = acc_test[task_name].flatten()\n",
    "\n",
    "valid_acc_task_switching['joint'] = np.prod(joint_task_switching, axis=2).mean(axis=1)"
   ]
  },
  {
   "cell_type": "code",
   "execution_count": 18,
   "metadata": {},
   "outputs": [],
   "source": [
    "df_results_all = pd.DataFrame({}, columns=['Acc', 'Model', 'Task'])\n",
    "\n",
    "for task_name in tasks_names + ['joint']:\n",
    "    task_name_capitalized = task_name.capitalize()\n",
    "\n",
    "    df_results_individual = pd.DataFrame({'Acc': valid_acc_individual[task_name], 'Model': 'Sequential', 'Task': task_name_capitalized})\n",
    "    df_results_parallel = pd.DataFrame({'Acc': valid_acc_parallel[task_name], 'Model': 'Parallel', 'Task': task_name_capitalized})\n",
    "    df_results_task_switching = pd.DataFrame({'Acc': valid_acc_task_switching[task_name], 'Model': 'Task-Switching', 'Task': task_name_capitalized})\n",
    "    df_results_all = pd.concat((df_results_all, df_results_individual, df_results_parallel, df_results_task_switching))\n",
    "\n",
    "df_results_all.loc[df_results_all['Task'] == 'Fibonacci', 'Task'] = 'Fib.'\n",
    "df_results_all.loc[df_results_all['Task'] == 'Multiples3', 'Task'] = 'Mul. 3'\n",
    "\n",
    "df_results_all.reset_index(drop=True, inplace=True)"
   ]
  },
  {
   "cell_type": "code",
   "execution_count": 19,
   "metadata": {},
   "outputs": [],
   "source": [
    "# Capitalize tasks, and prevent Mul3 to not appear in the statannotations\n",
    "\n",
    "if num_tasks == 2:\n",
    "    new_task_names = ['Parity', 'Value', 'Joint']\n",
    "else:\n",
    "    new_task_names = ['Parity', 'Value', 'Prime', 'Fib.', 'Mul. 3', 'Joint']"
   ]
  },
  {
   "cell_type": "code",
   "execution_count": 20,
   "metadata": {},
   "outputs": [],
   "source": [
    "box_pairs = []\n",
    "\n",
    "for task in new_task_names:\n",
    "\n",
    "    acc_sequential = df_results_all[(df_results_all['Task'] == task) & (df_results_all['Model'] == 'Sequential')]['Acc'].tolist()\n",
    "    acc_parallel = df_results_all[(df_results_all['Task'] == task) & (df_results_all['Model'] == 'Parallel')]['Acc'].tolist()\n",
    "    acc_task_switching = df_results_all[(df_results_all['Task'] == task) & (df_results_all['Model'] == 'Task-Switching')]['Acc'].tolist()\n",
    "\n",
    "    _, pvalue_sequential_parallel = stats.wilcoxon(acc_sequential, acc_parallel)\n",
    "    _, pvalue_sequential_ts = stats.wilcoxon(acc_sequential, acc_task_switching)\n",
    "    _, pvalue_parallel_ts = stats.wilcoxon(acc_parallel, acc_task_switching)\n",
    "\n",
    "    if pvalue_sequential_parallel <= 0.05:\n",
    "        box_pairs.append(((task, 'Sequential'), (task, 'Parallel')))\n",
    "\n",
    "    if pvalue_sequential_ts <= 0.05:\n",
    "        box_pairs.append(((task, 'Sequential'), (task, 'Task-Switching')))\n",
    "\n",
    "    if pvalue_parallel_ts <= 0.05:\n",
    "        box_pairs.append(((task, 'Parallel'), (task, 'Task-Switching')))"
   ]
  },
  {
   "cell_type": "code",
   "execution_count": 21,
   "metadata": {},
   "outputs": [
    {
     "name": "stdout",
     "output_type": "stream",
     "text": [
      "p-value annotation legend:\n",
      "      ns: 5.00e-02 < p <= 1.00e+00\n",
      "       *: 1.00e-02 < p <= 5.00e-02\n",
      "      **: 1.00e-03 < p <= 1.00e-02\n",
      "     ***: 1.00e-04 < p <= 1.00e-03\n",
      "    ****: p <= 1.00e-04\n",
      "\n",
      "Mul. 3_Sequential vs. Mul. 3_Parallel: Wilcoxon test (paired samples), P_val:3.906e-03 Stat=1.000e+00\n",
      "Joint_Sequential vs. Joint_Parallel: Wilcoxon test (paired samples), P_val:1.953e-03 Stat=0.000e+00\n",
      "Mul. 3_Sequential vs. Mul. 3_Task-Switching: Wilcoxon test (paired samples), P_val:1.953e-03 Stat=0.000e+00\n",
      "Joint_Sequential vs. Joint_Task-Switching: Wilcoxon test (paired samples), P_val:1.953e-03 Stat=0.000e+00\n"
     ]
    },
    {
     "data": {
      "image/png": "[encoded data removed]",
      "text/plain": [
       "<Figure size 600x400 with 1 Axes>"
      ]
     },
     "metadata": {},
     "output_type": "display_data"
    }
   ],
   "source": [
    "num_layers = len(num_hidden)\n",
    "num_units = num_hidden[0]\n",
    "num_tasks = len(tasks_names)\n",
    "\n",
    "fig = plt.figure(figsize=(6, 4))\n",
    "sns.boxplot(x='Task', y='Acc', hue='Model', data=df_results_all, showfliers=False, **seaborn_props)\n",
    "sns.stripplot(x='Task', y='Acc', hue='Model', data=df_results_all, dodge=True, zorder=-1)\n",
    "\n",
    "plt.xlabel('Task')\n",
    "plt.ylabel('Accuracy')\n",
    "\n",
    "\n",
    "ax = plt.gca()\n",
    "annotator = Annotator(\n",
    "    ax,\n",
    "    data=df_results_all,\n",
    "    x='Task',\n",
    "    y='Acc',\n",
    "    hue='Model',\n",
    "    pairs=box_pairs)\n",
    "\n",
    "annotator.configure(test=\"Wilcoxon\",\n",
    "                    text_format=\"star\",\n",
    "                    loc=\"inside\",\n",
    "                    fontsize=15)\n",
    "annotator.apply_and_annotate()\n",
    "\n",
    "plt.ylim(0.94, 1.0)\n",
    "\n",
    "    \n",
    "handles, labels = ax.get_legend_handles_labels()\n",
    "ax.legend(handles=handles[:3], labels=labels[:3],\n",
    "          loc='lower left')\n",
    "\n",
    "fig.savefig(path_figure,\n",
    "            transparent=True,\n",
    "            bbox_inches='tight')\n",
    "plt.show()"
   ]
  },
  {
   "cell_type": "code",
   "execution_count": 22,
   "metadata": {},
   "outputs": [
    {
     "name": "stdout",
     "output_type": "stream",
     "text": [
      "Sequential\n",
      "parity: 0.9854 ± 0.0023\n",
      "value: 0.9841 ± 0.0016\n",
      "prime: 0.9885 ± 0.0016\n",
      "fibonacci: nan ± nan\n",
      "multiples3: nan ± nan\n",
      "joint: 0.9512 ± 0.0031\n",
      "\n",
      "Parallel\n",
      "parity: 0.9868 ± 0.0009\n",
      "value: 0.9851 ± 0.0013\n",
      "prime: 0.9882 ± 0.0011\n",
      "fibonacci: nan ± nan\n",
      "multiples3: nan ± nan\n",
      "joint: 0.9691 ± 0.0022\n",
      "\n",
      "Task-Switching\n",
      "parity: 0.9869 ± 0.0011\n",
      "value: 0.985 ± 0.0016\n",
      "prime: 0.9885 ± 0.0007\n",
      "fibonacci: nan ± nan\n",
      "multiples3: nan ± nan\n",
      "joint: 0.969 ± 0.0018\n"
     ]
    }
   ],
   "source": [
    "print('Sequential')\n",
    "for task in tasks_names + ['joint']:\n",
    "    filtered_df = df_results_all[(df_results_all['Task'] == task.capitalize()) & (df_results_all['Model'] == 'Sequential')]\n",
    "    mean_acc = filtered_df['Acc'].mean()\n",
    "    mean_std = filtered_df['Acc'].std()\n",
    "    print(f'{task}: {mean_acc:.4} ± {mean_std:.4f}')\n",
    "\n",
    "print('\\nParallel')\n",
    "for task in tasks_names + ['joint']:\n",
    "    filtered_df = df_results_all[(df_results_all['Task'] == task.capitalize()) & (df_results_all['Model'] == 'Parallel')]\n",
    "    mean_acc = filtered_df['Acc'].mean()\n",
    "    mean_std = filtered_df['Acc'].std()\n",
    "    print(f'{task}: {mean_acc:.4} ± {mean_std:.4f}')\n",
    "\n",
    "print('\\nTask-Switching')\n",
    "for task in tasks_names + ['joint']:\n",
    "    filtered_df = df_results_all[(df_results_all['Task'] == task.capitalize()) & (df_results_all['Model'] == 'Task-Switching')]\n",
    "    mean_acc = filtered_df['Acc'].mean()\n",
    "    mean_std = filtered_df['Acc'].std()\n",
    "    print(f'{task}: {mean_acc:.4} ± {mean_std:.4f}')"
   ]
  },
  {
   "cell_type": "code",
   "execution_count": 23,
   "metadata": {},
   "outputs": [
    {
     "name": "stdout",
     "output_type": "stream",
     "text": [
      "parity\n",
      "Individual - Parallel: 0.232421875 (No significance)\n",
      "Individual - Task Switching: 0.130859375 (No significance)\n",
      "Parallel - Task Switching: 0.76953125 (No significance)\n",
      "\n",
      "value\n",
      "Individual - Parallel: 0.431640625 (No significance)\n",
      "Individual - Task Switching: 0.322265625 (No significance)\n",
      "Parallel - Task Switching: 1.0 (No significance)\n",
      "\n",
      "prime\n",
      "Individual - Parallel: 0.845703125 (No significance)\n",
      "Individual - Task Switching: 0.845703125 (No significance)\n",
      "Parallel - Task Switching: 1.0 (No significance)\n",
      "\n",
      "fibonacci\n",
      "Individual - Parallel: nan (No significance)\n",
      "Individual - Task Switching: nan (No significance)\n",
      "Parallel - Task Switching: nan (No significance)\n",
      "\n",
      "multiples3\n",
      "Individual - Parallel: nan (No significance)\n",
      "Individual - Task Switching: nan (No significance)\n",
      "Parallel - Task Switching: nan (No significance)\n",
      "\n",
      "joint\n",
      "Individual - Parallel: 0.001953125 (*)\n",
      "Individual - Task Switching: 0.001953125 (*)\n",
      "Parallel - Task Switching: 0.845703125 (No significance)\n",
      "\n"
     ]
    }
   ],
   "source": [
    "import scipy.stats as stats\n",
    "\n",
    "def run_wilcoxon(acc_group1, acc_group2):\n",
    "\n",
    "    _, pvalue = stats.wilcoxon(acc_group1, acc_group2)\n",
    "\n",
    "    if 0.001 < pvalue <= 0.05:\n",
    "        pvalue_str = f'{pvalue} (*)'\n",
    "    elif pvalue <= 0.001:\n",
    "        pvalue_str = f'{pvalue} (**)'\n",
    "    else:\n",
    "        pvalue_str = f'{pvalue} (No significance)'\n",
    "\n",
    "    return pvalue_str\n",
    "\n",
    "for task in tasks_names + ['joint']:\n",
    "    acc_individual = df_results_all[(df_results_all['Task'] == task.capitalize()) & (df_results_all['Model'] == 'Sequential')]['Acc'].tolist()\n",
    "    acc_parallel = df_results_all[(df_results_all['Task'] == task.capitalize()) & (df_results_all['Model'] == 'Parallel')]['Acc'].tolist()\n",
    "    acc_task_switching = df_results_all[(df_results_all['Task'] == task.capitalize()) & (df_results_all['Model'] == 'Task-Switching')]['Acc'].tolist()\n",
    "\n",
    "    print(task)\n",
    "    print(f'Individual - Parallel: {run_wilcoxon(acc_individual, acc_parallel)}')\n",
    "    print(f'Individual - Task Switching: {run_wilcoxon(acc_individual, acc_task_switching)}')\n",
    "    print(f'Parallel - Task Switching: {run_wilcoxon(acc_parallel, acc_task_switching)}')\n",
    "    print()\n"
   ]
  }
 ],
 "metadata": {
  "kernelspec": {
   "display_name": "Python 3.8.10",
   "language": "python",
   "name": "python3"
  },
  "language_info": {
   "codemirror_mode": {
    "name": "ipython",
    "version": 3
   },
   "file_extension": ".py",
   "mimetype": "text/x-python",
   "name": "python",
   "nbconvert_exporter": "python",
   "pygments_lexer": "ipython3",
   "version": "3.8.10"
  },
  "orig_nbformat": 4,
  "vscode": {
   "interpreter": {
    "hash": "5de0b3d16828453b801d3a971a2e845298ac67ea708b1fd16f0d1197d2abd69f"
   }
  }
 },
 "nbformat": 4,
 "nbformat_minor": 2
}
