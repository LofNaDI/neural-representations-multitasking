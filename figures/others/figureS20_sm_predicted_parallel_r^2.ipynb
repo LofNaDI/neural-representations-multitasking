{
 "cells": [
  {
   "cell_type": "code",
   "execution_count": 1,
   "metadata": {},
   "outputs": [],
   "source": [
    "import os\n",
    "\n",
    "import matplotlib.pyplot as plt\n",
    "import numpy as np"
   ]
  },
  {
   "cell_type": "code",
   "execution_count": 2,
   "metadata": {},
   "outputs": [],
   "source": [
    "parity =    np.array([[1, 0, 1, 0, 1, 0, 1, 0, 1, 0]])\n",
    "value =     np.array([[1, 1, 1, 1, 1, 0, 0, 0, 0, 0]])\n",
    "prime =     np.array([[0, 0, 1, 1, 0, 1, 0, 1, 0, 0]])\n",
    "fibonacci = np.array([[1, 1, 1, 1, 0, 1, 0, 0, 1, 0]])\n",
    "mul3 =      np.array([[0, 0, 0, 1, 0, 0, 1, 0, 0, 1]])\n",
    "\n",
    "vowel =        np.array([[1, 0, 0, 0, 1, 0, 0, 0, 1, 0, 0, 0, 0, 0, 1, 0, 0, 0, 0, 0, 1, 0, 0, 0, 0, 0]])\n",
    "position =     np.array([[1, 1, 1, 1, 1, 1, 1, 1, 1, 1, 1, 1, 1, 0, 0, 0, 0, 0, 0, 0, 0, 0, 0, 0, 0, 0]])"
   ]
  },
  {
   "cell_type": "code",
   "execution_count": 3,
   "metadata": {},
   "outputs": [],
   "source": [
    "def compute_sm_parallel(tasks):\n",
    "    num_tasks = len(tasks)\n",
    "    num_classes = tasks[0].shape[1]\n",
    "\n",
    "    similarity_matrix_U = np.zeros((num_classes, num_classes))\n",
    "    similarity_matrix_I = np.ones((num_classes, num_classes))\n",
    "\n",
    "    for task in tasks:\n",
    "        similarity_matrix_U += ((task.T @ task) + (1 - task).T @ (1 - task)) / num_tasks\n",
    "        similarity_matrix_I *= ((task.T @ task) + (1 - task).T @ (1 - task))\n",
    "\n",
    "    return similarity_matrix_U, similarity_matrix_I"
   ]
  },
  {
   "cell_type": "code",
   "execution_count": 5,
   "metadata": {},
   "outputs": [
    {
     "name": "stdout",
     "output_type": "stream",
     "text": [
      "0.518504749719163 0.997433862823115 0.9987042141185174 0.9985616160267323\n"
     ]
    },
    {
     "data": {
      "image/png": "[encoded data removed]",
      "text/plain": [
       "<Figure size 640x480 with 3 Axes>"
      ]
     },
     "metadata": {},
     "output_type": "display_data"
    },
    {
     "name": "stdout",
     "output_type": "stream",
     "text": [
      "0.37824763765737307 0.9745720945899898 0.9894226020764847 0.9774373563595427\n"
     ]
    },
    {
     "data": {
      "image/png": "[encoded data removed]",
      "text/plain": [
       "<Figure size 640x480 with 3 Axes>"
      ]
     },
     "metadata": {},
     "output_type": "display_data"
    },
    {
     "name": "stdout",
     "output_type": "stream",
     "text": [
      "0.4657985214487965 0.933803554836263 0.9695700273892156 0.9679746680649721\n"
     ]
    },
    {
     "data": {
      "image/png": "[encoded data removed]",
      "text/plain": [
       "<Figure size 640x480 with 3 Axes>"
      ]
     },
     "metadata": {},
     "output_type": "display_data"
    },
    {
     "name": "stdout",
     "output_type": "stream",
     "text": [
      "0.5236049112646693 0.9201608949303147 0.9606586167941704 0.9598341709161486\n"
     ]
    },
    {
     "data": {
      "image/png": "[encoded data removed]",
      "text/plain": [
       "<Figure size 640x480 with 3 Axes>"
      ]
     },
     "metadata": {},
     "output_type": "display_data"
    },
    {
     "name": "stdout",
     "output_type": "stream",
     "text": [
      "0.3377534824186661 0.9286524338255093 0.977781514409194 0.9694754869927904\n"
     ]
    },
    {
     "data": {
      "image/png": "[encoded data removed]",
      "text/plain": [
       "<Figure size 640x480 with 3 Axes>"
      ]
     },
     "metadata": {},
     "output_type": "display_data"
    }
   ],
   "source": [
    "# digits\n",
    "num_classes = 10 # digits 0...9\n",
    "tasks = [parity, value, prime, fibonacci, mul3]\n",
    "min_tasks = 2\n",
    "num_cases = len(tasks)\n",
    "cases = range(min_tasks, num_cases + 1) # tasks 2...5\n",
    "\n",
    "pn_fa_d = np.zeros((num_cases, num_classes, num_classes))\n",
    "pn_Upred_d = np.zeros((num_cases, num_classes, num_classes))\n",
    "pn_Ipred_d = np.zeros((num_cases, num_classes, num_classes))\n",
    "pn_Icoeff_d = np.zeros((num_cases))\n",
    "path_figure_digits = list(cases)\n",
    "for num_tasks in cases:\n",
    "    pn_fa_d[num_tasks-2] = np.load(os.path.join('matrices', str(num_tasks) + '_digits.npy'))\n",
    "    pn_Upred_d[num_tasks-2], pn_Ipred_d[num_tasks-2] = compute_sm_parallel(tasks[:num_tasks])\n",
    "\n",
    "    # The two-dimensional domain of the fit.\n",
    "    X = pn_Ipred_d[num_tasks-2] - pn_Upred_d[num_tasks-2]\n",
    "    A = X.ravel()\n",
    "    A = A[:,np.newaxis]\n",
    "    \n",
    "    Z = pn_fa_d[num_tasks-2] - pn_Upred_d[num_tasks-2]\n",
    "    b = Z.ravel()\n",
    "    \n",
    "    c, r, rank, s = np.linalg.lstsq(A, b)\n",
    "\n",
    "    SSres = sum((pn_fa_d[num_tasks-2] - (c*pn_Ipred_d[num_tasks-2] + (1-c)*pn_Upred_d[num_tasks-2])).ravel()**2)\n",
    "    SStot = sum(pn_fa_d[num_tasks-2].ravel()**2) # no intercept (https://stats.stackexchange.com/a/26205/99681)\n",
    "    # SStot = sum((pn_fa_d[num_tasks-2].ravel() - np.mean(pn_fa_d[num_tasks-2].ravel()))**2) # with intercept\n",
    "    r2 = 1 - r / (pn_fa_d[num_tasks-2].size * pn_fa_d[num_tasks-2].ravel().var()) # with intercept\n",
    "    rsquared = 1 - SSres/SStot\n",
    "\n",
    "    SSres = sum((pn_fa_d[num_tasks-2] - (0.5*pn_Ipred_d[num_tasks-2] + 0.5*pn_Upred_d[num_tasks-2])).ravel()**2)\n",
    "    SStot = sum(pn_fa_d[num_tasks-2].ravel()**2) # no intercept (https://stats.stackexchange.com/a/26205/99681)\n",
    "    rsquared05 = 1 - SSres/SStot\n",
    "    \n",
    "    print(c.item(), r2.item(), rsquared, rsquared05)\n",
    "\n",
    "    pn_Icoeff_d[num_tasks-2] = c.item()\n",
    "\n",
    "    path_figure_digits[num_tasks-2] = os.path.join('svg', 'figureS20_sm_predicted_parallel_digits_' + str(num_tasks) + '.svg')\n",
    "\n",
    "    fig, ax = plt.subplots(1, 3)\n",
    "\n",
    "    ax[0].imshow(pn_fa_d[num_tasks-2], cmap='coolwarm_r', vmin=-1, vmax=1)\n",
    "    ax[0].axis('off')\n",
    "\n",
    "    ax[1].imshow(c*pn_Ipred_d[num_tasks-2] + (1-c)*pn_Upred_d[num_tasks-2], cmap='coolwarm_r', vmin=-1, vmax=1)\n",
    "    ax[1].axis('off')\n",
    "\n",
    "    ax[2].imshow(0.5*pn_Ipred_d[num_tasks-2] + 0.5*pn_Upred_d[num_tasks-2], cmap='coolwarm_r', vmin=-1, vmax=1)\n",
    "    ax[2].axis('off')\n",
    "    \n",
    "    fig.tight_layout()\n",
    "    fig.savefig(path_figure_digits[num_tasks-2])\n",
    "    plt.show()\n",
    "    \n",
    "# letters\n",
    "tasks = [vowel, position]\n",
    "pn_fa_l2 = np.load(os.path.join('matrices', '2_letters.npy'))\n",
    "pn_Upred_l2, pn_Ipred_l2 = compute_sm_parallel(tasks)\n",
    "\n",
    "# The two-dimensional domain of the fit.\n",
    "X = pn_Ipred_l2 - pn_Upred_l2\n",
    "A = X.ravel()\n",
    "A = A[:,np.newaxis]\n",
    "    \n",
    "Z = pn_fa_l2 - pn_Upred_l2\n",
    "b = Z.ravel()\n",
    "    \n",
    "c, r, rank, s = np.linalg.lstsq(A, b)\n",
    "\n",
    "SSres = sum((pn_fa_l2 - (c*pn_Ipred_l2 + (1-c)*pn_Upred_l2)).ravel()**2)\n",
    "SStot = sum(pn_fa_l2.ravel()**2) # no intercept (https://stats.stackexchange.com/a/26205/99681)\n",
    "# SStot = sum((pn_fa_l2.ravel() - np.mean(pn_fa_l2.ravel()))**2) # with intercept\n",
    "r2 = 1 - r / (pn_fa_l2.size * pn_fa_l2.ravel().var()) # with intercept\n",
    "rsquared = 1 - SSres/SStot\n",
    "\n",
    "SSres = sum((pn_fa_l2 - (0.5*pn_Ipred_l2 + 0.5*pn_Upred_l2)).ravel()**2)\n",
    "SStot = sum(pn_fa_l2.ravel()**2) # no intercept (https://stats.stackexchange.com/a/26205/99681)\n",
    "rsquared05 = 1 - SSres/SStot\n",
    "    \n",
    "print(c.item(), r2.item(), rsquared, rsquared05)\n",
    "\n",
    "pn_Icoeff_l2 = c.item()\n",
    "\n",
    "path_figure_letters_2 = os.path.join('svg', 'figureS20_sm_predicted_parallel_letters_2.svg')\n",
    "\n",
    "fig, ax = plt.subplots(1, 3)\n",
    "\n",
    "ax[0].imshow(pn_fa_l2, cmap='coolwarm_r', vmin=-1, vmax=1)\n",
    "ax[0].axis('off')\n",
    "\n",
    "ax[1].imshow(c*pn_Ipred_l2 + (1-c)*pn_Upred_l2, cmap='coolwarm_r', vmin=-1, vmax=1)\n",
    "ax[1].axis('off')\n",
    "\n",
    "ax[2].imshow(0.5*pn_Ipred_l2 + 0.5*pn_Upred_l2, cmap='coolwarm_r', vmin=-1, vmax=1)\n",
    "ax[2].axis('off')\n",
    "    \n",
    "fig.tight_layout()\n",
    "fig.savefig(path_figure_letters_2)\n",
    "plt.show()"
   ]
  },
  {
   "cell_type": "code",
   "execution_count": null,
   "metadata": {},
   "outputs": [],
   "source": []
  }
 ],
 "metadata": {
  "kernelspec": {
   "display_name": "Python 3 (ipykernel)",
   "language": "python",
   "name": "python3"
  },
  "language_info": {
   "codemirror_mode": {
    "name": "ipython",
    "version": 3
   },
   "file_extension": ".py",
   "mimetype": "text/x-python",
   "name": "python",
   "nbconvert_exporter": "python",
   "pygments_lexer": "ipython3",
   "version": "3.12.5"
  },
  "vscode": {
   "interpreter": {
    "hash": "5de0b3d16828453b801d3a971a2e845298ac67ea708b1fd16f0d1197d2abd69f"
   }
  }
 },
 "nbformat": 4,
 "nbformat_minor": 4
}
