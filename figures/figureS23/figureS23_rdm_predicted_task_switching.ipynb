{
 "cells": [
  {
   "cell_type": "code",
   "execution_count": 1,
   "metadata": {},
   "outputs": [],
   "source": [
    "import os\n",
    "\n",
    "import matplotlib.pyplot as plt\n",
    "import numpy as np"
   ]
  },
  {
   "cell_type": "code",
   "execution_count": 2,
   "metadata": {},
   "outputs": [],
   "source": [
    "path_figure = os.path.join('svg', 'figureS23_rdm_predicted_task_switching.svg')"
   ]
  },
  {
   "cell_type": "code",
   "execution_count": 3,
   "metadata": {},
   "outputs": [],
   "source": [
    "parity =    np.array([[1, 0, 1, 0, 1, 0, 1, 0, 1, 0]])\n",
    "value =     np.array([[1, 1, 1, 1, 1, 0, 0, 0, 0, 0]])\n",
    "prime =     np.array([[0, 0, 1, 1, 0, 1, 0, 1, 0, 0]])\n",
    "fibonacci = np.array([[1, 1, 1, 1, 0, 1, 0, 0, 1, 0]])\n",
    "mul3 =      np.array([[0, 0, 0, 1, 0, 0, 1, 0, 0, 1]])\n",
    "\n",
    "vowel =        np.array([[1, 0, 0, 0, 1, 0, 0, 0, 1, 0, 0, 0, 0, 0, 1, 0, 0, 0, 0, 0, 1, 0, 0, 0, 0, 0]])\n",
    "position =     np.array([[1, 1, 1, 1, 1, 1, 1, 1, 1, 1, 1, 1, 1, 0, 0, 0, 0, 0, 0, 0, 0, 0, 0, 0, 0, 0]])"
   ]
  },
  {
   "cell_type": "code",
   "execution_count": 4,
   "metadata": {},
   "outputs": [],
   "source": [
    "def compute_rdm_task_switching(tasks):\n",
    "    assert len(tasks) == 2\n",
    "\n",
    "    correlation_matrix = tasks[0].T @ tasks[1] + (1 - tasks[0]).T @ (1 - tasks[1])\n",
    "\n",
    "    return (1 - correlation_matrix) / 2"
   ]
  },
  {
   "cell_type": "code",
   "execution_count": 5,
   "metadata": {},
   "outputs": [
    {
     "data": {
      "image/png": "[encoded data removed]",
      "text/plain": [
       "<Figure size 600x600 with 25 Axes>"
      ]
     },
     "metadata": {},
     "output_type": "display_data"
    }
   ],
   "source": [
    "tasks = [parity, value, prime, fibonacci, mul3]\n",
    "num_tasks = len(tasks)\n",
    "\n",
    "fig, ax = plt.subplots(num_tasks, num_tasks, figsize=(6, 6))\n",
    "\n",
    "for i_task, task1 in enumerate(tasks):\n",
    "    for j_task, task2 in enumerate(tasks):\n",
    "        ax[i_task, j_task].imshow(compute_rdm_task_switching([task1, task2]), vmin=0, vmax=1, cmap='coolwarm')\n",
    "        ax[i_task, j_task].axis('off')\n",
    "\n",
    "fig.tight_layout()\n",
    "fig.savefig(path_figure)\n",
    "plt.show()"
   ]
  }
 ],
 "metadata": {
  "kernelspec": {
   "display_name": "multitask",
   "language": "python",
   "name": "python3"
  },
  "language_info": {
   "codemirror_mode": {
    "name": "ipython",
    "version": 3
   },
   "file_extension": ".py",
   "mimetype": "text/x-python",
   "name": "python",
   "nbconvert_exporter": "python",
   "pygments_lexer": "ipython3",
   "version": "3.8.10"
  }
 },
 "nbformat": 4,
 "nbformat_minor": 2
}
