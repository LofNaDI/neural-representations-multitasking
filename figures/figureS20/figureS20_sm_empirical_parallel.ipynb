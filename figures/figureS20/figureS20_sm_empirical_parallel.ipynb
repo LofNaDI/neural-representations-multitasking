{
 "cells": [
  {
   "cell_type": "code",
   "execution_count": 1,
   "metadata": {},
   "outputs": [],
   "source": [
    "import os\n",
    "import pickle\n",
    "\n",
    "import matplotlib.pyplot as plt\n",
    "import numpy as np\n",
    "import torch\n",
    "import torch.nn as nn\n",
    "from tqdm.auto import tqdm\n",
    "\n",
    "import multitask.dataset as dataset\n",
    "import multitask.models.parallel.hooks as hooks\n",
    "from multitask.models.parallel import get_parallel_model\n",
    "from multitask.representations import get_mean_activations, calculate_rdm, plot_rdm\n",
    "from multitask.utils.training import get_device\n",
    "from multitask.utils.argparse import check_runs"
   ]
  },
  {
   "cell_type": "code",
   "execution_count": 2,
   "metadata": {},
   "outputs": [],
   "source": [
    "path_data = os.path.join('..', '..', 'data')\n",
    "path_figure_digits_2 = os.path.join('svg', 'figureS20_sm_empirical_parallel_digits_2.svg')\n",
    "path_figure_digits_3 = os.path.join('svg', 'figureS20_sm_empirical_parallel_digits_3.svg')\n",
    "path_figure_digits_4 = os.path.join('svg', 'figureS20_sm_empirical_parallel_digits_4.svg')\n",
    "path_figure_digits_5 = os.path.join('svg', 'figureS20_sm_empirical_parallel_digits_5.svg')\n",
    "path_figure_letters_2 = os.path.join('svg', 'figureS20_sm_empirical_parallel_letters_2.svg')\n",
    "path_model_parallel = os.path.join('..', '..', 'results', 'parallel')\n"
   ]
  },
  {
   "cell_type": "markdown",
   "metadata": {},
   "source": [
    "## 2 Digit Tasks"
   ]
  },
  {
   "cell_type": "code",
   "execution_count": 3,
   "metadata": {},
   "outputs": [],
   "source": [
    "num_runs = 10\n",
    "initial_seed = 6789\n",
    "max_seed = 10e5\n",
    "num_epochs = 50\n",
    "num_hidden = 10 * [100]\n",
    "batch_size = 100\n",
    "num_train = 50000\n",
    "num_test = 10000\n",
    "tasks_names = ['parity', 'value']\n",
    "idxs_contexts = None"
   ]
  },
  {
   "cell_type": "code",
   "execution_count": 4,
   "metadata": {},
   "outputs": [
    {
     "name": "stdout",
     "output_type": "stream",
     "text": [
      "Found simulation in ../../results/parallel with the same parameters (2022-09-28_01_56_10)\n"
     ]
    }
   ],
   "source": [
    "parameters = {\n",
    "    'num_runs': num_runs,\n",
    "    'initial_seed': initial_seed,\n",
    "    'max_seed': max_seed,\n",
    "    'num_epochs': num_epochs,\n",
    "    'num_hidden': num_hidden,\n",
    "    'batch_size': batch_size,\n",
    "    'num_train': num_train,\n",
    "    'num_test': num_test,\n",
    "    'tasks': tasks_names,\n",
    "    'idxs_contexts': idxs_contexts\n",
    "}\n",
    "\n",
    "data_folder = check_runs(path_model_parallel, parameters)"
   ]
  },
  {
   "cell_type": "code",
   "execution_count": 5,
   "metadata": {},
   "outputs": [],
   "source": [
    "pickle_data = os.path.join(data_folder, 'data.pickle')\n",
    "with open(pickle_data, 'rb') as handle:\n",
    "    results_parallel = pickle.load(handle)"
   ]
  },
  {
   "cell_type": "code",
   "execution_count": 6,
   "metadata": {},
   "outputs": [
    {
     "name": "stdout",
     "output_type": "stream",
     "text": [
      "[10612, 17350, 130146, 173249, 213794, 341996, 440064, 668870, 858781, 894813]\n",
      "['parity', 'value']\n"
     ]
    }
   ],
   "source": [
    "seeds = sorted(list(results_parallel.keys()))\n",
    "num_seeds = len(seeds)\n",
    "num_tasks = len(tasks_names)\n",
    "\n",
    "print(seeds)\n",
    "print(tasks_names)"
   ]
  },
  {
   "cell_type": "code",
   "execution_count": 7,
   "metadata": {},
   "outputs": [],
   "source": [
    "tasks_datasets = dataset.get_tasks_dict(tasks_names, root=path_data)"
   ]
  },
  {
   "cell_type": "code",
   "execution_count": 8,
   "metadata": {},
   "outputs": [],
   "source": [
    "parallel_datasets = {}\n",
    "for task_name in tasks_names:\n",
    "    parallel_datasets[task_name] = tasks_datasets[task_name]\n",
    "\n",
    "parallel_tasks = dataset.MultilabelTasks(parallel_datasets)"
   ]
  },
  {
   "cell_type": "code",
   "execution_count": 9,
   "metadata": {},
   "outputs": [
    {
     "name": "stdout",
     "output_type": "stream",
     "text": [
      "Running on CPU.\n"
     ]
    },
    {
     "data": {
      "application/vnd.jupyter.widget-view+json": {
       "model_id": "12bba353b1f14623b24004630f693d26",
       "version_major": 2,
       "version_minor": 0
      },
      "text/plain": [
       "  0%|          | 0/10 [00:00<?, ?it/s]"
      ]
     },
     "metadata": {},
     "output_type": "display_data"
    }
   ],
   "source": [
    "device = get_device()\n",
    "criterion = nn.CrossEntropyLoss()\n",
    "num_layers = len(num_hidden)\n",
    "num_tasks = len(tasks_names)\n",
    "list_rdm_2_digits = []\n",
    "\n",
    "for i_seed, seed in tqdm(enumerate(seeds), total=num_runs):\n",
    "    state_dict = results_parallel[seed]['model']\n",
    "    model = get_parallel_model(num_tasks,\n",
    "                               num_hidden,\n",
    "                               device)\n",
    "\n",
    "    model.load_state_dict(state_dict)\n",
    "    \n",
    "    indices = results_parallel[seed]['indices']\n",
    "\n",
    "    test_sampler = dataset.SequentialSampler(indices['test'])\n",
    "    parallel_testloader = torch.utils.data.DataLoader(parallel_tasks,\n",
    "                                                      sampler=test_sampler,\n",
    "                                                      batch_size=batch_size)\n",
    "\n",
    "    numbers = parallel_datasets[tasks_names[0]].numbers.numpy()\n",
    "    numbers = numbers[indices['test']]\n",
    "    \n",
    "    _, activations = hooks.get_layer_activations(model,\n",
    "                                                 parallel_testloader,\n",
    "                                                 criterion=criterion,\n",
    "                                                 device=device,\n",
    "                                                 disable=True)\n",
    "    \n",
    "    task_activations = []\n",
    "    task_numbers = []\n",
    "    \n",
    "    for task_name in tasks_names:\n",
    "        task_activations.append(activations)\n",
    "        task_numbers.append(numbers)\n",
    "\n",
    "    mean_activations = get_mean_activations(task_activations,\n",
    "                                            num_hidden,\n",
    "                                            list_labels=task_numbers,\n",
    "                                            tasks_names=tasks_names)\n",
    "\n",
    "    rdm_dict = calculate_rdm(mean_activations,\n",
    "                             tasks_names=tasks_names,\n",
    "                             method='cosine')\n",
    "\n",
    "\n",
    "    list_rdm_2_digits.append(rdm_dict)"
   ]
  },
  {
   "cell_type": "code",
   "execution_count": 10,
   "metadata": {},
   "outputs": [],
   "source": [
    "mean_rdm_2_digits = {}\n",
    "\n",
    "for layer in range(num_layers):\n",
    "    mean_rdm_2_digits[layer+1] = np.zeros((num_tasks * 10, num_tasks * 10))\n",
    "    for rdm in list_rdm_2_digits:\n",
    "        mean_rdm_2_digits[layer+1] += rdm[layer+1]\n",
    "    mean_rdm_2_digits[layer+1] /= num_runs"
   ]
  },
  {
   "cell_type": "code",
   "execution_count": 11,
   "metadata": {},
   "outputs": [
    {
     "data": {
      "image/png": "[encoded data removed]",
      "text/plain": [
       "<Figure size 300x300 with 1 Axes>"
      ]
     },
     "metadata": {},
     "output_type": "display_data"
    }
   ],
   "source": [
    "fig, ax = plt.subplots(1, 1, figsize=(3, 3))\n",
    "\n",
    "ax.imshow(1 - mean_rdm_2_digits[10][:10, :10], cmap='coolwarm_r', vmin=-1, vmax=1)\n",
    "ax.axis('off')\n",
    "\n",
    "fig.tight_layout()\n",
    "fig.savefig(path_figure_digits_2)\n",
    "plt.show()"
   ]
  },
  {
   "cell_type": "markdown",
   "metadata": {},
   "source": [
    "## 3 Digit Tasks"
   ]
  },
  {
   "cell_type": "code",
   "execution_count": 12,
   "metadata": {},
   "outputs": [
    {
     "name": "stdout",
     "output_type": "stream",
     "text": [
      "Found simulation in ../../results/parallel with the same parameters (2024-08-13_07-46-21)\n"
     ]
    }
   ],
   "source": [
    "initial_seed = 6789\n",
    "tasks_names = ['parity', 'value', 'prime']\n",
    "\n",
    "parameters['initial_seed'] = initial_seed\n",
    "parameters['tasks'] = tasks_names\n",
    "\n",
    "data_folder = check_runs(path_model_parallel, parameters)"
   ]
  },
  {
   "cell_type": "code",
   "execution_count": 13,
   "metadata": {},
   "outputs": [],
   "source": [
    "pickle_data = os.path.join(data_folder, 'data.pickle')\n",
    "with open(pickle_data, 'rb') as handle:\n",
    "    results_parallel = pickle.load(handle)"
   ]
  },
  {
   "cell_type": "code",
   "execution_count": 14,
   "metadata": {},
   "outputs": [
    {
     "name": "stdout",
     "output_type": "stream",
     "text": [
      "[10612, 17350, 130146, 173249, 213794, 341996, 440064, 668870, 858781, 894813]\n",
      "['parity', 'value', 'prime']\n"
     ]
    }
   ],
   "source": [
    "seeds = sorted(list(results_parallel.keys()))\n",
    "num_seeds = len(seeds)\n",
    "num_tasks = len(tasks_names)\n",
    "\n",
    "print(seeds)\n",
    "print(tasks_names)"
   ]
  },
  {
   "cell_type": "code",
   "execution_count": 15,
   "metadata": {},
   "outputs": [],
   "source": [
    "tasks_datasets = dataset.get_tasks_dict(tasks_names, root=path_data)"
   ]
  },
  {
   "cell_type": "code",
   "execution_count": 16,
   "metadata": {},
   "outputs": [],
   "source": [
    "parallel_datasets = {}\n",
    "for task_name in tasks_names:\n",
    "    parallel_datasets[task_name] = tasks_datasets[task_name]\n",
    "\n",
    "parallel_tasks = dataset.MultilabelTasks(parallel_datasets)"
   ]
  },
  {
   "cell_type": "code",
   "execution_count": 17,
   "metadata": {},
   "outputs": [
    {
     "name": "stdout",
     "output_type": "stream",
     "text": [
      "Running on CPU.\n"
     ]
    },
    {
     "data": {
      "application/vnd.jupyter.widget-view+json": {
       "model_id": "6cd3e158c10a4496a1379825934f186d",
       "version_major": 2,
       "version_minor": 0
      },
      "text/plain": [
       "  0%|          | 0/10 [00:00<?, ?it/s]"
      ]
     },
     "metadata": {},
     "output_type": "display_data"
    }
   ],
   "source": [
    "device = get_device()\n",
    "criterion = nn.CrossEntropyLoss()\n",
    "num_layers = len(num_hidden)\n",
    "num_tasks = len(tasks_names)\n",
    "list_rdm_3_digits = []\n",
    "\n",
    "for i_seed, seed in tqdm(enumerate(seeds), total=num_runs):\n",
    "    state_dict = results_parallel[seed]['model']\n",
    "    model = get_parallel_model(num_tasks,\n",
    "                               num_hidden,\n",
    "                               device)\n",
    "\n",
    "    model.load_state_dict(state_dict)\n",
    "    \n",
    "    indices = results_parallel[seed]['indices']\n",
    "\n",
    "    test_sampler = dataset.SequentialSampler(indices['test'])\n",
    "    parallel_testloader = torch.utils.data.DataLoader(parallel_tasks,\n",
    "                                                      sampler=test_sampler,\n",
    "                                                      batch_size=batch_size)\n",
    "\n",
    "    numbers = parallel_datasets[tasks_names[0]].numbers.numpy()\n",
    "    numbers = numbers[indices['test']]\n",
    "    \n",
    "    _, activations = hooks.get_layer_activations(model,\n",
    "                                                 parallel_testloader,\n",
    "                                                 criterion=criterion,\n",
    "                                                 device=device,\n",
    "                                                 disable=True)\n",
    "    \n",
    "    task_activations = []\n",
    "    task_numbers = []\n",
    "    \n",
    "    for task_name in tasks_names:\n",
    "        task_activations.append(activations)\n",
    "        task_numbers.append(numbers)\n",
    "\n",
    "    mean_activations = get_mean_activations(task_activations,\n",
    "                                            num_hidden,\n",
    "                                            list_labels=task_numbers,\n",
    "                                            tasks_names=tasks_names)\n",
    "\n",
    "    rdm_dict = calculate_rdm(mean_activations,\n",
    "                             tasks_names=tasks_names,\n",
    "                             method='cosine')\n",
    "\n",
    "\n",
    "    list_rdm_3_digits.append(rdm_dict)"
   ]
  },
  {
   "cell_type": "code",
   "execution_count": 18,
   "metadata": {},
   "outputs": [],
   "source": [
    "mean_rdm_3_digits = {}\n",
    "\n",
    "for layer in range(num_layers):\n",
    "    mean_rdm_3_digits[layer+1] = np.zeros((num_tasks * 10, num_tasks * 10))\n",
    "    for rdm in list_rdm_3_digits:\n",
    "        mean_rdm_3_digits[layer+1] += rdm[layer+1]\n",
    "    mean_rdm_3_digits[layer+1] /= num_runs"
   ]
  },
  {
   "cell_type": "code",
   "execution_count": 19,
   "metadata": {},
   "outputs": [
    {
     "data": {
      "image/png": "[encoded data removed]",
      "text/plain": [
       "<Figure size 300x300 with 1 Axes>"
      ]
     },
     "metadata": {},
     "output_type": "display_data"
    }
   ],
   "source": [
    "fig, ax = plt.subplots(1, 1, figsize=(3, 3))\n",
    "\n",
    "ax.imshow(1 - mean_rdm_3_digits[10][:10, :10], cmap='coolwarm_r', vmin=-1, vmax=1)\n",
    "ax.axis('off')\n",
    "\n",
    "fig.tight_layout()\n",
    "fig.savefig(path_figure_digits_3)\n",
    "plt.show()"
   ]
  },
  {
   "cell_type": "markdown",
   "metadata": {},
   "source": [
    "## 4 Digit Tasks"
   ]
  },
  {
   "cell_type": "code",
   "execution_count": 20,
   "metadata": {},
   "outputs": [
    {
     "name": "stdout",
     "output_type": "stream",
     "text": [
      "Found simulation in ../../results/parallel with the same parameters (2024-08-13_08-33-50)\n"
     ]
    }
   ],
   "source": [
    "initial_seed = 6789\n",
    "tasks_names = ['parity', 'value', 'prime', 'fibonacci']\n",
    "\n",
    "parameters['initial_seed'] = initial_seed\n",
    "parameters['tasks'] = tasks_names\n",
    "\n",
    "data_folder = check_runs(path_model_parallel, parameters)"
   ]
  },
  {
   "cell_type": "code",
   "execution_count": 21,
   "metadata": {},
   "outputs": [],
   "source": [
    "pickle_data = os.path.join(data_folder, 'data.pickle')\n",
    "with open(pickle_data, 'rb') as handle:\n",
    "    results_parallel = pickle.load(handle)"
   ]
  },
  {
   "cell_type": "code",
   "execution_count": 22,
   "metadata": {},
   "outputs": [
    {
     "name": "stdout",
     "output_type": "stream",
     "text": [
      "[10612, 17350, 130146, 173249, 213794, 341996, 440064, 668870, 858781, 894813]\n",
      "['parity', 'value', 'prime', 'fibonacci']\n"
     ]
    }
   ],
   "source": [
    "seeds = sorted(list(results_parallel.keys()))\n",
    "num_seeds = len(seeds)\n",
    "num_tasks = len(tasks_names)\n",
    "\n",
    "print(seeds)\n",
    "print(tasks_names)"
   ]
  },
  {
   "cell_type": "code",
   "execution_count": 23,
   "metadata": {},
   "outputs": [],
   "source": [
    "tasks_datasets = dataset.get_tasks_dict(tasks_names, root=path_data)"
   ]
  },
  {
   "cell_type": "code",
   "execution_count": 24,
   "metadata": {},
   "outputs": [],
   "source": [
    "parallel_datasets = {}\n",
    "for task_name in tasks_names:\n",
    "    parallel_datasets[task_name] = tasks_datasets[task_name]\n",
    "\n",
    "parallel_tasks = dataset.MultilabelTasks(parallel_datasets)"
   ]
  },
  {
   "cell_type": "code",
   "execution_count": 25,
   "metadata": {},
   "outputs": [
    {
     "name": "stdout",
     "output_type": "stream",
     "text": [
      "Running on CPU.\n"
     ]
    },
    {
     "data": {
      "application/vnd.jupyter.widget-view+json": {
       "model_id": "0cc2def767e34194a9da17ede72dd130",
       "version_major": 2,
       "version_minor": 0
      },
      "text/plain": [
       "  0%|          | 0/10 [00:00<?, ?it/s]"
      ]
     },
     "metadata": {},
     "output_type": "display_data"
    }
   ],
   "source": [
    "device = get_device()\n",
    "criterion = nn.CrossEntropyLoss()\n",
    "num_layers = len(num_hidden)\n",
    "num_tasks = len(tasks_names)\n",
    "list_rdm_4_digits = []\n",
    "\n",
    "for i_seed, seed in tqdm(enumerate(seeds), total=num_runs):\n",
    "    state_dict = results_parallel[seed]['model']\n",
    "    model = get_parallel_model(num_tasks,\n",
    "                               num_hidden,\n",
    "                               device)\n",
    "\n",
    "    model.load_state_dict(state_dict)\n",
    "    \n",
    "    indices = results_parallel[seed]['indices']\n",
    "\n",
    "    test_sampler = dataset.SequentialSampler(indices['test'])\n",
    "    parallel_testloader = torch.utils.data.DataLoader(parallel_tasks,\n",
    "                                                      sampler=test_sampler,\n",
    "                                                      batch_size=batch_size)\n",
    "\n",
    "    numbers = parallel_datasets[tasks_names[0]].numbers.numpy()\n",
    "    numbers = numbers[indices['test']]\n",
    "    \n",
    "    _, activations = hooks.get_layer_activations(model,\n",
    "                                                 parallel_testloader,\n",
    "                                                 criterion=criterion,\n",
    "                                                 device=device,\n",
    "                                                 disable=True)\n",
    "    \n",
    "    task_activations = []\n",
    "    task_numbers = []\n",
    "    \n",
    "    for task_name in tasks_names:\n",
    "        task_activations.append(activations)\n",
    "        task_numbers.append(numbers)\n",
    "\n",
    "    mean_activations = get_mean_activations(task_activations,\n",
    "                                            num_hidden,\n",
    "                                            list_labels=task_numbers,\n",
    "                                            tasks_names=tasks_names)\n",
    "\n",
    "    rdm_dict = calculate_rdm(mean_activations,\n",
    "                             tasks_names=tasks_names,\n",
    "                             method='cosine')\n",
    "\n",
    "\n",
    "    list_rdm_4_digits.append(rdm_dict)"
   ]
  },
  {
   "cell_type": "code",
   "execution_count": 26,
   "metadata": {},
   "outputs": [],
   "source": [
    "mean_rdm_4_digits = {}\n",
    "\n",
    "for layer in range(num_layers):\n",
    "    mean_rdm_4_digits[layer+1] = np.zeros((num_tasks * 10, num_tasks * 10))\n",
    "    for rdm in list_rdm_4_digits:\n",
    "        mean_rdm_4_digits[layer+1] += rdm[layer+1]\n",
    "    mean_rdm_4_digits[layer+1] /= num_runs"
   ]
  },
  {
   "cell_type": "code",
   "execution_count": 27,
   "metadata": {},
   "outputs": [
    {
     "data": {
      "image/png": "[encoded data removed]",
      "text/plain": [
       "<Figure size 300x300 with 1 Axes>"
      ]
     },
     "metadata": {},
     "output_type": "display_data"
    }
   ],
   "source": [
    "fig, ax = plt.subplots(1, 1, figsize=(3, 3))\n",
    "\n",
    "ax.imshow(1 - mean_rdm_4_digits[10][:10, :10], cmap='coolwarm_r', vmin=-1, vmax=1)\n",
    "ax.axis('off')\n",
    "\n",
    "fig.tight_layout()\n",
    "fig.savefig(path_figure_digits_4)\n",
    "plt.show()"
   ]
  },
  {
   "cell_type": "markdown",
   "metadata": {},
   "source": [
    "## 5 Digit Tasks"
   ]
  },
  {
   "cell_type": "code",
   "execution_count": 28,
   "metadata": {},
   "outputs": [
    {
     "name": "stdout",
     "output_type": "stream",
     "text": [
      "Found simulation in ../../results/parallel with the same parameters (2022-09-28_05_54_25)\n"
     ]
    }
   ],
   "source": [
    "initial_seed = 6789\n",
    "tasks_names = ['parity', 'value', 'prime', 'fibonacci', 'multiples3']\n",
    "\n",
    "parameters['initial_seed'] = initial_seed\n",
    "parameters['tasks'] = tasks_names\n",
    "\n",
    "data_folder = check_runs(path_model_parallel, parameters)"
   ]
  },
  {
   "cell_type": "code",
   "execution_count": 29,
   "metadata": {},
   "outputs": [],
   "source": [
    "pickle_data = os.path.join(data_folder, 'data.pickle')\n",
    "with open(pickle_data, 'rb') as handle:\n",
    "    results_parallel = pickle.load(handle)"
   ]
  },
  {
   "cell_type": "code",
   "execution_count": 30,
   "metadata": {},
   "outputs": [
    {
     "name": "stdout",
     "output_type": "stream",
     "text": [
      "[10612, 17350, 130146, 173249, 213794, 341996, 440064, 668870, 858781, 894813]\n",
      "['parity', 'value', 'prime', 'fibonacci', 'multiples3']\n"
     ]
    }
   ],
   "source": [
    "seeds = sorted(list(results_parallel.keys()))\n",
    "num_seeds = len(seeds)\n",
    "num_tasks = len(tasks_names)\n",
    "\n",
    "print(seeds)\n",
    "print(tasks_names)"
   ]
  },
  {
   "cell_type": "code",
   "execution_count": 31,
   "metadata": {},
   "outputs": [],
   "source": [
    "tasks_datasets = dataset.get_tasks_dict(tasks_names, root=path_data)"
   ]
  },
  {
   "cell_type": "code",
   "execution_count": 32,
   "metadata": {},
   "outputs": [],
   "source": [
    "parallel_datasets = {}\n",
    "for task_name in tasks_names:\n",
    "    parallel_datasets[task_name] = tasks_datasets[task_name]\n",
    "\n",
    "parallel_tasks = dataset.MultilabelTasks(parallel_datasets)"
   ]
  },
  {
   "cell_type": "code",
   "execution_count": 33,
   "metadata": {},
   "outputs": [
    {
     "name": "stdout",
     "output_type": "stream",
     "text": [
      "Running on CPU.\n"
     ]
    },
    {
     "data": {
      "application/vnd.jupyter.widget-view+json": {
       "model_id": "e64b86a2dae1467d9eb4038c6b74cd78",
       "version_major": 2,
       "version_minor": 0
      },
      "text/plain": [
       "  0%|          | 0/10 [00:00<?, ?it/s]"
      ]
     },
     "metadata": {},
     "output_type": "display_data"
    }
   ],
   "source": [
    "device = get_device()\n",
    "criterion = nn.CrossEntropyLoss()\n",
    "num_layers = len(num_hidden)\n",
    "num_tasks = len(tasks_names)\n",
    "list_rdm_5_digits = []\n",
    "\n",
    "for i_seed, seed in tqdm(enumerate(seeds), total=num_runs):\n",
    "    state_dict = results_parallel[seed]['model']\n",
    "    model = get_parallel_model(num_tasks,\n",
    "                               num_hidden,\n",
    "                               device)\n",
    "\n",
    "    model.load_state_dict(state_dict)\n",
    "    \n",
    "    indices = results_parallel[seed]['indices']\n",
    "\n",
    "    test_sampler = dataset.SequentialSampler(indices['test'])\n",
    "    parallel_testloader = torch.utils.data.DataLoader(parallel_tasks,\n",
    "                                                      sampler=test_sampler,\n",
    "                                                      batch_size=batch_size)\n",
    "\n",
    "    numbers = parallel_datasets[tasks_names[0]].numbers.numpy()\n",
    "    numbers = numbers[indices['test']]\n",
    "    \n",
    "    _, activations = hooks.get_layer_activations(model,\n",
    "                                                 parallel_testloader,\n",
    "                                                 criterion=criterion,\n",
    "                                                 device=device,\n",
    "                                                 disable=True)\n",
    "    \n",
    "    task_activations = []\n",
    "    task_numbers = []\n",
    "    \n",
    "    for task_name in tasks_names:\n",
    "        task_activations.append(activations)\n",
    "        task_numbers.append(numbers)\n",
    "\n",
    "    mean_activations = get_mean_activations(task_activations,\n",
    "                                            num_hidden,\n",
    "                                            list_labels=task_numbers,\n",
    "                                            tasks_names=tasks_names)\n",
    "\n",
    "    rdm_dict = calculate_rdm(mean_activations,\n",
    "                             tasks_names=tasks_names,\n",
    "                             method='cosine')\n",
    "\n",
    "\n",
    "    list_rdm_5_digits.append(rdm_dict)"
   ]
  },
  {
   "cell_type": "code",
   "execution_count": 34,
   "metadata": {},
   "outputs": [],
   "source": [
    "mean_rdm_5_digits = {}\n",
    "\n",
    "for layer in range(num_layers):\n",
    "    mean_rdm_5_digits[layer+1] = np.zeros((num_tasks * 10, num_tasks * 10))\n",
    "    for rdm in list_rdm_5_digits:\n",
    "        mean_rdm_5_digits[layer+1] += rdm[layer+1]\n",
    "    mean_rdm_5_digits[layer+1] /= num_runs"
   ]
  },
  {
   "cell_type": "code",
   "execution_count": 35,
   "metadata": {},
   "outputs": [
    {
     "data": {
      "image/png": "[encoded data removed]",
      "text/plain": [
       "<Figure size 300x300 with 1 Axes>"
      ]
     },
     "metadata": {},
     "output_type": "display_data"
    }
   ],
   "source": [
    "fig, ax = plt.subplots(1, 1, figsize=(3, 3))\n",
    "\n",
    "ax.imshow(1 - mean_rdm_5_digits[10][:10, :10], cmap='coolwarm_r', vmin=-1, vmax=1)\n",
    "ax.axis('off')\n",
    "\n",
    "fig.tight_layout()\n",
    "fig.savefig(path_figure_digits_5)\n",
    "plt.show()"
   ]
  },
  {
   "cell_type": "markdown",
   "metadata": {},
   "source": [
    "## 2 Letter Tasks"
   ]
  },
  {
   "cell_type": "code",
   "execution_count": 36,
   "metadata": {},
   "outputs": [
    {
     "name": "stdout",
     "output_type": "stream",
     "text": [
      "Found simulation in ../../results/parallel with the same parameters (2024-01-12_18-33-14)\n"
     ]
    }
   ],
   "source": [
    "initial_seed = 1234\n",
    "tasks_names = ['vowel', 'position']\n",
    "num_train = 41080\n",
    "num_test = 8216\n",
    "\n",
    "parameters['initial_seed'] = initial_seed\n",
    "parameters['tasks'] = tasks_names\n",
    "parameters['num_train'] = num_train\n",
    "parameters['num_test'] = num_test\n",
    "\n",
    "data_folder = check_runs(path_model_parallel, parameters)"
   ]
  },
  {
   "cell_type": "code",
   "execution_count": 37,
   "metadata": {},
   "outputs": [],
   "source": [
    "pickle_data = os.path.join(data_folder, 'data.pickle')\n",
    "with open(pickle_data, 'rb') as handle:\n",
    "    results_parallel = pickle.load(handle)"
   ]
  },
  {
   "cell_type": "code",
   "execution_count": 38,
   "metadata": {},
   "outputs": [
    {
     "name": "stdout",
     "output_type": "stream",
     "text": [
      "[165158, 220532, 318129, 451283, 486191, 514041, 818831, 869016, 908341, 978124]\n",
      "['vowel', 'position']\n"
     ]
    }
   ],
   "source": [
    "seeds = sorted(list(results_parallel.keys()))\n",
    "num_seeds = len(seeds)\n",
    "num_tasks = len(tasks_names)\n",
    "\n",
    "print(seeds)\n",
    "print(tasks_names)"
   ]
  },
  {
   "cell_type": "code",
   "execution_count": 39,
   "metadata": {},
   "outputs": [],
   "source": [
    "tasks_datasets = dataset.get_tasks_dict(tasks_names, root=path_data)"
   ]
  },
  {
   "cell_type": "code",
   "execution_count": 40,
   "metadata": {},
   "outputs": [],
   "source": [
    "parallel_datasets = {}\n",
    "for task_name in tasks_names:\n",
    "    parallel_datasets[task_name] = tasks_datasets[task_name]\n",
    "\n",
    "parallel_tasks = dataset.MultilabelTasks(parallel_datasets)"
   ]
  },
  {
   "cell_type": "code",
   "execution_count": 41,
   "metadata": {},
   "outputs": [
    {
     "name": "stdout",
     "output_type": "stream",
     "text": [
      "Running on CPU.\n"
     ]
    },
    {
     "data": {
      "application/vnd.jupyter.widget-view+json": {
       "model_id": "eb997c247a9b41acb87c17dac48d562a",
       "version_major": 2,
       "version_minor": 0
      },
      "text/plain": [
       "  0%|          | 0/10 [00:00<?, ?it/s]"
      ]
     },
     "metadata": {},
     "output_type": "display_data"
    }
   ],
   "source": [
    "device = get_device()\n",
    "criterion = nn.CrossEntropyLoss()\n",
    "num_layers = len(num_hidden)\n",
    "num_tasks = len(tasks_names)\n",
    "list_rdm_2_letters = []\n",
    "\n",
    "for i_seed, seed in tqdm(enumerate(seeds), total=num_runs):\n",
    "    state_dict = results_parallel[seed]['model']\n",
    "    model = get_parallel_model(num_tasks,\n",
    "                               num_hidden,\n",
    "                               device)\n",
    "\n",
    "    model.load_state_dict(state_dict)\n",
    "    \n",
    "    indices = results_parallel[seed]['indices']\n",
    "\n",
    "    test_sampler = dataset.SequentialSampler(indices['test'])\n",
    "    parallel_testloader = torch.utils.data.DataLoader(parallel_tasks,\n",
    "                                                      sampler=test_sampler,\n",
    "                                                      batch_size=batch_size)\n",
    "\n",
    "    letters = parallel_datasets[tasks_names[0]].letters.numpy()\n",
    "    letters = letters[indices['test']]\n",
    "    \n",
    "    _, activations = hooks.get_layer_activations(model,\n",
    "                                                 parallel_testloader,\n",
    "                                                 criterion=criterion,\n",
    "                                                 device=device,\n",
    "                                                 disable=True)\n",
    "    \n",
    "    task_activations = []\n",
    "    task_letters = []\n",
    "    \n",
    "    for task_name in tasks_names:\n",
    "        task_activations.append(activations)\n",
    "        task_letters.append(letters)\n",
    "\n",
    "    mean_activations = get_mean_activations(task_activations,\n",
    "                                            num_hidden,\n",
    "                                            list_labels=task_letters,\n",
    "                                            tasks_names=tasks_names)\n",
    "\n",
    "    rdm_dict = calculate_rdm(mean_activations,\n",
    "                             tasks_names=tasks_names,\n",
    "                             method='cosine')\n",
    "\n",
    "\n",
    "    list_rdm_2_letters.append(rdm_dict)"
   ]
  },
  {
   "cell_type": "code",
   "execution_count": 42,
   "metadata": {},
   "outputs": [],
   "source": [
    "mean_rdm_2_letters = {}\n",
    "\n",
    "for layer in range(num_layers):\n",
    "    mean_rdm_2_letters[layer+1] = np.zeros((num_tasks * 26, num_tasks * 26))\n",
    "    for rdm in list_rdm_2_letters:\n",
    "        mean_rdm_2_letters[layer+1] += rdm[layer+1]\n",
    "    mean_rdm_2_letters[layer+1] /= num_runs"
   ]
  },
  {
   "cell_type": "code",
   "execution_count": 43,
   "metadata": {},
   "outputs": [
    {
     "data": {
      "image/png": "[encoded data removed]",
      "text/plain": [
       "<Figure size 300x300 with 1 Axes>"
      ]
     },
     "metadata": {},
     "output_type": "display_data"
    }
   ],
   "source": [
    "fig, ax = plt.subplots(1, 1, figsize=(3, 3))\n",
    "\n",
    "ax.imshow(1 - mean_rdm_2_letters[10][:26, :26], cmap='coolwarm_r', vmin=-1, vmax=1)\n",
    "ax.axis('off')\n",
    "\n",
    "fig.tight_layout()\n",
    "fig.savefig(path_figure_letters_2)\n",
    "plt.show()"
   ]
  }
 ],
 "metadata": {
  "kernelspec": {
   "display_name": "Python 3.8.10",
   "language": "python",
   "name": "python3"
  },
  "language_info": {
   "codemirror_mode": {
    "name": "ipython",
    "version": 3
   },
   "file_extension": ".py",
   "mimetype": "text/x-python",
   "name": "python",
   "nbconvert_exporter": "python",
   "pygments_lexer": "ipython3",
   "version": "3.8.10"
  },
  "orig_nbformat": 4,
  "vscode": {
   "interpreter": {
    "hash": "5de0b3d16828453b801d3a971a2e845298ac67ea708b1fd16f0d1197d2abd69f"
   }
  }
 },
 "nbformat": 4,
 "nbformat_minor": 2
}
