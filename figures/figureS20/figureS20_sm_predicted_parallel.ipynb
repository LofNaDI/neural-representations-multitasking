{
 "cells": [
  {
   "cell_type": "code",
   "execution_count": 1,
   "metadata": {},
   "outputs": [],
   "source": [
    "import os\n",
    "\n",
    "import matplotlib.pyplot as plt\n",
    "import numpy as np"
   ]
  },
  {
   "cell_type": "code",
   "execution_count": 2,
   "metadata": {},
   "outputs": [],
   "source": [
    "path_figure_digits_2 = os.path.join('svg', 'figureS20_sm_predicted_parallel_digits_2.svg')\n",
    "path_figure_digits_5 = os.path.join('svg', 'figureS20_sm_predicted_parallel_digits_5.svg')\n",
    "path_figure_letters_2 = os.path.join('svg', 'figureS20_sm_predicted_parallel_letters_2.svg')"
   ]
  },
  {
   "cell_type": "code",
   "execution_count": 3,
   "metadata": {},
   "outputs": [],
   "source": [
    "parity =    np.array([[1, 0, 1, 0, 1, 0, 1, 0, 1, 0]])\n",
    "value =     np.array([[1, 1, 1, 1, 1, 0, 0, 0, 0, 0]])\n",
    "prime =     np.array([[0, 0, 1, 1, 0, 1, 0, 1, 0, 0]])\n",
    "fibonacci = np.array([[1, 1, 1, 1, 0, 1, 0, 0, 1, 0]])\n",
    "mul3 =      np.array([[0, 0, 0, 1, 0, 0, 1, 0, 0, 1]])\n",
    "\n",
    "vowel =        np.array([[1, 0, 0, 0, 1, 0, 0, 0, 1, 0, 0, 0, 0, 0, 1, 0, 0, 0, 0, 0, 1, 0, 0, 0, 0, 0]])\n",
    "position =     np.array([[1, 1, 1, 1, 1, 1, 1, 1, 1, 1, 1, 1, 1, 0, 0, 0, 0, 0, 0, 0, 0, 0, 0, 0, 0, 0]])"
   ]
  },
  {
   "cell_type": "code",
   "execution_count": 4,
   "metadata": {},
   "outputs": [],
   "source": [
    "def compute_sm_parallel(tasks):\n",
    "    num_tasks = len(tasks)\n",
    "    num_classes = tasks[0].shape[1]\n",
    "\n",
    "    similarity_matrix_U = np.zeros((num_classes, num_classes))\n",
    "    similarity_matrix_I = np.ones((num_classes, num_classes))\n",
    "\n",
    "    for task in tasks:\n",
    "        similarity_matrix_U += ((task.T @ task) + (1 - task).T @ (1 - task)) / num_tasks\n",
    "        similarity_matrix_I *= ((task.T @ task) + (1 - task).T @ (1 - task))\n",
    "\n",
    "    similarity_matrix = 0.5 * (similarity_matrix_U + similarity_matrix_I)\n",
    "\n",
    "    return similarity_matrix, (similarity_matrix_U, similarity_matrix_I)"
   ]
  },
  {
   "cell_type": "code",
   "execution_count": 5,
   "metadata": {},
   "outputs": [
    {
     "data": {
      "image/png": "[encoded data removed]",
      "text/plain": [
       "<Figure size 640x480 with 3 Axes>"
      ]
     },
     "metadata": {},
     "output_type": "display_data"
    }
   ],
   "source": [
    "tasks = [parity, value]\n",
    "\n",
    "sm, (sm_U, sm_I) = compute_sm_parallel(tasks)\n",
    "\n",
    "fig, ax = plt.subplots(1, 3)\n",
    "\n",
    "ax[0].imshow(sm, cmap='coolwarm_r', vmin=-1, vmax=1)\n",
    "ax[0].axis('off')\n",
    "\n",
    "ax[1].imshow(sm_U, cmap='coolwarm_r', vmin=-1, vmax=1)\n",
    "ax[1].axis('off')\n",
    "\n",
    "ax[2].imshow(sm_I, cmap='coolwarm_r', vmin=-1, vmax=1)\n",
    "ax[2].axis('off')\n",
    "\n",
    "fig.tight_layout()\n",
    "fig.savefig(path_figure_digits_2)\n",
    "plt.show()"
   ]
  },
  {
   "cell_type": "code",
   "execution_count": 6,
   "metadata": {},
   "outputs": [],
   "source": [
    "a = np.array([[1.        , 0.5405963 , 0.50137641, 0.09153055, 0.50546539,\n",
    "        0.07693386, 0.15286966, 0.02149749, 0.39018681, 0.05186683],\n",
    "       [0.5405963 , 1.        , 0.17255379, 0.222128  , 0.22347487,\n",
    "        0.15990184, 0.0361086 , 0.09404019, 0.21051191, 0.09134173],\n",
    "       [0.50137641, 0.17255379, 1.        , 0.28803387, 0.29118983,\n",
    "        0.21786603, 0.06701054, 0.11490395, 0.23266069, 0.00741979],\n",
    "       [0.09153055, 0.222128  , 0.28803387, 1.        , 0.04416424,\n",
    "        0.31052835, 0.03171603, 0.15990967, 0.02378225, 0.14804128],\n",
    "       [0.50546539, 0.22347487, 0.29118983, 0.04416424, 1.        ,\n",
    "        0.03330273, 0.30514344, 0.1758621 , 0.21401442, 0.22689151],\n",
    "       [0.07693386, 0.15990184, 0.21786603, 0.31052835, 0.03330273,\n",
    "        1.        , 0.04208719, 0.59161985, 0.26588406, 0.19507438],\n",
    "       [0.15286966, 0.0361086 , 0.06701054, 0.03171603, 0.30514344,\n",
    "        0.04208719, 1.        , 0.11825508, 0.42109031, 0.5751642 ],\n",
    "       [0.02149749, 0.09404019, 0.11490395, 0.15990967, 0.1758621 ,\n",
    "        0.59161985, 0.11825508, 1.        , 0.08181845, 0.33338345],\n",
    "       [0.39018681, 0.21051191, 0.23266069, 0.02378225, 0.21401442,\n",
    "        0.26588406, 0.42109031, 0.08181845, 1.        , 0.18668907],\n",
    "       [0.05186683, 0.09134173, 0.00741979, 0.14804128, 0.22689151,\n",
    "        0.19507438, 0.5751642 , 0.33338345, 0.18668907, 1.        ]])"
   ]
  },
  {
   "cell_type": "code",
   "execution_count": 7,
   "metadata": {},
   "outputs": [
    {
     "data": {
      "image/png": "[encoded data removed]",
      "text/plain": [
       "<Figure size 640x480 with 3 Axes>"
      ]
     },
     "metadata": {},
     "output_type": "display_data"
    }
   ],
   "source": [
    "tasks = [parity, value, prime, fibonacci, mul3]\n",
    "\n",
    "sm, (sm_U, sm_I) = compute_sm_parallel(tasks)\n",
    "\n",
    "fig, ax = plt.subplots(1, 3)\n",
    "\n",
    "ax[0].imshow(sm, cmap='coolwarm_r', vmin=-1, vmax=1)\n",
    "ax[0].axis('off')\n",
    "\n",
    "ax[1].imshow(sm_U, cmap='coolwarm_r', vmin=-1, vmax=1)\n",
    "ax[1].axis('off')\n",
    "\n",
    "ax[2].imshow(sm_I, cmap='coolwarm_r', vmin=-1, vmax=1)\n",
    "ax[2].axis('off')\n",
    "\n",
    "fig.tight_layout()\n",
    "fig.savefig(path_figure_digits_2)\n",
    "plt.show()"
   ]
  },
  {
   "cell_type": "code",
   "execution_count": 8,
   "metadata": {},
   "outputs": [
    {
     "data": {
      "image/png": "[encoded data removed]",
      "text/plain": [
       "<Figure size 640x480 with 3 Axes>"
      ]
     },
     "metadata": {},
     "output_type": "display_data"
    }
   ],
   "source": [
    "tasks = [vowel, position]\n",
    "\n",
    "sm, (sm_U, sm_I) = compute_sm_parallel(tasks)\n",
    "\n",
    "fig, ax = plt.subplots(1, 3)\n",
    "\n",
    "ax[0].imshow(sm, cmap='coolwarm_r', vmin=-1, vmax=1)\n",
    "ax[0].axis('off')\n",
    "\n",
    "ax[1].imshow(sm_U, cmap='coolwarm_r', vmin=-1, vmax=1)\n",
    "ax[1].axis('off')\n",
    "\n",
    "ax[2].imshow(sm_I, cmap='coolwarm_r', vmin=-1, vmax=1)\n",
    "ax[2].axis('off')\n",
    "\n",
    "fig.tight_layout()\n",
    "fig.savefig(path_figure_digits_2)\n",
    "plt.show()"
   ]
  }
 ],
 "metadata": {
  "kernelspec": {
   "display_name": "Python 3.8.10",
   "language": "python",
   "name": "python3"
  },
  "language_info": {
   "codemirror_mode": {
    "name": "ipython",
    "version": 3
   },
   "file_extension": ".py",
   "mimetype": "text/x-python",
   "name": "python",
   "nbconvert_exporter": "python",
   "pygments_lexer": "ipython3",
   "version": "3.8.10"
  },
  "orig_nbformat": 4,
  "vscode": {
   "interpreter": {
    "hash": "5de0b3d16828453b801d3a971a2e845298ac67ea708b1fd16f0d1197d2abd69f"
   }
  }
 },
 "nbformat": 4,
 "nbformat_minor": 2
}
