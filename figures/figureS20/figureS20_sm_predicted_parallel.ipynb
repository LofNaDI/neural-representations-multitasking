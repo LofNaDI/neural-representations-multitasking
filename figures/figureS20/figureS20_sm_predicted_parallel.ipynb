{
 "cells": [
  {
   "cell_type": "code",
   "execution_count": 1,
   "metadata": {},
   "outputs": [],
   "source": [
    "import os\n",
    "\n",
    "import matplotlib.pyplot as plt\n",
    "import numpy as np"
   ]
  },
  {
   "cell_type": "code",
   "execution_count": 2,
   "metadata": {},
   "outputs": [],
   "source": [
    "path_figure_digits_2 = os.path.join('svg', 'figureS20_sm_predicted_parallel_digits_2.svg')\n",
    "path_figure_digits_3 = os.path.join('svg', 'figureS20_sm_predicted_parallel_digits_3.svg')\n",
    "path_figure_digits_4 = os.path.join('svg', 'figureS20_sm_predicted_parallel_digits_4.svg')\n",
    "path_figure_digits_5 = os.path.join('svg', 'figureS20_sm_predicted_parallel_digits_5.svg')\n",
    "path_figure_letters_2 = os.path.join('svg', 'figureS20_sm_predicted_parallel_letters_2.svg')"
   ]
  },
  {
   "cell_type": "code",
   "execution_count": 3,
   "metadata": {},
   "outputs": [],
   "source": [
    "parity =    np.array([[1, 0, 1, 0, 1, 0, 1, 0, 1, 0]])\n",
    "value =     np.array([[1, 1, 1, 1, 1, 0, 0, 0, 0, 0]])\n",
    "prime =     np.array([[0, 0, 1, 1, 0, 1, 0, 1, 0, 0]])\n",
    "fibonacci = np.array([[1, 1, 1, 1, 0, 1, 0, 0, 1, 0]])\n",
    "mul3 =      np.array([[0, 0, 0, 1, 0, 0, 1, 0, 0, 1]])\n",
    "\n",
    "vowel =        np.array([[1, 0, 0, 0, 1, 0, 0, 0, 1, 0, 0, 0, 0, 0, 1, 0, 0, 0, 0, 0, 1, 0, 0, 0, 0, 0]])\n",
    "position =     np.array([[1, 1, 1, 1, 1, 1, 1, 1, 1, 1, 1, 1, 1, 0, 0, 0, 0, 0, 0, 0, 0, 0, 0, 0, 0, 0]])"
   ]
  },
  {
   "cell_type": "code",
   "execution_count": 4,
   "metadata": {},
   "outputs": [],
   "source": [
    "def compute_rdm_parallel(tasks):\n",
    "    num_tasks = len(tasks)\n",
    "    num_classes = tasks[0].shape[1]\n",
    "\n",
    "    similarity_matrix_U = np.zeros((num_classes, num_classes))\n",
    "    similarity_matrix_I = np.ones((num_classes, num_classes))\n",
    "\n",
    "    for task in tasks:\n",
    "        similarity_matrix_U += ((task.T @ task) + (1 - task).T @ (1 - task)) / num_tasks\n",
    "        similarity_matrix_I *= ((task.T @ task) + (1 - task).T @ (1 - task))\n",
    "\n",
    "    similarity_matrix = 0.5 * (similarity_matrix_U + similarity_matrix_I)\n",
    "\n",
    "    return 1 - similarity_matrix"
   ]
  },
  {
   "cell_type": "markdown",
   "metadata": {},
   "source": [
    "## 2 Digit Tasks"
   ]
  },
  {
   "cell_type": "code",
   "execution_count": 5,
   "metadata": {},
   "outputs": [
    {
     "data": {
      "image/png": "[encoded data removed]",
      "text/plain": [
       "<Figure size 300x300 with 1 Axes>"
      ]
     },
     "metadata": {},
     "output_type": "display_data"
    }
   ],
   "source": [
    "tasks = [parity, value]\n",
    "\n",
    "rdm = compute_rdm_parallel(tasks)\n",
    "R = 1 - rdm\n",
    "sr = np.abs(R).mean()\n",
    "\n",
    "fig, ax = plt.subplots(1, 1, figsize=(3, 3))\n",
    "\n",
    "ax.imshow(rdm, cmap='coolwarm', vmin=0, vmax=2)\n",
    "ax.axis('off')\n",
    "\n",
    "ax.set_title(f'{sr:.2f}', fontsize=26)\n",
    "\n",
    "fig.savefig(path_figure_digits_2)\n",
    "plt.show()"
   ]
  },
  {
   "cell_type": "markdown",
   "metadata": {},
   "source": [
    "## 3 Digit Tasks"
   ]
  },
  {
   "cell_type": "code",
   "execution_count": 6,
   "metadata": {},
   "outputs": [
    {
     "data": {
      "image/png": "[encoded data removed]",
      "text/plain": [
       "<Figure size 300x300 with 1 Axes>"
      ]
     },
     "metadata": {},
     "output_type": "display_data"
    }
   ],
   "source": [
    "tasks = [parity, value, prime]\n",
    "\n",
    "rdm = compute_rdm_parallel(tasks)\n",
    "R = 1 - rdm\n",
    "sr = np.abs(R).mean()\n",
    "\n",
    "fig, ax = plt.subplots(1, 1, figsize=(3, 3))\n",
    "\n",
    "ax.imshow(rdm, cmap='coolwarm', vmin=0, vmax=2)\n",
    "ax.axis('off')\n",
    "\n",
    "ax.set_title(f'{sr:.2f}', fontsize=26)\n",
    "\n",
    "fig.savefig(path_figure_digits_3)\n",
    "plt.show()"
   ]
  },
  {
   "cell_type": "markdown",
   "metadata": {},
   "source": [
    "## 4 Digit Tasks"
   ]
  },
  {
   "cell_type": "code",
   "execution_count": 7,
   "metadata": {},
   "outputs": [
    {
     "data": {
      "image/png": "[encoded data removed]",
      "text/plain": [
       "<Figure size 300x300 with 1 Axes>"
      ]
     },
     "metadata": {},
     "output_type": "display_data"
    }
   ],
   "source": [
    "tasks = [parity, value, prime, fibonacci]\n",
    "\n",
    "rdm = compute_rdm_parallel(tasks)\n",
    "R = 1 - rdm\n",
    "sr = np.abs(R).mean()\n",
    "\n",
    "fig, ax = plt.subplots(1, 1, figsize=(3, 3))\n",
    "\n",
    "ax.imshow(rdm, cmap='coolwarm', vmin=0, vmax=2)\n",
    "ax.axis('off')\n",
    "\n",
    "ax.set_title(f'{sr:.2f}', fontsize=26)\n",
    "\n",
    "fig.savefig(path_figure_digits_4)\n",
    "plt.show()"
   ]
  },
  {
   "cell_type": "markdown",
   "metadata": {},
   "source": [
    "## 5 Digit Tasks"
   ]
  },
  {
   "cell_type": "code",
   "execution_count": 8,
   "metadata": {},
   "outputs": [
    {
     "data": {
      "image/png": "[encoded data removed]",
      "text/plain": [
       "<Figure size 300x300 with 1 Axes>"
      ]
     },
     "metadata": {},
     "output_type": "display_data"
    }
   ],
   "source": [
    "tasks = [parity, value, prime, fibonacci, mul3]\n",
    "\n",
    "rdm = compute_rdm_parallel(tasks)\n",
    "R = 1 - rdm\n",
    "sr = np.abs(R).mean()\n",
    "\n",
    "fig, ax = plt.subplots(1, 1, figsize=(3, 3))\n",
    "\n",
    "ax.imshow(rdm, cmap='coolwarm', vmin=0, vmax=2)\n",
    "ax.axis('off')\n",
    "\n",
    "ax.set_title(f'{sr:.2f}', fontsize=26)\n",
    "\n",
    "fig.savefig(path_figure_digits_5)\n",
    "plt.show()"
   ]
  },
  {
   "cell_type": "markdown",
   "metadata": {},
   "source": [
    "## 2 Letter Tasks"
   ]
  },
  {
   "cell_type": "code",
   "execution_count": 9,
   "metadata": {},
   "outputs": [
    {
     "data": {
      "image/png": "[encoded data removed]",
      "text/plain": [
       "<Figure size 300x300 with 1 Axes>"
      ]
     },
     "metadata": {},
     "output_type": "display_data"
    }
   ],
   "source": [
    "tasks = [vowel, position]\n",
    "\n",
    "rdm = compute_rdm_parallel(tasks)\n",
    "R = 1 - rdm\n",
    "sr = np.abs(R).mean()\n",
    "\n",
    "fig, ax = plt.subplots(1, 1, figsize=(3, 3))\n",
    "\n",
    "ax.imshow(rdm, cmap='coolwarm', vmin=0, vmax=2)\n",
    "ax.axis('off')\n",
    "\n",
    "ax.set_title(f'{sr:.2f}', fontsize=26)\n",
    "\n",
    "fig.savefig(path_figure_letters_2)\n",
    "plt.show()"
   ]
  }
 ],
 "metadata": {
  "kernelspec": {
   "display_name": "Python 3.8.10",
   "language": "python",
   "name": "python3"
  },
  "language_info": {
   "codemirror_mode": {
    "name": "ipython",
    "version": 3
   },
   "file_extension": ".py",
   "mimetype": "text/x-python",
   "name": "python",
   "nbconvert_exporter": "python",
   "pygments_lexer": "ipython3",
   "version": "3.8.10"
  },
  "orig_nbformat": 4,
  "vscode": {
   "interpreter": {
    "hash": "5de0b3d16828453b801d3a971a2e845298ac67ea708b1fd16f0d1197d2abd69f"
   }
  }
 },
 "nbformat": 4,
 "nbformat_minor": 2
}
