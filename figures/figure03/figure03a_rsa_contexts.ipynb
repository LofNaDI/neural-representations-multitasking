{
 "cells": [
  {
   "cell_type": "code",
   "execution_count": 1,
   "metadata": {},
   "outputs": [],
   "source": [
    "import os\n",
    "import pickle\n",
    "\n",
    "import matplotlib as mpl\n",
    "import matplotlib.pyplot as plt\n",
    "import numpy as np\n",
    "import seaborn as sns\n",
    "import torch.nn as nn\n",
    "import torch.optim\n",
    "from tqdm.auto import tqdm\n",
    "\n",
    "import multitask.dataset as dataset\n",
    "from multitask.models.task_switching.models import get_task_model\n",
    "from multitask.models.task_switching.representations import get_mean_activations, calculate_rdm, plot_rdm\n",
    "import multitask.models.task_switching.utils as utils\n",
    "import multitask.models.task_switching.hooks as hooks\n",
    "from multitask.utils.training import get_device\n",
    "from multitask.utils.argparse import check_runs"
   ]
  },
  {
   "cell_type": "code",
   "execution_count": 2,
   "metadata": {},
   "outputs": [],
   "source": [
    "sns.set_theme(style='ticks', palette='pastel')\n",
    "mpl.rcParams['font.family'] = 'Liberation Sans'\n",
    "mpl.rcParams['axes.spines.right'] = False\n",
    "mpl.rcParams['axes.spines.top'] = False"
   ]
  },
  {
   "cell_type": "code",
   "execution_count": 3,
   "metadata": {},
   "outputs": [],
   "source": [
    "path_data = os.path.join('..', '..', 'data')\n",
    "path_figure_rdm_first = os.path.join('svg', 'figure03a_rdm_first.svg')\n",
    "path_figure_rdm_all = os.path.join('svg', 'figure03a_rdm_all.svg')\n",
    "path_figure_rdm_removed = os.path.join('svg', 'figure03a_rdm_removed.svg')\n",
    "path_figure_rsa = os.path.join('svg', 'figure03a_rsa_contexts.svg')\n",
    "path_model_task_switching = os.path.join('..', '..', 'results', 'task_switching')"
   ]
  },
  {
   "cell_type": "markdown",
   "metadata": {},
   "source": [
    "## Contexts  First"
   ]
  },
  {
   "cell_type": "code",
   "execution_count": 4,
   "metadata": {},
   "outputs": [],
   "source": [
    "num_runs = 10\n",
    "initial_seed = 6789\n",
    "max_seed = 10e5\n",
    "num_epochs = 50\n",
    "num_hidden = 10 * [100]\n",
    "batch_size = 100\n",
    "num_train = 50000\n",
    "num_test = 10000\n",
    "tasks_names = ['parity', 'value']\n",
    "idxs_contexts = [0]"
   ]
  },
  {
   "cell_type": "code",
   "execution_count": 5,
   "metadata": {},
   "outputs": [
    {
     "name": "stdout",
     "output_type": "stream",
     "text": [
      "Found simulation in ../../results/task_switching with the same parameters (2022-09-27_22_43_11)\n"
     ]
    }
   ],
   "source": [
    "parameters = {\n",
    "    'num_runs': num_runs,\n",
    "    'initial_seed': initial_seed,\n",
    "    'max_seed': max_seed,\n",
    "    'num_epochs': num_epochs,\n",
    "    'num_hidden': num_hidden,\n",
    "    'batch_size': batch_size,\n",
    "    'num_train': num_train,\n",
    "    'num_test': num_test,\n",
    "    'tasks': tasks_names,\n",
    "    'idxs_contexts': idxs_contexts\n",
    "}\n",
    "\n",
    "data_folder = check_runs(path_model_task_switching, parameters)"
   ]
  },
  {
   "cell_type": "code",
   "execution_count": 6,
   "metadata": {},
   "outputs": [],
   "source": [
    "pickle_data = os.path.join(data_folder, 'data.pickle')\n",
    "with open(pickle_data, 'rb') as handle:\n",
    "    results_task_switching = pickle.load(handle)"
   ]
  },
  {
   "cell_type": "code",
   "execution_count": 7,
   "metadata": {},
   "outputs": [
    {
     "name": "stdout",
     "output_type": "stream",
     "text": [
      "[10612, 17350, 130146, 173249, 213794, 341996, 440064, 668870, 858781, 894813]\n",
      "['parity', 'value']\n"
     ]
    }
   ],
   "source": [
    "seeds = sorted(list(results_task_switching.keys()))\n",
    "num_seeds = len(seeds)\n",
    "num_tasks = len(tasks_names)\n",
    "\n",
    "print(seeds)\n",
    "print(tasks_names)"
   ]
  },
  {
   "cell_type": "code",
   "execution_count": 8,
   "metadata": {},
   "outputs": [
    {
     "name": "stdout",
     "output_type": "stream",
     "text": [
      "parity: [1, 0]\n",
      "value: [0, 1]\n"
     ]
    }
   ],
   "source": [
    "tasks_datasets = dataset.get_tasks_dict(tasks_names, root=path_data)\n",
    "\n",
    "task_switching_tasks = {}\n",
    "num_tasks = len(tasks_names)\n",
    "\n",
    "for i_context, task_name in enumerate(tasks_names):\n",
    "    task_switching_tasks[task_name] = {}\n",
    "    task_switching_tasks[task_name]['data'] = tasks_datasets[task_name]\n",
    "    task_switching_tasks[task_name]['activations'] = num_tasks * [0]\n",
    "    task_switching_tasks[task_name]['activations'][i_context] = 1\n",
    "\n",
    "for key, value in task_switching_tasks.items():\n",
    "    print(f'{key}: {value[\"activations\"]}')"
   ]
  },
  {
   "cell_type": "code",
   "execution_count": 9,
   "metadata": {},
   "outputs": [
    {
     "name": "stdout",
     "output_type": "stream",
     "text": [
      "Running on CPU.\n"
     ]
    },
    {
     "data": {
      "application/vnd.jupyter.widget-view+json": {
       "model_id": "26154aae112042269314575dba189f90",
       "version_major": 2,
       "version_minor": 0
      },
      "text/plain": [
       "  0%|          | 0/10 [00:00<?, ?it/s]"
      ]
     },
     "metadata": {},
     "output_type": "display_data"
    }
   ],
   "source": [
    "device = get_device()\n",
    "criterion = nn.CrossEntropyLoss()\n",
    "\n",
    "seeds_task_swithing  = sorted(list(results_task_switching.keys()))\n",
    "list_rdm_task_switching_first = []\n",
    "\n",
    "for i_seed, seed in tqdm(enumerate(seeds_task_swithing), total=num_runs):\n",
    "    state_dict = results_task_switching[seed]['model']\n",
    "    model = get_task_model(task_switching_tasks,\n",
    "                           num_hidden,\n",
    "                           idxs_contexts,\n",
    "                           device)\n",
    "    model.load_state_dict(state_dict)\n",
    "    \n",
    "    indices = results_task_switching[seed]['indices']\n",
    "\n",
    "    test_sampler = dataset.SequentialSampler(indices['test'])\n",
    "    _, test_dataloaders = dataset.create_dict_dataloaders(task_switching_tasks,\n",
    "                                                          indices,\n",
    "                                                          batch_size=batch_size)\n",
    "    tasks_testloader = dataset.SequentialTaskDataloader(test_dataloaders)\n",
    "\n",
    "    numbers = test_dataloaders[tasks_names[0]].dataset.numbers.numpy()\n",
    "    numbers = numbers[indices['test']]\n",
    "\n",
    "    _, activations = hooks.get_layer_activations(model,\n",
    "                                                tasks_testloader,\n",
    "                                                criterion,\n",
    "                                                device=device,\n",
    "                                                disable=True)\n",
    "\n",
    "    mean_activations = get_mean_activations(activations,\n",
    "                                            num_hidden,\n",
    "                                            list_labels=numbers,\n",
    "                                            tasks_names=tasks_names)\n",
    "\n",
    "    rdm_dict = calculate_rdm(mean_activations,\n",
    "                             tasks_names=tasks_names)\n",
    "    \n",
    "    list_rdm_task_switching_first.append(rdm_dict)"
   ]
  },
  {
   "cell_type": "code",
   "execution_count": 10,
   "metadata": {},
   "outputs": [
    {
     "data": {
      "image/png": "[encoded data removed]",
      "text/plain": [
       "<Figure size 2000x200 with 10 Axes>"
      ]
     },
     "metadata": {},
     "output_type": "display_data"
    }
   ],
   "source": [
    "mean_rdm = {}\n",
    "num_layers = len(num_hidden)\n",
    "\n",
    "for layer in range(num_layers):\n",
    "    mean_rdm[layer+1] = np.zeros((num_tasks * 10, num_tasks * 10))\n",
    "    for rdm in list_rdm_task_switching_first:\n",
    "        mean_rdm[layer+1] += rdm[layer+1]\n",
    "    mean_rdm[layer+1] /= num_runs\n",
    "\n",
    "fig, ax = plt.subplots(1, num_layers, figsize=(2 * num_layers, 2))\n",
    "plot_rdm(ax, mean_rdm, num_hidden, idxs_contexts, cmap='coolwarm', vmin=0, vmax=1)\n",
    "fig.tight_layout()\n",
    "fig.savefig(path_figure_rdm_first)\n",
    "plt.show()"
   ]
  },
  {
   "cell_type": "markdown",
   "metadata": {},
   "source": [
    "## Contexts All"
   ]
  },
  {
   "cell_type": "code",
   "execution_count": 11,
   "metadata": {},
   "outputs": [],
   "source": [
    "num_runs = 10\n",
    "initial_seed = 6789\n",
    "max_seed = 10e5\n",
    "num_hidden = 10 * [100]\n",
    "batch_size = 100\n",
    "num_train = 50000\n",
    "num_test = 10000\n",
    "tasks_names = ['parity', 'value']\n",
    "idxs_contexts = list(range(len(num_hidden)))"
   ]
  },
  {
   "cell_type": "code",
   "execution_count": 12,
   "metadata": {},
   "outputs": [
    {
     "name": "stdout",
     "output_type": "stream",
     "text": [
      "Found simulation in ../../results/task_switching with the same parameters (2022-09-28_02_23_14)\n"
     ]
    }
   ],
   "source": [
    "parameters = {\n",
    "    'num_runs': num_runs,\n",
    "    'initial_seed': initial_seed,\n",
    "    'max_seed': max_seed,\n",
    "    'num_epochs': num_epochs,\n",
    "    'num_hidden': num_hidden,\n",
    "    'batch_size': batch_size,\n",
    "    'num_train': num_train,\n",
    "    'num_test': num_test,\n",
    "    'tasks': tasks_names,\n",
    "    'idxs_contexts': idxs_contexts\n",
    "}\n",
    "\n",
    "data_folder = check_runs(path_model_task_switching, parameters)"
   ]
  },
  {
   "cell_type": "code",
   "execution_count": 13,
   "metadata": {},
   "outputs": [],
   "source": [
    "pickle_data = os.path.join(data_folder, 'data.pickle')\n",
    "with open(pickle_data, 'rb') as handle:\n",
    "    results_task_switching = pickle.load(handle)"
   ]
  },
  {
   "cell_type": "code",
   "execution_count": 14,
   "metadata": {},
   "outputs": [
    {
     "name": "stdout",
     "output_type": "stream",
     "text": [
      "[10612, 17350, 130146, 173249, 213794, 341996, 440064, 668870, 858781, 894813]\n",
      "['parity', 'value']\n"
     ]
    }
   ],
   "source": [
    "seeds = sorted(list(results_task_switching.keys()))\n",
    "num_seeds = len(seeds)\n",
    "num_tasks = len(tasks_names)\n",
    "\n",
    "print(seeds)\n",
    "print(tasks_names)"
   ]
  },
  {
   "cell_type": "code",
   "execution_count": 15,
   "metadata": {},
   "outputs": [
    {
     "name": "stdout",
     "output_type": "stream",
     "text": [
      "Running on CPU.\n"
     ]
    },
    {
     "data": {
      "application/vnd.jupyter.widget-view+json": {
       "model_id": "51e64af8c3bf432391e846b40c894312",
       "version_major": 2,
       "version_minor": 0
      },
      "text/plain": [
       "  0%|          | 0/10 [00:00<?, ?it/s]"
      ]
     },
     "metadata": {},
     "output_type": "display_data"
    }
   ],
   "source": [
    "device = get_device()\n",
    "criterion = nn.CrossEntropyLoss()\n",
    "\n",
    "seeds_task_swithing = sorted(list(results_task_switching.keys()))\n",
    "list_rdm_task_switching_all = []\n",
    "\n",
    "for i_seed, seed in tqdm(enumerate(seeds_task_swithing), total=num_runs):\n",
    "    state_dict = results_task_switching[seed]['model']\n",
    "    model = get_task_model(task_switching_tasks,\n",
    "                           num_hidden,\n",
    "                           idxs_contexts,\n",
    "                           device)\n",
    "    model.load_state_dict(state_dict)\n",
    "    \n",
    "    indices = results_task_switching[seed]['indices']\n",
    "\n",
    "    test_sampler = dataset.SequentialSampler(indices['test'])\n",
    "    _, test_dataloaders = dataset.create_dict_dataloaders(task_switching_tasks,\n",
    "                                                          indices,\n",
    "                                                          batch_size=batch_size)\n",
    "    tasks_testloader = dataset.SequentialTaskDataloader(test_dataloaders)\n",
    "\n",
    "    numbers = test_dataloaders[tasks_names[0]].dataset.numbers.numpy()\n",
    "    numbers = numbers[indices['test']]\n",
    "\n",
    "    _, activations = hooks.get_layer_activations(model,\n",
    "                                                tasks_testloader,\n",
    "                                                criterion,\n",
    "                                                device=device,\n",
    "                                                disable=True)\n",
    "\n",
    "    mean_activations = get_mean_activations(activations,\n",
    "                                            num_hidden,\n",
    "                                            list_labels=numbers,\n",
    "                                            tasks_names=tasks_names)\n",
    "\n",
    "    rdm_dict = calculate_rdm(mean_activations,\n",
    "                             tasks_names=tasks_names)\n",
    "    \n",
    "    list_rdm_task_switching_all.append(rdm_dict)"
   ]
  },
  {
   "cell_type": "code",
   "execution_count": 16,
   "metadata": {},
   "outputs": [
    {
     "data": {
      "image/png": "[encoded data removed]",
      "text/plain": [
       "<Figure size 2000x200 with 10 Axes>"
      ]
     },
     "metadata": {},
     "output_type": "display_data"
    }
   ],
   "source": [
    "mean_rdm = {}\n",
    "num_layers = len(num_hidden)\n",
    "\n",
    "for layer in range(num_layers):\n",
    "    mean_rdm[layer+1] = np.zeros((num_tasks * 10, num_tasks * 10))\n",
    "    for rdm in list_rdm_task_switching_all:\n",
    "        mean_rdm[layer+1] += rdm[layer+1]\n",
    "    mean_rdm[layer+1] /= num_runs\n",
    "\n",
    "fig, ax = plt.subplots(1, num_layers, figsize=(2 * num_layers, 2))\n",
    "plot_rdm(ax, mean_rdm, num_hidden, idxs_contexts, cmap='coolwarm', vmin=0, vmax=1)\n",
    "fig.tight_layout()\n",
    "\n",
    "fig.savefig(path_figure_rdm_all)\n",
    "\n",
    "\n",
    "plt.show()"
   ]
  },
  {
   "cell_type": "markdown",
   "metadata": {},
   "source": [
    "## Context Removed"
   ]
  },
  {
   "cell_type": "code",
   "execution_count": 17,
   "metadata": {},
   "outputs": [
    {
     "name": "stdout",
     "output_type": "stream",
     "text": [
      "parity: [0, 0]\n",
      "value: [0, 0]\n"
     ]
    }
   ],
   "source": [
    "tasks_datasets = dataset.get_tasks_dict(tasks_names, root=path_data)\n",
    "\n",
    "task_switching_tasks = {}\n",
    "num_tasks = len(tasks_names)\n",
    "\n",
    "for i_context, task_name in enumerate(tasks_names):\n",
    "    task_switching_tasks[task_name] = {}\n",
    "    task_switching_tasks[task_name]['data'] = tasks_datasets[task_name]\n",
    "    task_switching_tasks[task_name]['activations'] = num_tasks * [0]\n",
    "    task_switching_tasks[task_name]['activations'][i_context] = 0  # To 0!\n",
    "\n",
    "for key, value in task_switching_tasks.items():\n",
    "    print(f'{key}: {value[\"activations\"]}')"
   ]
  },
  {
   "cell_type": "code",
   "execution_count": 18,
   "metadata": {},
   "outputs": [
    {
     "name": "stdout",
     "output_type": "stream",
     "text": [
      "Running on CPU.\n"
     ]
    },
    {
     "data": {
      "application/vnd.jupyter.widget-view+json": {
       "model_id": "c0adbfcc59a5438da3dc1f53e44b4761",
       "version_major": 2,
       "version_minor": 0
      },
      "text/plain": [
       "  0%|          | 0/10 [00:00<?, ?it/s]"
      ]
     },
     "metadata": {},
     "output_type": "display_data"
    }
   ],
   "source": [
    "device = get_device()\n",
    "criterion = nn.CrossEntropyLoss()\n",
    "\n",
    "seeds_task_swithing = sorted(list(results_task_switching.keys()))\n",
    "list_rdm_task_switching_none = []\n",
    "\n",
    "for i_seed, seed in tqdm(enumerate(seeds_task_swithing), total=num_runs):\n",
    "    state_dict = results_task_switching[seed]['model']\n",
    "    model = get_task_model(task_switching_tasks,\n",
    "                           num_hidden,\n",
    "                           idxs_contexts,\n",
    "                           device)\n",
    "    model.load_state_dict(state_dict)\n",
    "    \n",
    "    indices = results_task_switching[seed]['indices']\n",
    "\n",
    "    test_sampler = dataset.SequentialSampler(indices['test'])\n",
    "    _, test_dataloaders = dataset.create_dict_dataloaders(task_switching_tasks,\n",
    "                                                          indices,\n",
    "                                                          batch_size=batch_size)\n",
    "    tasks_testloader = dataset.SequentialTaskDataloader(test_dataloaders)\n",
    "\n",
    "    numbers = test_dataloaders[tasks_names[0]].dataset.numbers.numpy()\n",
    "    numbers = numbers[indices['test']]\n",
    "\n",
    "    _, activations = hooks.get_layer_activations(model,\n",
    "                                                tasks_testloader,\n",
    "                                                criterion,\n",
    "                                                device=device,\n",
    "                                                disable=True)\n",
    "\n",
    "    mean_activations = get_mean_activations(activations,\n",
    "                                            num_hidden,\n",
    "                                            list_labels=numbers,\n",
    "                                            tasks_names=tasks_names)\n",
    "\n",
    "    rdm_dict = calculate_rdm(mean_activations,\n",
    "                             tasks_names=tasks_names)\n",
    "\n",
    "    list_rdm_task_switching_none.append(rdm_dict)"
   ]
  },
  {
   "cell_type": "code",
   "execution_count": 19,
   "metadata": {},
   "outputs": [
    {
     "data": {
      "image/png": "[encoded data removed]",
      "text/plain": [
       "<Figure size 2000x200 with 10 Axes>"
      ]
     },
     "metadata": {},
     "output_type": "display_data"
    }
   ],
   "source": [
    "mean_rdm = {}\n",
    "num_layers = len(num_hidden)\n",
    "\n",
    "for layer in range(num_layers):\n",
    "    mean_rdm[layer+1] = np.zeros((num_tasks * 10, num_tasks * 10))\n",
    "    for rdm in list_rdm_task_switching_none:\n",
    "        mean_rdm[layer+1] += rdm[layer+1]\n",
    "    mean_rdm[layer+1] /= num_runs\n",
    "\n",
    "fig, ax = plt.subplots(1, num_layers, figsize=(2 * num_layers, 2))\n",
    "plot_rdm(ax, mean_rdm, num_hidden, idxs_contexts, cmap='coolwarm', vmin=0, vmax=1)\n",
    "fig.tight_layout()\n",
    "\n",
    "fig.savefig(path_figure_rdm_removed)\n",
    "\n",
    "plt.show()"
   ]
  },
  {
   "cell_type": "markdown",
   "metadata": {},
   "source": [
    "## RSA"
   ]
  },
  {
   "cell_type": "code",
   "execution_count": 20,
   "metadata": {},
   "outputs": [],
   "source": [
    "def calculate_rsa(first_rdm_list, second_rdm_list):\n",
    "    assert len(first_rdm_list) == len(second_rdm_list)\n",
    "    num_seeds = len(first_rdm_list)\n",
    "\n",
    "    assert first_rdm_list[0].keys() == second_rdm_list[0].keys()\n",
    "    num_layers = len(first_rdm_list[0].keys())\n",
    "    rsa_matrix = np.zeros((num_seeds, num_layers))\n",
    "\n",
    "    for i_seed in range(num_seeds):\n",
    "        for i_layer in range(num_layers):\n",
    "            first_rdm = first_rdm_list[i_seed][i_layer+1].flatten()\n",
    "            second_rdm = second_rdm_list[i_seed][i_layer+1].flatten()\n",
    "            rsa_matrix[i_seed, i_layer] = np.corrcoef(first_rdm, second_rdm)[0, 1]\n",
    "    return rsa_matrix\n",
    "\n",
    "\n",
    "def calculate_rsa_diagonal(first_rdm_list, second_rdm_list):\n",
    "    assert len(first_rdm_list) == len(second_rdm_list)\n",
    "    num_seeds = len(first_rdm_list)\n",
    "\n",
    "    assert first_rdm_list[0].keys() == second_rdm_list[0].keys()\n",
    "    num_layers = len(first_rdm_list[0].keys())\n",
    "    rsa_matrix = np.zeros((num_seeds, num_layers))\n",
    "\n",
    "    for i_seed in range(num_seeds):\n",
    "        for i_layer in range(num_layers):\n",
    "            first_rdm = np.concatenate((first_rdm_list[i_seed][i_layer+1][:10, :10].flatten(),\n",
    "                                        first_rdm_list[i_seed][i_layer+1][10:, 10:].flatten()))\n",
    "            second_rdm = np.concatenate((second_rdm_list[i_seed][i_layer+1][:10, :10].flatten(),\n",
    "                                        second_rdm_list[i_seed][i_layer+1][10:, 10:].flatten()))\n",
    "            rsa_matrix[i_seed, i_layer] = np.corrcoef(first_rdm, second_rdm)[0, 1]\n",
    "    return rsa_matrix\n",
    "\n",
    "def calculate_rsa_off_diagonal(first_rdm_list, second_rdm_list):\n",
    "    assert len(first_rdm_list) == len(second_rdm_list)\n",
    "    num_seeds = len(first_rdm_list)\n",
    "\n",
    "    assert first_rdm_list[0].keys() == second_rdm_list[0].keys()\n",
    "    num_layers = len(first_rdm_list[0].keys())\n",
    "    rsa_matrix = np.zeros((num_seeds, num_layers))\n",
    "\n",
    "    for i_seed in range(num_seeds):\n",
    "        for i_layer in range(num_layers):\n",
    "            first_rdm = np.concatenate((first_rdm_list[i_seed][i_layer+1][:10, 10:].flatten(),\n",
    "                                        first_rdm_list[i_seed][i_layer+1][10:, :10].flatten()))\n",
    "            second_rdm = np.concatenate((second_rdm_list[i_seed][i_layer+1][:10, 10:].flatten(),\n",
    "                                        second_rdm_list[i_seed][i_layer+1][10:, :10].flatten()))\n",
    "            rsa_matrix[i_seed, i_layer] = np.corrcoef(first_rdm, second_rdm)[0, 1]\n",
    "    return rsa_matrix"
   ]
  },
  {
   "cell_type": "code",
   "execution_count": 21,
   "metadata": {},
   "outputs": [],
   "source": [
    "rsa_first_all = calculate_rsa(list_rdm_task_switching_first,\n",
    "                                        list_rdm_task_switching_all)\n",
    "\n",
    "mean_first_all = rsa_first_all.mean(axis=0)\n",
    "std_first_all = rsa_first_all.std(axis=0)\n",
    "\n",
    "rsa_none_all = calculate_rsa(list_rdm_task_switching_none,\n",
    "                                              list_rdm_task_switching_all)\n",
    "\n",
    "mean_none_all = rsa_none_all.mean(axis=0)\n",
    "std_none_all = rsa_none_all.std(axis=0)"
   ]
  },
  {
   "cell_type": "code",
   "execution_count": 22,
   "metadata": {},
   "outputs": [
    {
     "data": {
      "image/png": "[encoded data removed]",
      "text/plain": [
       "<Figure size 600x400 with 1 Axes>"
      ]
     },
     "metadata": {},
     "output_type": "display_data"
    }
   ],
   "source": [
    "layers = range(1, num_layers + 1)\n",
    "fig = plt.figure(figsize=(6, 4))\n",
    "\n",
    "plt.plot(layers, mean_first_all)\n",
    "plt.plot(layers, mean_none_all)\n",
    "\n",
    "plt.fill_between(layers,\n",
    "                 mean_first_all-std_first_all,\n",
    "                 mean_first_all+std_first_all,\n",
    "                 alpha=0.5)\n",
    "\n",
    "plt.fill_between(layers,\n",
    "                 mean_none_all-std_none_all,\n",
    "                 mean_none_all+std_none_all,\n",
    "                 alpha=0.5)\n",
    "\n",
    "\n",
    "plt.xlabel('Layer', fontsize=16)\n",
    "plt.xticks(range(1, num_layers+1), fontsize=12)\n",
    "plt.yticks(fontsize=14)\n",
    "plt.ylabel('Pearson Correlation', fontsize=16)\n",
    "plt.legend(['First - All', 'Removed - All'], prop={'size':12})\n",
    "plt.ylabel('Pearson Correlation', fontsize=16)\n",
    "\n",
    "fig.savefig(path_figure_rsa)\n",
    "\n",
    "plt.show()"
   ]
  }
 ],
 "metadata": {
  "kernelspec": {
   "display_name": "Python 3.8.10",
   "language": "python",
   "name": "python3"
  },
  "language_info": {
   "codemirror_mode": {
    "name": "ipython",
    "version": 3
   },
   "file_extension": ".py",
   "mimetype": "text/x-python",
   "name": "python",
   "nbconvert_exporter": "python",
   "pygments_lexer": "ipython3",
   "version": "3.8.10"
  },
  "orig_nbformat": 4,
  "vscode": {
   "interpreter": {
    "hash": "5de0b3d16828453b801d3a971a2e845298ac67ea708b1fd16f0d1197d2abd69f"
   }
  }
 },
 "nbformat": 4,
 "nbformat_minor": 2
}
