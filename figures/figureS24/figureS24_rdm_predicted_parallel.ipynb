{
 "cells": [
  {
   "cell_type": "code",
   "execution_count": 7,
   "metadata": {},
   "outputs": [],
   "source": [
    "import os\n",
    "\n",
    "import matplotlib.pyplot as plt\n",
    "import numpy as np"
   ]
  },
  {
   "cell_type": "code",
   "execution_count": 8,
   "metadata": {},
   "outputs": [],
   "source": [
    "path_figure = os.path.join('svg', 'figureS24_rdm_predicted_parallel.svg')"
   ]
  },
  {
   "cell_type": "code",
   "execution_count": 9,
   "metadata": {},
   "outputs": [],
   "source": [
    "parity =    np.array([[1, 0, 1, 0, 1, 0, 1, 0, 1, 0]])\n",
    "value =     np.array([[1, 1, 1, 1, 1, 0, 0, 0, 0, 0]])\n",
    "prime =     np.array([[0, 0, 1, 1, 0, 1, 0, 1, 0, 0]])\n",
    "fibonacci = np.array([[1, 1, 1, 1, 0, 1, 0, 0, 1, 0]])\n",
    "mul3 =      np.array([[0, 0, 0, 1, 0, 0, 1, 0, 0, 1]])\n",
    "\n",
    "vowel =        np.array([[1, 0, 0, 0, 1, 0, 0, 0, 1, 0, 0, 0, 0, 0, 1, 0, 0, 0, 0, 0, 1, 0, 0, 0, 0, 0]])\n",
    "position =     np.array([[1, 1, 1, 1, 1, 1, 1, 1, 1, 1, 1, 1, 1, 0, 0, 0, 0, 0, 0, 0, 0, 0, 0, 0, 0, 0]])"
   ]
  },
  {
   "cell_type": "code",
   "execution_count": 24,
   "metadata": {},
   "outputs": [],
   "source": [
    "def compute_rdm_parallel(tasks):\n",
    "    num_tasks = len(tasks)\n",
    "    self_congruency_tasks = []\n",
    "    for task in tasks:\n",
    "        self_congruency_task = (task.T @ task) + (1 - task).T @ (1 - task)\n",
    "        self_congruency_tasks.append(self_congruency_task)\n",
    "\n",
    "    correlation_matrix = np.zeros_like(self_congruency_tasks[0])\n",
    "    for self_congruency_task in self_congruency_tasks:\n",
    "        correlation_matrix += self_congruency_task\n",
    "\n",
    "    correlation_matrix = correlation_matrix / num_tasks\n",
    "\n",
    "    return (1 - correlation_matrix) / 2"
   ]
  },
  {
   "cell_type": "code",
   "execution_count": 25,
   "metadata": {},
   "outputs": [],
   "source": [
    "rdm_parallel_2_letters = compute_rdm_parallel([vowel, position])\n",
    "rdm_parallel_2_digits = compute_rdm_parallel([parity, value])\n",
    "rdm_parallel_5 = compute_rdm_parallel([parity, value, prime, fibonacci, mul3])\n"
   ]
  },
  {
   "cell_type": "code",
   "execution_count": 46,
   "metadata": {},
   "outputs": [
    {
     "data": {
      "image/png": "[encoded data removed]",
      "text/plain": [
       "<Figure size 640x480 with 3 Axes>"
      ]
     },
     "metadata": {},
     "output_type": "display_data"
    }
   ],
   "source": [
    "fig, ax = plt.subplots(1, 3)\n",
    "\n",
    "ax[0].imshow(rdm_parallel_2_digits, vmin=0, vmax=1, cmap='coolwarm')\n",
    "ax[0].axis('off')\n",
    "\n",
    "ax[1].imshow(rdm_parallel_5, vmin=0, vmax=1, cmap='coolwarm')\n",
    "ax[1].axis('off')\n",
    "\n",
    "ax[2].imshow(rdm_parallel_2_letters, vmin=0, vmax=1, cmap='coolwarm')\n",
    "ax[2].axis('off')\n",
    "\n",
    "fig.savefig(path_figure)\n",
    "plt.show()"
   ]
  },
  {
   "cell_type": "code",
   "execution_count": null,
   "metadata": {},
   "outputs": [],
   "source": []
  }
 ],
 "metadata": {
  "kernelspec": {
   "display_name": "multitask",
   "language": "python",
   "name": "python3"
  },
  "language_info": {
   "codemirror_mode": {
    "name": "ipython",
    "version": 3
   },
   "file_extension": ".py",
   "mimetype": "text/x-python",
   "name": "python",
   "nbconvert_exporter": "python",
   "pygments_lexer": "ipython3",
   "version": "3.8.10"
  }
 },
 "nbformat": 4,
 "nbformat_minor": 2
}
