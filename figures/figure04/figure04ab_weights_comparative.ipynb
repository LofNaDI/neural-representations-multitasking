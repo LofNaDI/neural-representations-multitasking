{
 "cells": [
  {
   "cell_type": "code",
   "execution_count": 1,
   "metadata": {},
   "outputs": [],
   "source": [
    "import os\n",
    "import pickle\n",
    "\n",
    "import matplotlib.pyplot as plt\n",
    "import numpy as np\n",
    "import torch.nn as nn\n",
    "from tqdm.auto import tqdm\n",
    "\n",
    "import multitask.dataset as dataset\n",
    "from multitask.models.individual import get_individual_model\n",
    "from multitask.utils.training import get_device\n",
    "from multitask.utils.argparse import check_runs"
   ]
  },
  {
   "cell_type": "code",
   "execution_count": 2,
   "metadata": {},
   "outputs": [],
   "source": [
    "plt.style.use('../style/plots.mplstyle')\n",
    "palette = ['#c0d9ffff', '#bfc1ffff', '#e3bfffff', '#ffbfe6ff', '#ffbfc4ff']"
   ]
  },
  {
   "cell_type": "code",
   "execution_count": 3,
   "metadata": {},
   "outputs": [],
   "source": [
    "path_data = os.path.join('..', '..', 'data')\n",
    "path_figure_weights_magnitude = os.path.join('svg', 'figure04a_weights_magnitude.svg')\n",
    "path_figure_weights_correlation = os.path.join('svg', 'figure04b_weights_correlation.svg')\n",
    "path_model_individual = os.path.join('..', '..', 'results', 'individual')"
   ]
  },
  {
   "cell_type": "code",
   "execution_count": 4,
   "metadata": {},
   "outputs": [],
   "source": [
    "num_runs = 10\n",
    "initial_seed = 6789\n",
    "max_seed = 10e5\n",
    "num_epochs = 50\n",
    "num_hidden = 10 * [100]\n",
    "batch_size = 100\n",
    "num_train = 50000\n",
    "num_test = 10000\n",
    "tasks_names = ['parity', 'value']"
   ]
  },
  {
   "cell_type": "code",
   "execution_count": 5,
   "metadata": {},
   "outputs": [
    {
     "name": "stdout",
     "output_type": "stream",
     "text": [
      "Found simulation in ../../results/individual with the same parameters (2022-09-28_01_16_35)\n"
     ]
    }
   ],
   "source": [
    "parameters = {\n",
    "    'num_runs': num_runs,\n",
    "    'initial_seed': initial_seed,\n",
    "    'max_seed': max_seed,\n",
    "    'num_epochs': num_epochs,\n",
    "    'num_hidden': num_hidden,\n",
    "    'batch_size': batch_size,\n",
    "    'num_train': num_train,\n",
    "    'num_test': num_test,\n",
    "    'tasks': tasks_names,\n",
    "    'idxs_contexts': None\n",
    "}\n",
    "\n",
    "data_folder = check_runs(path_model_individual, parameters)"
   ]
  },
  {
   "cell_type": "code",
   "execution_count": 6,
   "metadata": {},
   "outputs": [],
   "source": [
    "pickle_data = os.path.join(data_folder, 'data.pickle')\n",
    "with open(pickle_data, 'rb') as handle:\n",
    "    results_individual = pickle.load(handle)"
   ]
  },
  {
   "cell_type": "code",
   "execution_count": 7,
   "metadata": {},
   "outputs": [
    {
     "name": "stdout",
     "output_type": "stream",
     "text": [
      "[10612, 17350, 130146, 173249, 213794, 341996, 440064, 668870, 858781, 894813]\n",
      "['parity', 'value']\n"
     ]
    }
   ],
   "source": [
    "seeds = sorted(list(results_individual.keys()))\n",
    "num_seeds = len(seeds)\n",
    "num_tasks = len(tasks_names)\n",
    "\n",
    "print(seeds)\n",
    "print(tasks_names)"
   ]
  },
  {
   "cell_type": "code",
   "execution_count": 8,
   "metadata": {},
   "outputs": [],
   "source": [
    "tasks_datasets = dataset.get_tasks_dict(tasks_names, root=path_data)"
   ]
  },
  {
   "cell_type": "markdown",
   "metadata": {},
   "source": [
    "## Plot All RDMs"
   ]
  },
  {
   "cell_type": "code",
   "execution_count": 9,
   "metadata": {},
   "outputs": [
    {
     "data": {
      "text/plain": [
       "{'parity': Dataset ParityTask\n",
       "     Number of datapoints: 60000\n",
       "     Root location: ../../data\n",
       "     Split: Train,\n",
       " 'value': Dataset ValueTask\n",
       "     Number of datapoints: 60000\n",
       "     Root location: ../../data\n",
       "     Split: Train}"
      ]
     },
     "execution_count": 9,
     "metadata": {},
     "output_type": "execute_result"
    }
   ],
   "source": [
    "tasks_datasets"
   ]
  },
  {
   "cell_type": "code",
   "execution_count": 10,
   "metadata": {},
   "outputs": [
    {
     "name": "stdout",
     "output_type": "stream",
     "text": [
      "Running on CPU.\n"
     ]
    },
    {
     "data": {
      "application/vnd.jupyter.widget-view+json": {
       "model_id": "2a95481637c041c598bb17e302b7145f",
       "version_major": 2,
       "version_minor": 0
      },
      "text/plain": [
       "  0%|          | 0/10 [00:00<?, ?it/s]"
      ]
     },
     "metadata": {},
     "output_type": "display_data"
    }
   ],
   "source": [
    "device = get_device()\n",
    "criterion = nn.CrossEntropyLoss()\n",
    "num_layers = len(num_hidden)\n",
    "\n",
    "biases = np.zeros((num_tasks, num_hidden[0], num_layers))\n",
    "norm_biases = np.zeros((num_runs, num_tasks, num_layers))\n",
    "correlations = np.zeros((num_runs, num_layers))\n",
    "\n",
    "for i_seed, seed in tqdm(enumerate(seeds), total=num_seeds):\n",
    "    task_activations = []\n",
    "    task_numbers = []\n",
    "    indices = results_individual[seed]['indices']\n",
    "\n",
    "    for i_bias in range(num_layers):\n",
    "        for i_task, task_name in enumerate(tasks_names):\n",
    "            state_dict = results_individual[seed][task_name]['model']\n",
    "\n",
    "            model = get_individual_model(num_hidden,\n",
    "                                        device)\n",
    "            model.load_state_dict(state_dict)\n",
    "            model.to(device)\n",
    "\n",
    "            biases[i_task, :, i_bias] = model.layers[i_bias].bias.cpu().detach().numpy()\n",
    "            norm_biases[i_seed, i_task, i_bias] = np.linalg.norm(biases[i_task, :, i_bias], axis=0)\n",
    "\n",
    "        correlations[i_seed, i_bias] = np.corrcoef(biases[0, :, i_bias],\n",
    "                                                      biases[1, :, i_bias])[0, 1]\n",
    "    \n"
   ]
  },
  {
   "cell_type": "code",
   "execution_count": 11,
   "metadata": {},
   "outputs": [
    {
     "ename": "TypeError",
     "evalue": "cannot unpack non-iterable Figure object",
     "output_type": "error",
     "traceback": [
      "\u001b[0;31m---------------------------------------------------------------------------\u001b[0m",
      "\u001b[0;31mTypeError\u001b[0m                                 Traceback (most recent call last)",
      "Cell \u001b[0;32mIn[11], line 8\u001b[0m\n\u001b[1;32m      5\u001b[0m std_parity \u001b[38;5;241m=\u001b[39m norm_biases\u001b[38;5;241m.\u001b[39mstd(axis\u001b[38;5;241m=\u001b[39m\u001b[38;5;241m0\u001b[39m)[\u001b[38;5;241m0\u001b[39m, :]\n\u001b[1;32m      6\u001b[0m std_value \u001b[38;5;241m=\u001b[39m norm_biases\u001b[38;5;241m.\u001b[39mstd(axis\u001b[38;5;241m=\u001b[39m\u001b[38;5;241m0\u001b[39m)[\u001b[38;5;241m1\u001b[39m, :]\n\u001b[0;32m----> 8\u001b[0m fig, ax \u001b[38;5;241m=\u001b[39m plt\u001b[38;5;241m.\u001b[39mfigure(figsize\u001b[38;5;241m=\u001b[39m(\u001b[38;5;241m6\u001b[39m, \u001b[38;5;241m4\u001b[39m))\n\u001b[1;32m      9\u001b[0m ax\u001b[38;5;241m.\u001b[39mbar(idxs_layers\u001b[38;5;241m-\u001b[39m\u001b[38;5;241m0.2\u001b[39m, mean_parity, width\u001b[38;5;241m=\u001b[39m\u001b[38;5;241m0.4\u001b[39m, color\u001b[38;5;241m=\u001b[39mpalette[\u001b[38;5;241m0\u001b[39m])\n\u001b[1;32m     10\u001b[0m ax\u001b[38;5;241m.\u001b[39mbar(idxs_layers\u001b[38;5;241m+\u001b[39m\u001b[38;5;241m0.2\u001b[39m, mean_value, width\u001b[38;5;241m=\u001b[39m\u001b[38;5;241m0.4\u001b[39m, color\u001b[38;5;241m=\u001b[39mpalette[\u001b[38;5;241m-\u001b[39m\u001b[38;5;241m1\u001b[39m])\n",
      "\u001b[0;31mTypeError\u001b[0m: cannot unpack non-iterable Figure object"
     ]
    },
    {
     "data": {
      "text/plain": [
       "<Figure size 600x400 with 0 Axes>"
      ]
     },
     "metadata": {},
     "output_type": "display_data"
    }
   ],
   "source": [
    "idxs_layers = np.arange(1, 11)\n",
    "\n",
    "mean_parity = norm_biases.mean(axis=0)[0, :]\n",
    "mean_value = norm_biases.mean(axis=0)[1, :]\n",
    "std_parity = norm_biases.std(axis=0)[0, :]\n",
    "std_value = norm_biases.std(axis=0)[1, :]\n",
    "\n",
    "fig, ax = plt.figure(figsize=(6, 4))\n",
    "ax.bar(idxs_layers-0.2, mean_parity, width=0.4, color=palette[0])\n",
    "ax.bar(idxs_layers+0.2, mean_value, width=0.4, color=palette[-1])\n",
    "\n",
    "ax.errorbar(idxs_layers-0.2, mean_parity, std_parity, color='k', linestyle='', capsize=5)\n",
    "ax.errorbar(idxs_layers+0.2, mean_value, std_value, color='k', linestyle='', capsize=5)\n",
    "\n",
    "ax.set_ylim(0, 6)\n",
    "ax.set_xlabel('Layer')\n",
    "ax.set_ylabel('Bias Magnitude')\n",
    "ax.set_xticks(idxs_layers)\n",
    "\n",
    "ax.legend(['Parity', 'Value'])\n",
    "\n",
    "fig.tight_layout()\n",
    "fig.savefig(path_figure_weights_magnitude, transparent=True)\n",
    "\n",
    "plt.show()"
   ]
  },
  {
   "cell_type": "code",
   "execution_count": null,
   "metadata": {},
   "outputs": [
    {
     "data": {
      "image/png": "[encoded data removed]",
      "text/plain": [
       "<Figure size 600x400 with 1 Axes>"
      ]
     },
     "metadata": {},
     "output_type": "display_data"
    }
   ],
   "source": [
    "fig, ax = plt.figure(figsize=(6, 4))\n",
    "\n",
    "mean_corr = correlations.mean(axis=0)\n",
    "std_corr = correlations.std(axis=0)\n",
    "\n",
    "ax.plot(idxs_layers, mean_corr, color=palette[2])\n",
    "ax.fill_between(idxs_layers, mean_corr-std_corr, mean_corr+std_corr, color=palette[2], alpha=.5)\n",
    "\n",
    "ax.set_xlabel('Layer')\n",
    "ax.set_ylabel('Pearson Correlation')\n",
    "ax.set_xticks(idxs_layers)\n",
    "ax.set_ylim(-1, 1)\n",
    "\n",
    "fig.tight_layout()\n",
    "fig.savefig(path_figure_weights_correlation, transparent=True)\n",
    "\n",
    "plt.show()"
   ]
  }
 ],
 "metadata": {
  "kernelspec": {
   "display_name": "Python 3.8.10",
   "language": "python",
   "name": "python3"
  },
  "language_info": {
   "codemirror_mode": {
    "name": "ipython",
    "version": 3
   },
   "file_extension": ".py",
   "mimetype": "text/x-python",
   "name": "python",
   "nbconvert_exporter": "python",
   "pygments_lexer": "ipython3",
   "version": "3.8.10"
  },
  "orig_nbformat": 4,
  "vscode": {
   "interpreter": {
    "hash": "5de0b3d16828453b801d3a971a2e845298ac67ea708b1fd16f0d1197d2abd69f"
   }
  }
 },
 "nbformat": 4,
 "nbformat_minor": 2
}
