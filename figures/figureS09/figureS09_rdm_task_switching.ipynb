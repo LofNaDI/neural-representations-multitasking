{
 "cells": [
  {
   "cell_type": "code",
   "execution_count": 1,
   "metadata": {},
   "outputs": [],
   "source": [
    "import os\n",
    "import pickle\n",
    "\n",
    "import matplotlib.pyplot as plt\n",
    "import numpy as np\n",
    "import torch.nn as nn\n",
    "from tqdm.auto import tqdm\n",
    "\n",
    "import multitask.dataset as dataset\n",
    "import multitask.models.task_switching.hooks as hooks\n",
    "from multitask.models.task_switching.models import get_task_model\n",
    "from multitask.representations import get_mean_activations, calculate_rdm, plot_rdm\n",
    "from multitask.utils.training import get_device\n",
    "from multitask.utils.argparse import check_runs"
   ]
  },
  {
   "cell_type": "code",
   "execution_count": 2,
   "metadata": {},
   "outputs": [],
   "source": [
    "path_data = os.path.join('..', '..', 'data')\n",
    "path_model_task_switching = os.path.join('..', '..', 'results', 'task_switching')"
   ]
  },
  {
   "cell_type": "code",
   "execution_count": 3,
   "metadata": {},
   "outputs": [],
   "source": [
    "path_figure = os.path.join('svg', 'figureS18_rdm_task_switching.svg')\n",
    "\n",
    "path_pickle_2 = os.path.join('pickle', 'task_switching_2.pickle')\n",
    "path_pickle_5 = os.path.join('pickle', 'task_switching_5.pickle')"
   ]
  },
  {
   "cell_type": "code",
   "execution_count": 4,
   "metadata": {},
   "outputs": [],
   "source": [
    "num_runs = 10\n",
    "initial_seed = 6789\n",
    "max_seed = 10e5\n",
    "num_epochs = 50\n",
    "num_hidden = 5 * [100]\n",
    "batch_size = 100\n",
    "num_train = 50000\n",
    "num_test = 10000\n",
    "tasks_names = ['parity', 'value']\n",
    "idxs_contexts = list(range(len(num_hidden)))\n",
    "num_tasks = len(tasks_names)"
   ]
  },
  {
   "cell_type": "code",
   "execution_count": 5,
   "metadata": {},
   "outputs": [
    {
     "name": "stdout",
     "output_type": "stream",
     "text": [
      "Found simulation in ../../results/task_switching with the same parameters (2022-09-28_00_18_47)\n"
     ]
    }
   ],
   "source": [
    "parameters = {\n",
    "    'num_runs': num_runs,\n",
    "    'initial_seed': initial_seed,\n",
    "    'max_seed': max_seed,\n",
    "    'num_epochs': num_epochs,\n",
    "    'num_hidden': num_hidden,\n",
    "    'batch_size': batch_size,\n",
    "    'num_train': num_train,\n",
    "    'num_test': num_test,\n",
    "    'tasks': tasks_names,\n",
    "    'idxs_contexts': idxs_contexts\n",
    "}\n",
    "\n",
    "data_folder = check_runs(path_model_task_switching, parameters)"
   ]
  },
  {
   "cell_type": "code",
   "execution_count": 6,
   "metadata": {},
   "outputs": [],
   "source": [
    "pickle_data = os.path.join(data_folder, 'data.pickle')\n",
    "with open(pickle_data, 'rb') as handle:\n",
    "    results_task_switching = pickle.load(handle)"
   ]
  },
  {
   "cell_type": "code",
   "execution_count": 7,
   "metadata": {},
   "outputs": [
    {
     "name": "stdout",
     "output_type": "stream",
     "text": [
      "[10612, 17350, 130146, 173249, 213794, 341996, 440064, 668870, 858781, 894813]\n",
      "['parity', 'value']\n"
     ]
    }
   ],
   "source": [
    "seeds = sorted(list(results_task_switching.keys()))\n",
    "num_seeds = len(seeds)\n",
    "num_tasks = len(tasks_names)\n",
    "\n",
    "print(seeds)\n",
    "print(tasks_names)"
   ]
  },
  {
   "cell_type": "code",
   "execution_count": 8,
   "metadata": {},
   "outputs": [
    {
     "name": "stdout",
     "output_type": "stream",
     "text": [
      "parity: [1, 0]\n",
      "value: [0, 1]\n"
     ]
    }
   ],
   "source": [
    "tasks_datasets = dataset.get_tasks_dict(tasks_names, root=path_data)\n",
    "\n",
    "task_switching_tasks = {}\n",
    "num_tasks = len(tasks_names)\n",
    "\n",
    "for i_context, task_name in enumerate(tasks_names):\n",
    "    task_switching_tasks[task_name] = {}\n",
    "    task_switching_tasks[task_name]['data'] = tasks_datasets[task_name]\n",
    "    task_switching_tasks[task_name]['activations'] = num_tasks * [0]\n",
    "    task_switching_tasks[task_name]['activations'][i_context] = 1\n",
    "\n",
    "for key, value in task_switching_tasks.items():\n",
    "    print(f'{key}: {value[\"activations\"]}')"
   ]
  },
  {
   "cell_type": "code",
   "execution_count": 9,
   "metadata": {},
   "outputs": [
    {
     "name": "stdout",
     "output_type": "stream",
     "text": [
      "Running on CPU.\n"
     ]
    },
    {
     "data": {
      "application/vnd.jupyter.widget-view+json": {
       "model_id": "df042de70c78498f9326948aa3ab8aca",
       "version_major": 2,
       "version_minor": 0
      },
      "text/plain": [
       "  0%|          | 0/10 [00:00<?, ?it/s]"
      ]
     },
     "metadata": {},
     "output_type": "display_data"
    }
   ],
   "source": [
    "device = get_device()\n",
    "criterion = nn.CrossEntropyLoss()\n",
    "num_layers = len(num_hidden)\n",
    "list_rdm_2 = []\n",
    "mean_activations_2 = []\n",
    "\n",
    "for i_seed, seed in tqdm(enumerate(seeds), total=num_runs):\n",
    "    state_dict = results_task_switching[seed]['model']\n",
    "    model = get_task_model(task_switching_tasks,\n",
    "                           num_hidden,\n",
    "                           idxs_contexts,\n",
    "                           device)\n",
    "    model.load_state_dict(state_dict)\n",
    "    \n",
    "    indices = results_task_switching[seed]['indices']\n",
    "\n",
    "    test_sampler = dataset.SequentialSampler(indices['test'])\n",
    "    _, test_dataloaders = dataset.create_dict_dataloaders(task_switching_tasks,\n",
    "                                                          indices,\n",
    "                                                          batch_size=batch_size)\n",
    "    tasks_testloader = dataset.SequentialTaskDataloader(test_dataloaders)\n",
    "\n",
    "    numbers = test_dataloaders[tasks_names[0]].dataset.numbers.numpy()\n",
    "    numbers = numbers[indices['test']]\n",
    "\n",
    "    _, activations = hooks.get_layer_activations(model,\n",
    "                                                tasks_testloader,\n",
    "                                                criterion,\n",
    "                                                device=device,\n",
    "                                                disable=True)\n",
    "    mean_activations = get_mean_activations(activations,\n",
    "                                            num_hidden,\n",
    "                                            list_labels=numbers,\n",
    "                                            tasks_names=tasks_names)\n",
    "\n",
    "    rdm_dict = calculate_rdm(mean_activations,\n",
    "                             tasks_names=tasks_names)\n",
    "    list_rdm_2.append(rdm_dict)\n",
    "    mean_activations_2.append(mean_activations)"
   ]
  },
  {
   "cell_type": "code",
   "execution_count": 10,
   "metadata": {},
   "outputs": [
    {
     "name": "stdout",
     "output_type": "stream",
     "text": [
      "Found simulation in ../../results/task_switching with the same parameters (2024-01-19_16-11-23)\n"
     ]
    }
   ],
   "source": [
    "initial_seed = 9876\n",
    "tasks_names = ['parity', 'value', 'prime', 'fibonacci', 'multiples3']\n",
    "\n",
    "parameters = {\n",
    "    'num_runs': num_runs,\n",
    "    'initial_seed': initial_seed,\n",
    "    'max_seed': max_seed,\n",
    "    'num_epochs': num_epochs,\n",
    "    'num_hidden': num_hidden,\n",
    "    'batch_size': batch_size,\n",
    "    'num_train': num_train,\n",
    "    'num_test': num_test,\n",
    "    'tasks': tasks_names,\n",
    "    'idxs_contexts': idxs_contexts\n",
    "}\n",
    "\n",
    "data_folder = check_runs(path_model_task_switching, parameters)"
   ]
  },
  {
   "cell_type": "code",
   "execution_count": 11,
   "metadata": {},
   "outputs": [],
   "source": [
    "pickle_data = os.path.join(data_folder, 'data.pickle')\n",
    "with open(pickle_data, 'rb') as handle:\n",
    "    results_task_switching = pickle.load(handle)"
   ]
  },
  {
   "cell_type": "code",
   "execution_count": 12,
   "metadata": {},
   "outputs": [
    {
     "name": "stdout",
     "output_type": "stream",
     "text": [
      "[35826, 71651, 115238, 116103, 120635, 134969, 251708, 599912, 613403, 791925]\n",
      "['parity', 'value', 'prime', 'fibonacci', 'multiples3']\n"
     ]
    }
   ],
   "source": [
    "seeds = sorted(list(results_task_switching.keys()))\n",
    "num_seeds = len(seeds)\n",
    "num_tasks = len(tasks_names)\n",
    "\n",
    "print(seeds)\n",
    "print(tasks_names)"
   ]
  },
  {
   "cell_type": "code",
   "execution_count": 13,
   "metadata": {},
   "outputs": [
    {
     "name": "stdout",
     "output_type": "stream",
     "text": [
      "parity: [1, 0, 0, 0, 0]\n",
      "value: [0, 1, 0, 0, 0]\n",
      "prime: [0, 0, 1, 0, 0]\n",
      "fibonacci: [0, 0, 0, 1, 0]\n",
      "multiples3: [0, 0, 0, 0, 1]\n"
     ]
    }
   ],
   "source": [
    "tasks_datasets = dataset.get_tasks_dict(tasks_names, root=path_data)\n",
    "\n",
    "task_switching_tasks = {}\n",
    "num_tasks = len(tasks_names)\n",
    "\n",
    "for i_context, task_name in enumerate(tasks_names):\n",
    "    task_switching_tasks[task_name] = {}\n",
    "    task_switching_tasks[task_name]['data'] = tasks_datasets[task_name]\n",
    "    task_switching_tasks[task_name]['activations'] = num_tasks * [0]\n",
    "    task_switching_tasks[task_name]['activations'][i_context] = 1\n",
    "\n",
    "for key, value in task_switching_tasks.items():\n",
    "    print(f'{key}: {value[\"activations\"]}')"
   ]
  },
  {
   "cell_type": "code",
   "execution_count": 14,
   "metadata": {},
   "outputs": [
    {
     "name": "stdout",
     "output_type": "stream",
     "text": [
      "Running on CPU.\n"
     ]
    },
    {
     "data": {
      "application/vnd.jupyter.widget-view+json": {
       "model_id": "14df13999a3b436f9572380185d45489",
       "version_major": 2,
       "version_minor": 0
      },
      "text/plain": [
       "  0%|          | 0/10 [00:00<?, ?it/s]"
      ]
     },
     "metadata": {},
     "output_type": "display_data"
    }
   ],
   "source": [
    "device = get_device()\n",
    "criterion = nn.CrossEntropyLoss()\n",
    "num_layers = len(num_hidden)\n",
    "list_rdm_5 = []\n",
    "mean_activations_5 = []\n",
    "\n",
    "for i_seed, seed in tqdm(enumerate(seeds), total=num_runs):\n",
    "    state_dict = results_task_switching[seed]['model']\n",
    "    model = get_task_model(task_switching_tasks,\n",
    "                           num_hidden,\n",
    "                           idxs_contexts,\n",
    "                           device)\n",
    "    model.load_state_dict(state_dict)\n",
    "    \n",
    "    indices = results_task_switching[seed]['indices']\n",
    "\n",
    "    test_sampler = dataset.SequentialSampler(indices['test'])\n",
    "    _, test_dataloaders = dataset.create_dict_dataloaders(task_switching_tasks,\n",
    "                                                          indices,\n",
    "                                                          batch_size=batch_size)\n",
    "    tasks_testloader = dataset.SequentialTaskDataloader(test_dataloaders)\n",
    "\n",
    "    numbers = test_dataloaders[tasks_names[0]].dataset.numbers.numpy()\n",
    "    numbers = numbers[indices['test']]\n",
    "\n",
    "    _, activations = hooks.get_layer_activations(model,\n",
    "                                                tasks_testloader,\n",
    "                                                criterion,\n",
    "                                                device=device,\n",
    "                                                disable=True)\n",
    "    mean_activations = get_mean_activations(activations,\n",
    "                                            num_hidden,\n",
    "                                            list_labels=numbers,\n",
    "                                            tasks_names=tasks_names)\n",
    "\n",
    "    rdm_dict = calculate_rdm(mean_activations,\n",
    "                             tasks_names=tasks_names)\n",
    "    list_rdm_5.append(rdm_dict)\n",
    "    mean_activations_5.append(mean_activations)"
   ]
  },
  {
   "cell_type": "code",
   "execution_count": 15,
   "metadata": {},
   "outputs": [],
   "source": [
    "parent_pickle = os.path.dirname(path_pickle_2)\n",
    "\n",
    "if not os.path.exists(parent_pickle):\n",
    "    os.makedirs(parent_pickle)\n",
    "\n",
    "with open(path_pickle_2, 'wb') as f:\n",
    "    pickle.dump(mean_activations_2, f, protocol=pickle.HIGHEST_PROTOCOL)\n",
    "\n",
    "with open(path_pickle_5, 'wb') as f:\n",
    "    pickle.dump(mean_activations_5, f, protocol=pickle.HIGHEST_PROTOCOL)"
   ]
  },
  {
   "cell_type": "code",
   "execution_count": 16,
   "metadata": {},
   "outputs": [
    {
     "data": {
      "image/png": "[encoded data removed]",
      "text/plain": [
       "<Figure size 1000x400 with 10 Axes>"
      ]
     },
     "metadata": {},
     "output_type": "display_data"
    }
   ],
   "source": [
    "mean_rdm_2 = {}\n",
    "mean_rdm_5 = {}\n",
    "\n",
    "for layer in range(num_layers):\n",
    "    mean_rdm_2[layer+1] = np.zeros((20, 20))\n",
    "    for rdm in list_rdm_2:\n",
    "        mean_rdm_2[layer+1] += rdm[layer+1]\n",
    "    mean_rdm_2[layer+1] /= num_runs\n",
    "\n",
    "for layer in range(num_layers):\n",
    "    mean_rdm_5[layer+1] = np.zeros((20, 20))\n",
    "    for rdm in list_rdm_5:\n",
    "        mean_rdm_5[layer+1] += rdm[layer+1][:20, :20]\n",
    "    mean_rdm_5[layer+1] /= num_runs\n",
    "\n",
    "\n",
    "fig, ax = plt.subplots(2, num_layers, figsize=(2 * num_layers, 4))\n",
    "plot_rdm(ax[0], mean_rdm_2, num_hidden, cmap='coolwarm', vmin=0, vmax=1)\n",
    "plot_rdm(ax[1], mean_rdm_5, num_hidden, cmap='coolwarm', vmin=0, vmax=1)\n",
    "fig.tight_layout()\n",
    "fig.savefig(path_figure)\n",
    "plt.show()"
   ]
  }
 ],
 "metadata": {
  "kernelspec": {
   "display_name": "Python 3",
   "language": "python",
   "name": "python3"
  },
  "language_info": {
   "codemirror_mode": {
    "name": "ipython",
    "version": 3
   },
   "file_extension": ".py",
   "mimetype": "text/x-python",
   "name": "python",
   "nbconvert_exporter": "python",
   "pygments_lexer": "ipython3",
   "version": "3.8.10"
  }
 },
 "nbformat": 4,
 "nbformat_minor": 2
}
