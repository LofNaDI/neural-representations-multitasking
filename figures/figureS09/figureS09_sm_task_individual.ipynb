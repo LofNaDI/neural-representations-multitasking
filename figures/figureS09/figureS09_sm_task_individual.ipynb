{
 "cells": [
  {
   "cell_type": "code",
   "execution_count": 1,
   "metadata": {},
   "outputs": [],
   "source": [
    "import os\n",
    "import pickle\n",
    "\n",
    "import matplotlib.pyplot as plt\n",
    "import numpy as np\n",
    "import torch.nn as nn\n",
    "import torch.optim\n",
    "from tqdm.auto import tqdm\n",
    "\n",
    "import multitask.dataset as dataset\n",
    "import multitask.models.individual.hooks as hooks\n",
    "from multitask.models.individual.models import get_individual_model\n",
    "from multitask.representations import get_mean_activations, calculate_sm, plot_sm\n",
    "from multitask.utils.training import get_device\n",
    "from multitask.utils.argparse import check_runs"
   ]
  },
  {
   "cell_type": "code",
   "execution_count": 2,
   "metadata": {},
   "outputs": [],
   "source": [
    "path_data = os.path.join('..', '..', 'data')\n",
    "path_model_sequential = os.path.join('..', '..', 'results', 'individual')"
   ]
  },
  {
   "cell_type": "code",
   "execution_count": 3,
   "metadata": {},
   "outputs": [],
   "source": [
    "path_figure = os.path.join('svg', 'figureS09_sm_individual.svg')\n",
    "\n",
    "path_pickle_2 = os.path.join('pickle', 'sequential_2.pickle')\n",
    "path_pickle_5 = os.path.join('pickle', 'sequential_5.pickle')"
   ]
  },
  {
   "cell_type": "code",
   "execution_count": 4,
   "metadata": {},
   "outputs": [],
   "source": [
    "num_runs = 10\n",
    "initial_seed = 6789\n",
    "max_seed = 10e5\n",
    "num_epochs = 50\n",
    "num_hidden = 5 * [100]\n",
    "batch_size = 100\n",
    "num_train = 50000\n",
    "num_test = 10000\n",
    "tasks_names = ['parity', 'value']\n",
    "num_tasks = len(tasks_names)"
   ]
  },
  {
   "cell_type": "code",
   "execution_count": 5,
   "metadata": {},
   "outputs": [
    {
     "name": "stdout",
     "output_type": "stream",
     "text": [
      "Found simulation in ../../results/individual with the same parameters (2022-09-27_22_43_04)\n"
     ]
    }
   ],
   "source": [
    "parameters = {\n",
    "    'num_runs': num_runs,\n",
    "    'initial_seed': initial_seed,\n",
    "    'max_seed': max_seed,\n",
    "    'num_epochs': num_epochs,\n",
    "    'num_hidden': num_hidden,\n",
    "    'batch_size': batch_size,\n",
    "    'num_train': num_train,\n",
    "    'num_test': num_test,\n",
    "    'tasks': tasks_names,\n",
    "    'idxs_contexts': None\n",
    "}\n",
    "\n",
    "data_folder = check_runs(path_model_sequential, parameters)"
   ]
  },
  {
   "cell_type": "code",
   "execution_count": 6,
   "metadata": {},
   "outputs": [],
   "source": [
    "pickle_data = os.path.join(data_folder, 'data.pickle')\n",
    "with open(pickle_data, 'rb') as handle:\n",
    "    results_individual = pickle.load(handle)"
   ]
  },
  {
   "cell_type": "code",
   "execution_count": 7,
   "metadata": {},
   "outputs": [
    {
     "name": "stdout",
     "output_type": "stream",
     "text": [
      "[10612, 17350, 130146, 173249, 213794, 341996, 440064, 668870, 858781, 894813]\n",
      "['parity', 'value']\n"
     ]
    }
   ],
   "source": [
    "seeds = sorted(list(results_individual.keys()))\n",
    "num_seeds = len(seeds)\n",
    "num_tasks = len(tasks_names)\n",
    "\n",
    "print(seeds)\n",
    "print(tasks_names)"
   ]
  },
  {
   "cell_type": "code",
   "execution_count": 8,
   "metadata": {},
   "outputs": [],
   "source": [
    "tasks_datasets = dataset.get_tasks_dict(tasks_names, root=path_data)"
   ]
  },
  {
   "cell_type": "code",
   "execution_count": 9,
   "metadata": {},
   "outputs": [
    {
     "name": "stdout",
     "output_type": "stream",
     "text": [
      "Running on CPU.\n"
     ]
    },
    {
     "data": {
      "application/vnd.jupyter.widget-view+json": {
       "model_id": "cfabb6480f894ae3ab0f8f8e0ab47692",
       "version_major": 2,
       "version_minor": 0
      },
      "text/plain": [
       "  0%|          | 0/10 [00:00<?, ?it/s]"
      ]
     },
     "metadata": {},
     "output_type": "display_data"
    }
   ],
   "source": [
    "device = get_device()\n",
    "criterion = nn.CrossEntropyLoss()\n",
    "num_layers = len(num_hidden)\n",
    "\n",
    "list_sm_2 = []\n",
    "mean_activations_2 = []\n",
    "\n",
    "for i_seed, seed in tqdm(enumerate(seeds), total=num_seeds):\n",
    "    task_activations = []\n",
    "    task_numbers = []\n",
    "    indices = results_individual[seed]['indices']\n",
    "\n",
    "    for i_task, task_name in enumerate(tasks_names):\n",
    "        state_dict = results_individual[seed][task_name]['model']\n",
    "\n",
    "        model = get_individual_model(num_hidden,\n",
    "                                     device)\n",
    "        model.load_state_dict(state_dict)\n",
    "        model.to(device)\n",
    "\n",
    "        task_dataset = tasks_datasets[task_name]\n",
    "        test_sampler = dataset.SequentialSampler(indices['test'])\n",
    "        testloader = torch.utils.data.DataLoader(task_dataset,\n",
    "                                                 sampler=test_sampler,\n",
    "                                                 batch_size=batch_size)\n",
    "\n",
    "        numbers = testloader.dataset.numbers.numpy()\n",
    "        numbers = numbers[indices['test']]\n",
    "\n",
    "        _, activations = hooks.get_layer_activations(model,\n",
    "                                                     testloader,\n",
    "                                                     criterion,\n",
    "                                                     device=device,\n",
    "                                                     disable=True)\n",
    "        \n",
    "        task_activations.append(activations)\n",
    "        task_numbers.append(numbers)\n",
    "    \n",
    "    mean_activations = get_mean_activations(task_activations,\n",
    "                                            num_hidden,\n",
    "                                            list_labels=task_numbers,\n",
    "                                            tasks_names=tasks_names)\n",
    "\n",
    "    rdm_dict = calculate_sm(mean_activations,\n",
    "                            tasks_names=tasks_names)\n",
    "\n",
    "    list_sm_2.append(rdm_dict)\n",
    "    mean_activations_2.append(mean_activations)"
   ]
  },
  {
   "cell_type": "code",
   "execution_count": 10,
   "metadata": {},
   "outputs": [
    {
     "name": "stdout",
     "output_type": "stream",
     "text": [
      "Found simulation in ../../results/individual with the same parameters (2024-01-19_14-32-06)\n"
     ]
    }
   ],
   "source": [
    "initial_seed = 9876\n",
    "tasks_names = ['parity', 'value', 'prime', 'fibonacci', 'multiples3']\n",
    "\n",
    "parameters['initial_seed'] = initial_seed\n",
    "parameters['tasks'] = tasks_names\n",
    "\n",
    "data_folder = check_runs(path_model_sequential, parameters)"
   ]
  },
  {
   "cell_type": "code",
   "execution_count": 11,
   "metadata": {},
   "outputs": [],
   "source": [
    "pickle_data = os.path.join(data_folder, 'data.pickle')\n",
    "with open(pickle_data, 'rb') as handle:\n",
    "    results_individual = pickle.load(handle)"
   ]
  },
  {
   "cell_type": "code",
   "execution_count": 12,
   "metadata": {},
   "outputs": [
    {
     "name": "stdout",
     "output_type": "stream",
     "text": [
      "[35826, 71651, 115238, 116103, 120635, 134969, 251708, 599912, 613403, 791925]\n",
      "['parity', 'value', 'prime', 'fibonacci', 'multiples3']\n"
     ]
    }
   ],
   "source": [
    "seeds = sorted(list(results_individual.keys()))\n",
    "num_seeds = len(seeds)\n",
    "num_tasks = len(tasks_names)\n",
    "\n",
    "print(seeds)\n",
    "print(tasks_names)"
   ]
  },
  {
   "cell_type": "code",
   "execution_count": 13,
   "metadata": {},
   "outputs": [],
   "source": [
    "tasks_datasets = dataset.get_tasks_dict(tasks_names, root=path_data)"
   ]
  },
  {
   "cell_type": "code",
   "execution_count": 14,
   "metadata": {},
   "outputs": [
    {
     "name": "stdout",
     "output_type": "stream",
     "text": [
      "Running on CPU.\n"
     ]
    },
    {
     "data": {
      "application/vnd.jupyter.widget-view+json": {
       "model_id": "f91c0b5599c243aaabe4ab15f9643e04",
       "version_major": 2,
       "version_minor": 0
      },
      "text/plain": [
       "  0%|          | 0/10 [00:00<?, ?it/s]"
      ]
     },
     "metadata": {},
     "output_type": "display_data"
    }
   ],
   "source": [
    "device = get_device()\n",
    "criterion = nn.CrossEntropyLoss()\n",
    "num_layers = len(num_hidden)\n",
    "\n",
    "list_sm_5 = []\n",
    "mean_activations_5 = []\n",
    "\n",
    "for i_seed, seed in tqdm(enumerate(seeds), total=num_seeds):\n",
    "    task_activations = []\n",
    "    task_numbers = []\n",
    "    indices = results_individual[seed]['indices']\n",
    "\n",
    "    for i_task, task_name in enumerate(tasks_names):\n",
    "        state_dict = results_individual[seed][task_name]['model']\n",
    "\n",
    "        model = get_individual_model(num_hidden,\n",
    "                                     device)\n",
    "        model.load_state_dict(state_dict)\n",
    "        model.to(device)\n",
    "\n",
    "        task_dataset = tasks_datasets[task_name]\n",
    "        test_sampler = dataset.SequentialSampler(indices['test'])\n",
    "        testloader = torch.utils.data.DataLoader(task_dataset,\n",
    "                                                 sampler=test_sampler,\n",
    "                                                 batch_size=batch_size)\n",
    "\n",
    "        numbers = testloader.dataset.numbers.numpy()\n",
    "        numbers = numbers[indices['test']]\n",
    "\n",
    "        _, activations = hooks.get_layer_activations(model,\n",
    "                                                     testloader,\n",
    "                                                     criterion,\n",
    "                                                     device=device,\n",
    "                                                     disable=True)\n",
    "        \n",
    "        task_activations.append(activations)\n",
    "        task_numbers.append(numbers)\n",
    "\n",
    "    mean_activations = get_mean_activations(task_activations,\n",
    "                                            num_hidden,\n",
    "                                            list_labels=task_numbers,\n",
    "                                            tasks_names=tasks_names)\n",
    "\n",
    "    rdm_dict = calculate_sm(mean_activations,\n",
    "                            tasks_names=tasks_names)\n",
    "\n",
    "    list_sm_5.append(rdm_dict)\n",
    "    mean_activations_5.append(mean_activations)"
   ]
  },
  {
   "cell_type": "code",
   "execution_count": 15,
   "metadata": {},
   "outputs": [],
   "source": [
    "parent_pickle = os.path.dirname(path_pickle_2)\n",
    "\n",
    "if not os.path.exists(parent_pickle):\n",
    "    os.makedirs(parent_pickle)\n",
    "\n",
    "with open(path_pickle_2, 'wb') as f:\n",
    "    pickle.dump(mean_activations_2, f, protocol=pickle.HIGHEST_PROTOCOL)\n",
    "\n",
    "with open(path_pickle_5, 'wb') as f:\n",
    "    pickle.dump(mean_activations_5, f, protocol=pickle.HIGHEST_PROTOCOL)"
   ]
  },
  {
   "cell_type": "code",
   "execution_count": 16,
   "metadata": {},
   "outputs": [
    {
     "data": {
      "image/png": "[encoded data removed]",
      "text/plain": [
       "<Figure size 1000x400 with 10 Axes>"
      ]
     },
     "metadata": {},
     "output_type": "display_data"
    }
   ],
   "source": [
    "mean_sm_2 = {}\n",
    "mean_sm_5 = {}\n",
    "\n",
    "for layer in range(num_layers):\n",
    "    mean_sm_2[layer+1] = np.zeros((20, 20))\n",
    "    for rdm in list_sm_2:\n",
    "        mean_sm_2[layer+1] += rdm[layer+1]\n",
    "    mean_sm_2[layer+1] /= num_runs\n",
    "\n",
    "for layer in range(num_layers):\n",
    "    mean_sm_5[layer+1] = np.zeros((20, 20))\n",
    "    for rdm in list_sm_5:\n",
    "        mean_sm_5[layer+1] += rdm[layer+1][:20, :20]\n",
    "    mean_sm_5[layer+1] /= num_runs\n",
    "\n",
    "fig, ax = plt.subplots(2, num_layers, figsize=(2 * num_layers, 4))\n",
    "plot_sm(ax[0], mean_sm_2, num_hidden)\n",
    "plot_sm(ax[1], mean_sm_5, num_hidden)\n",
    "fig.tight_layout()\n",
    "fig.savefig(path_figure)\n",
    "plt.show()"
   ]
  }
 ],
 "metadata": {
  "kernelspec": {
   "display_name": "Python 3",
   "language": "python",
   "name": "python3"
  },
  "language_info": {
   "codemirror_mode": {
    "name": "ipython",
    "version": 3
   },
   "file_extension": ".py",
   "mimetype": "text/x-python",
   "name": "python",
   "nbconvert_exporter": "python",
   "pygments_lexer": "ipython3",
   "version": "3.8.10"
  }
 },
 "nbformat": 4,
 "nbformat_minor": 2
}
