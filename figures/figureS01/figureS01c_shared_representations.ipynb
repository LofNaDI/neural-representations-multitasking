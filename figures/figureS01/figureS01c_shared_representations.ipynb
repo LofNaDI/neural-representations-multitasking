{
 "cells": [
  {
   "cell_type": "code",
   "execution_count": 1,
   "metadata": {},
   "outputs": [],
   "source": [
    "import os\n",
    "import pickle\n",
    "\n",
    "import matplotlib.pyplot as plt\n",
    "import numpy as np\n",
    "import pandas as pd\n",
    "import seaborn as sns\n",
    "\n",
    "from multitask.representations import calculate_representations"
   ]
  },
  {
   "cell_type": "code",
   "execution_count": 2,
   "metadata": {},
   "outputs": [],
   "source": [
    "plt.style.use('../style/plots.mplstyle')"
   ]
  },
  {
   "cell_type": "code",
   "execution_count": 3,
   "metadata": {},
   "outputs": [],
   "source": [
    "path_data = os.path.join('..', '..', 'data')\n",
    "path_rdm_individual = os.path.join('pickle', f'sm_individual.pickle')\n",
    "path_rdm_parallel = os.path.join('pickle', f'sm_parallel.pickle')\n",
    "path_rdm_all = os.path.join('pickle', f'sm_task_switching.pickle')"
   ]
  },
  {
   "cell_type": "code",
   "execution_count": 4,
   "metadata": {},
   "outputs": [],
   "source": [
    "path_figure = os.path.join('svg', 'figureS01c_shared_representations.svg')"
   ]
  },
  {
   "cell_type": "code",
   "execution_count": 5,
   "metadata": {},
   "outputs": [
    {
     "ename": "FileNotFoundError",
     "evalue": "[Errno 2] No such file or directory: 'pickle/sm_individual.pickle'",
     "output_type": "error",
     "traceback": [
      "\u001b[0;31m---------------------------------------------------------------------------\u001b[0m",
      "\u001b[0;31mFileNotFoundError\u001b[0m                         Traceback (most recent call last)",
      "Cell \u001b[0;32mIn[5], line 1\u001b[0m\n\u001b[0;32m----> 1\u001b[0m \u001b[38;5;28;01mwith\u001b[39;00m \u001b[38;5;28;43mopen\u001b[39;49m\u001b[43m(\u001b[49m\u001b[43mpath_rdm_individual\u001b[49m\u001b[43m,\u001b[49m\u001b[43m \u001b[49m\u001b[38;5;124;43m'\u001b[39;49m\u001b[38;5;124;43mrb\u001b[39;49m\u001b[38;5;124;43m'\u001b[39;49m\u001b[43m)\u001b[49m \u001b[38;5;28;01mas\u001b[39;00m handle:\n\u001b[1;32m      2\u001b[0m     list_rdm_individual \u001b[38;5;241m=\u001b[39m pickle\u001b[38;5;241m.\u001b[39mload(handle)\n\u001b[1;32m      4\u001b[0m \u001b[38;5;28;01mwith\u001b[39;00m \u001b[38;5;28mopen\u001b[39m(path_rdm_parallel, \u001b[38;5;124m'\u001b[39m\u001b[38;5;124mrb\u001b[39m\u001b[38;5;124m'\u001b[39m) \u001b[38;5;28;01mas\u001b[39;00m handle:\n",
      "File \u001b[0;32m~/miniconda3/envs/multitask/lib/python3.8/site-packages/IPython/core/interactiveshell.py:284\u001b[0m, in \u001b[0;36m_modified_open\u001b[0;34m(file, *args, **kwargs)\u001b[0m\n\u001b[1;32m    277\u001b[0m \u001b[38;5;28;01mif\u001b[39;00m file \u001b[38;5;129;01min\u001b[39;00m {\u001b[38;5;241m0\u001b[39m, \u001b[38;5;241m1\u001b[39m, \u001b[38;5;241m2\u001b[39m}:\n\u001b[1;32m    278\u001b[0m     \u001b[38;5;28;01mraise\u001b[39;00m \u001b[38;5;167;01mValueError\u001b[39;00m(\n\u001b[1;32m    279\u001b[0m         \u001b[38;5;124mf\u001b[39m\u001b[38;5;124m\"\u001b[39m\u001b[38;5;124mIPython won\u001b[39m\u001b[38;5;124m'\u001b[39m\u001b[38;5;124mt let you open fd=\u001b[39m\u001b[38;5;132;01m{\u001b[39;00mfile\u001b[38;5;132;01m}\u001b[39;00m\u001b[38;5;124m by default \u001b[39m\u001b[38;5;124m\"\u001b[39m\n\u001b[1;32m    280\u001b[0m         \u001b[38;5;124m\"\u001b[39m\u001b[38;5;124mas it is likely to crash IPython. If you know what you are doing, \u001b[39m\u001b[38;5;124m\"\u001b[39m\n\u001b[1;32m    281\u001b[0m         \u001b[38;5;124m\"\u001b[39m\u001b[38;5;124myou can use builtins\u001b[39m\u001b[38;5;124m'\u001b[39m\u001b[38;5;124m open.\u001b[39m\u001b[38;5;124m\"\u001b[39m\n\u001b[1;32m    282\u001b[0m     )\n\u001b[0;32m--> 284\u001b[0m \u001b[38;5;28;01mreturn\u001b[39;00m \u001b[43mio_open\u001b[49m\u001b[43m(\u001b[49m\u001b[43mfile\u001b[49m\u001b[43m,\u001b[49m\u001b[43m \u001b[49m\u001b[38;5;241;43m*\u001b[39;49m\u001b[43margs\u001b[49m\u001b[43m,\u001b[49m\u001b[43m \u001b[49m\u001b[38;5;241;43m*\u001b[39;49m\u001b[38;5;241;43m*\u001b[39;49m\u001b[43mkwargs\u001b[49m\u001b[43m)\u001b[49m\n",
      "\u001b[0;31mFileNotFoundError\u001b[0m: [Errno 2] No such file or directory: 'pickle/sm_individual.pickle'"
     ]
    }
   ],
   "source": [
    "with open(path_rdm_individual, 'rb') as handle:\n",
    "    list_rdm_individual = pickle.load(handle)\n",
    "\n",
    "with open(path_rdm_parallel, 'rb') as handle:\n",
    "    list_rdm_parallel = pickle.load(handle)\n",
    "\n",
    "with open(path_rdm_all, 'rb') as handle:\n",
    "    list_rdm_all = pickle.load(handle)"
   ]
  },
  {
   "cell_type": "code",
   "execution_count": null,
   "metadata": {},
   "outputs": [
    {
     "name": "stdout",
     "output_type": "stream",
     "text": [
      "Num. Seeds: 10\n",
      "Num. Layers: 5\n",
      "Num. Tasks: 2\n"
     ]
    }
   ],
   "source": [
    "num_inputs = 26\n",
    "\n",
    "assert len(list_rdm_individual) == len(list_rdm_parallel) == len(list_rdm_all)\n",
    "assert len(list_rdm_individual[0]) == len(list_rdm_parallel[0]) == len(list_rdm_all[0])\n",
    "assert len(list_rdm_individual[0][1]) == len(list_rdm_parallel[0][1]) == len(list_rdm_all[0][1])\n",
    "assert len(list_rdm_individual[0][1]) % num_inputs == 0\n",
    "\n",
    "num_seeds = len(list_rdm_individual)\n",
    "num_layers = len(list_rdm_individual[0])\n",
    "num_tasks = len(list_rdm_individual[0][1]) // num_inputs\n",
    "\n",
    "print(f'Num. Seeds: {num_seeds}')\n",
    "print(f'Num. Layers: {num_layers}')\n",
    "print(f'Num. Tasks: {num_tasks}')"
   ]
  },
  {
   "cell_type": "code",
   "execution_count": null,
   "metadata": {},
   "outputs": [],
   "source": [
    "shared_individual = np.zeros((num_seeds, num_layers))\n",
    "shared_parallel = np.zeros((num_seeds, num_layers))\n",
    "shared_all = np.zeros((num_seeds, num_layers))\n",
    "\n",
    "self_individual = np.zeros((num_seeds, num_layers))\n",
    "self_parallel = np.zeros((num_seeds, num_layers))\n",
    "self_all = np.zeros((num_seeds, num_layers))"
   ]
  },
  {
   "cell_type": "code",
   "execution_count": null,
   "metadata": {},
   "outputs": [],
   "source": [
    "for i_seed, seed in enumerate(range(num_seeds)):\n",
    "    dict_seed_individual = calculate_representations(list_rdm_individual[i_seed], num_inputs, num_tasks)\n",
    "    dict_seed_parallel = calculate_representations(list_rdm_parallel[i_seed], num_inputs, num_tasks)\n",
    "    dict_seed_all = calculate_representations(list_rdm_all[i_seed], num_inputs, num_tasks)\n",
    "\n",
    "    shared_individual[i_seed, :] = dict_seed_individual['shared']\n",
    "    shared_parallel[i_seed, :] = dict_seed_parallel['shared']\n",
    "    shared_all[i_seed, :] = dict_seed_all['shared']\n",
    "\n",
    "    self_individual[i_seed, :] = dict_seed_individual['self']\n",
    "    self_parallel[i_seed, :] = dict_seed_parallel['self']\n",
    "    self_all[i_seed, :] = dict_seed_all['self']"
   ]
  },
  {
   "cell_type": "code",
   "execution_count": null,
   "metadata": {},
   "outputs": [],
   "source": [
    "df_results_shared = pd.DataFrame({}, columns=['Model', 'Layer', 'Representations'])\n",
    "\n",
    "for i_seed, seed in enumerate(range(num_seeds)):\n",
    "    for j_layer, layer in enumerate(range(num_layers)):\n",
    "        df_results_individual = pd.DataFrame({'Model': ['Sequential'], 'Layer': [layer + 1], 'Representations': [shared_individual[i_seed, j_layer]]})\n",
    "        df_results_parallel = pd.DataFrame({'Model': ['Parallel'], 'Layer': [layer + 1], 'Representations': [shared_parallel[i_seed, j_layer]]})\n",
    "        df_results_ts = pd.DataFrame({'Model': ['Task-Switching'], 'Layer': [layer + 1], 'Representations': [shared_all[i_seed, j_layer]]})\n",
    "\n",
    "        df_results_shared = pd.concat((df_results_shared, df_results_individual, df_results_parallel, df_results_ts))        \n",
    "df_results_shared.reset_index(inplace=True, drop=True)"
   ]
  },
  {
   "cell_type": "code",
   "execution_count": null,
   "metadata": {},
   "outputs": [
    {
     "data": {
      "image/png": "[encoded data removed]",
      "text/plain": [
       "<Figure size 600x400 with 1 Axes>"
      ]
     },
     "metadata": {},
     "output_type": "display_data"
    }
   ],
   "source": [
    "fig, ax = plt.subplots(figsize=(6, 4))\n",
    "\n",
    "barplot = sns.barplot(x='Layer',\n",
    "                      y='Representations',\n",
    "                      hue='Model',\n",
    "                      data=df_results_shared,\n",
    "                      ci='sd',\n",
    "                      ax=ax,\n",
    "                      errwidth=2,\n",
    "                      capsize=0.1,\n",
    "                      zorder=-1,\n",
    "                      errcolor='k',\n",
    "                      error_kw={'zorder': 10})\n",
    "\n",
    "plt.ylabel('Shared Representations', fontsize=16)\n",
    "plt.xlabel('Layer', fontsize=16)\n",
    "plt.xticks(fontsize=14)\n",
    "plt.yticks(fontsize=14)\n",
    "plt.ylim(0, 0.6)\n",
    "plt.gca().lines[-1].set_zorder(10)\n",
    "\n",
    "# handles, labels = ax.get_legend_handles_labels()\n",
    "ax.legend(loc='best')\n",
    "fig.savefig(path_figure,\n",
    "            transparent=True,\n",
    "            bbox_inches='tight')\n",
    "plt.show()"
   ]
  }
 ],
 "metadata": {
  "kernelspec": {
   "display_name": "Python 3",
   "language": "python",
   "name": "python3"
  },
  "language_info": {
   "codemirror_mode": {
    "name": "ipython",
    "version": 3
   },
   "file_extension": ".py",
   "mimetype": "text/x-python",
   "name": "python",
   "nbconvert_exporter": "python",
   "pygments_lexer": "ipython3",
   "version": "3.8.10"
  },
  "orig_nbformat": 4
 },
 "nbformat": 4,
 "nbformat_minor": 2
}
